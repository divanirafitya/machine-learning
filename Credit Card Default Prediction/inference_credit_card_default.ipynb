{
 "cells": [
  {
   "cell_type": "markdown",
   "metadata": {},
   "source": [
    "---\n",
    "\n",
    "Name: Divani Rafitya\n",
    "\n",
    "---"
   ]
  },
  {
   "cell_type": "code",
   "execution_count": 1,
   "metadata": {},
   "outputs": [],
   "source": [
    "# import library\n",
    "import pandas as pd\n",
    "import numpy as np\n",
    "import pickle"
   ]
  },
  {
   "cell_type": "code",
   "execution_count": 2,
   "metadata": {},
   "outputs": [],
   "source": [
    "# load files\n",
    "with open('svm_gridcv_best.pkl', 'rb') as file_1:\n",
    "  model = pickle.load(file_1)"
   ]
  },
  {
   "cell_type": "code",
   "execution_count": 3,
   "metadata": {},
   "outputs": [
    {
     "data": {
      "text/html": [
       "<div>\n",
       "<style scoped>\n",
       "    .dataframe tbody tr th:only-of-type {\n",
       "        vertical-align: middle;\n",
       "    }\n",
       "\n",
       "    .dataframe tbody tr th {\n",
       "        vertical-align: top;\n",
       "    }\n",
       "\n",
       "    .dataframe thead th {\n",
       "        text-align: right;\n",
       "    }\n",
       "</style>\n",
       "<table border=\"1\" class=\"dataframe\">\n",
       "  <thead>\n",
       "    <tr style=\"text-align: right;\">\n",
       "      <th></th>\n",
       "      <th>limit_balance</th>\n",
       "      <th>sex</th>\n",
       "      <th>education_level</th>\n",
       "      <th>marital_status</th>\n",
       "      <th>age</th>\n",
       "      <th>pay_0</th>\n",
       "      <th>pay_2</th>\n",
       "      <th>pay_3</th>\n",
       "      <th>pay_4</th>\n",
       "      <th>pay_5</th>\n",
       "      <th>...</th>\n",
       "      <th>bill_amt_3</th>\n",
       "      <th>bill_amt_4</th>\n",
       "      <th>bill_amt_5</th>\n",
       "      <th>bill_amt_6</th>\n",
       "      <th>pay_amt_1</th>\n",
       "      <th>pay_amt_2</th>\n",
       "      <th>pay_amt_3</th>\n",
       "      <th>pay_amt_4</th>\n",
       "      <th>pay_amt_5</th>\n",
       "      <th>pay_amt_6</th>\n",
       "    </tr>\n",
       "  </thead>\n",
       "  <tbody>\n",
       "    <tr>\n",
       "      <th>0</th>\n",
       "      <td>100000</td>\n",
       "      <td>1</td>\n",
       "      <td>1</td>\n",
       "      <td>2</td>\n",
       "      <td>30</td>\n",
       "      <td>1</td>\n",
       "      <td>-1</td>\n",
       "      <td>2</td>\n",
       "      <td>-2</td>\n",
       "      <td>0</td>\n",
       "      <td>...</td>\n",
       "      <td>70000</td>\n",
       "      <td>50000</td>\n",
       "      <td>60000</td>\n",
       "      <td>70000</td>\n",
       "      <td>40000</td>\n",
       "      <td>50000</td>\n",
       "      <td>60000</td>\n",
       "      <td>70000</td>\n",
       "      <td>80000</td>\n",
       "      <td>30000</td>\n",
       "    </tr>\n",
       "  </tbody>\n",
       "</table>\n",
       "<p>1 rows × 23 columns</p>\n",
       "</div>"
      ],
      "text/plain": [
       "   limit_balance  sex  education_level  marital_status  age  pay_0  pay_2  \\\n",
       "0         100000    1                1               2   30      1     -1   \n",
       "\n",
       "   pay_3  pay_4  pay_5  ...  bill_amt_3  bill_amt_4  bill_amt_5  bill_amt_6  \\\n",
       "0      2     -2      0  ...       70000       50000       60000       70000   \n",
       "\n",
       "   pay_amt_1  pay_amt_2  pay_amt_3  pay_amt_4  pay_amt_5  pay_amt_6  \n",
       "0      40000      50000      60000      70000      80000      30000  \n",
       "\n",
       "[1 rows x 23 columns]"
      ]
     },
     "execution_count": 3,
     "metadata": {},
     "output_type": "execute_result"
    }
   ],
   "source": [
    "# create new data\n",
    "df_inf = {\n",
    "    'limit_balance': 100000,\n",
    "    'sex': 1,\n",
    "    'education_level': 1,\n",
    "    'marital_status': 2,\n",
    "    'age': 30,    \n",
    "    'pay_0': 1,\n",
    "    'pay_2': -1,\n",
    "    'pay_3': 2,\n",
    "    'pay_4': -2,\n",
    "    'pay_5': 0,\n",
    "    'pay_6': 0,\n",
    "    'bill_amt_1': 50000,\n",
    "    'bill_amt_2': 60000,\n",
    "    'bill_amt_3': 70000,\n",
    "    'bill_amt_4': 50000,\n",
    "    'bill_amt_5': 60000,\n",
    "    'bill_amt_6': 70000,\n",
    "    'pay_amt_1': 40000,\n",
    "    'pay_amt_2': 50000,\n",
    "    'pay_amt_3': 60000,\n",
    "    'pay_amt_4': 70000,\n",
    "    'pay_amt_5': 80000,\n",
    "    'pay_amt_6': 30000\n",
    "}\n",
    "\n",
    "df_inf = pd.DataFrame([df_inf])\n",
    "df_inf"
   ]
  },
  {
   "cell_type": "code",
   "execution_count": 4,
   "metadata": {},
   "outputs": [
    {
     "name": "stdout",
     "output_type": "stream",
     "text": [
      "Customer kemungkinan diprediksi akan berhasil membayar tagihan kartu kredit bulan berikutnya.\n"
     ]
    }
   ],
   "source": [
    "# print result\n",
    "predict = model.predict(df_inf)\n",
    "\n",
    "for i in predict:\n",
    "    if i == 0:\n",
    "        print('Customer kemungkinan diprediksi akan berhasil membayar tagihan kartu kredit bulan berikutnya.')\n",
    "    else:\n",
    "        print('Customer kemungkinan diprediksi tidak dapat membayar tagihan kartu kredit bulan berikutnya.')"
   ]
  }
 ],
 "metadata": {
  "kernelspec": {
   "display_name": "Python 3",
   "language": "python",
   "name": "python3"
  },
  "language_info": {
   "codemirror_mode": {
    "name": "ipython",
    "version": 3
   },
   "file_extension": ".py",
   "mimetype": "text/x-python",
   "name": "python",
   "nbconvert_exporter": "python",
   "pygments_lexer": "ipython3",
   "version": "3.11.7"
  }
 },
 "nbformat": 4,
 "nbformat_minor": 2
}
