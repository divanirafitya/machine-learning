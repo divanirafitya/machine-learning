{
 "cells": [
  {
   "cell_type": "markdown",
   "metadata": {},
   "source": [
    "---\n",
    "\n",
    "Name: Divani Rafitya\n",
    "- [Dataset](https://www.kaggle.com/datasets/iammustafatz/diabetes-prediction-dataset/data)\n",
    "- [Hugging Face](https://huggingface.co/spaces/divanirafitya/diabetes_prediction)\n",
    "\n",
    "---"
   ]
  },
  {
   "cell_type": "markdown",
   "metadata": {},
   "source": [
    "## Business Understanding"
   ]
  },
  {
   "cell_type": "markdown",
   "metadata": {},
   "source": [
    "From the dataset taken from Kaggle, the dataset shows patients' medical history data from a hospital, such as age, gender, body mass index (BMI), hypertension, heart disease, smoking history, HbA1c levels, and blood glucose levels. As a data scientist, I am asked to identify patients who may be at risk of developing diabetes based on the patient's medical history to provide an appropriate treatment plan and minimize a condition where the patient may have diabetes despite negative test results.\n",
    "\n",
    "Therefore, an objective is formed to be able to predict whether a patient is at risk of developing diabetes or not developing diabetes based on the patient's medical history, which will be useful for providing a treatment plan that suits each patient's condition.\n",
    "\n",
    "Therefore, I created a machine learning model to be able to identify patients who may be at risk of developing diabetes. This machine learning model will compare several classification models to prevent overfitting, which are KNeighborsClassifier (KNN), Support Vector Machine (SVM), DecisionTreeClassifier, RandomForestClassifier, AdaBoostClassifier, and XGBClassifier to determine which model is the best because each model has unique strengths. By using all six models, it will helps us understand the data better and reduces dependence on just one model.\n",
    "\n",
    "Metrics classification will use the Recall Score considering that False Negatives are important to minimize, where false positives are conditions when the patient may have diabetes (testing positive) despite negative test results. This aims to ensure that patients receive appropriate treatment to prevent future health risks."
   ]
  },
  {
   "cell_type": "markdown",
   "metadata": {},
   "source": [
    "## Import Libraries"
   ]
  },
  {
   "cell_type": "code",
   "execution_count": 1,
   "metadata": {},
   "outputs": [],
   "source": [
    "# import library\n",
    "import pandas as pd\n",
    "import numpy as np\n",
    "import matplotlib.pyplot as plt\n",
    "import seaborn as sns\n",
    "import pickle\n",
    "\n",
    "# import feature engineering\n",
    "from sklearn.model_selection import train_test_split\n",
    "from feature_engine.outliers import Winsorizer\n",
    "import phik\n",
    "from imblearn.over_sampling import SMOTENC\n",
    "from sklearn.compose import ColumnTransformer\n",
    "from sklearn.preprocessing import MinMaxScaler, StandardScaler, OneHotEncoder\n",
    "from sklearn.pipeline import make_pipeline\n",
    "from sklearn.model_selection import cross_val_score\n",
    "\n",
    "# import model\n",
    "from sklearn.neighbors import KNeighborsClassifier\n",
    "from sklearn.svm import SVC\n",
    "from sklearn.tree import DecisionTreeClassifier\n",
    "from sklearn.ensemble import RandomForestClassifier\n",
    "from sklearn.ensemble import AdaBoostClassifier\n",
    "from xgboost import XGBClassifier\n",
    "from sklearn.metrics import classification_report, confusion_matrix, ConfusionMatrixDisplay, recall_score\n",
    "\n",
    "# import hyperparameter tuning\n",
    "from sklearn.model_selection import GridSearchCV\n",
    "\n",
    "# import warnings\n",
    "import warnings\n",
    "warnings.filterwarnings('ignore')"
   ]
  },
  {
   "cell_type": "markdown",
   "metadata": {},
   "source": [
    "## Data Loading"
   ]
  },
  {
   "cell_type": "code",
   "execution_count": 2,
   "metadata": {},
   "outputs": [],
   "source": [
    "# loading dataset from .csv file to pandas dataframe\n",
    "df_ori = pd.read_csv('diabetes_prediction_dataset.csv')\n",
    "pd.set_option('display.max_columns',None) #display all columns"
   ]
  },
  {
   "cell_type": "code",
   "execution_count": 3,
   "metadata": {},
   "outputs": [],
   "source": [
    "# duplicate original dataset\n",
    "df = df_ori.copy()"
   ]
  },
  {
   "cell_type": "code",
   "execution_count": 4,
   "metadata": {},
   "outputs": [
    {
     "data": {
      "text/html": [
       "<div>\n",
       "<style scoped>\n",
       "    .dataframe tbody tr th:only-of-type {\n",
       "        vertical-align: middle;\n",
       "    }\n",
       "\n",
       "    .dataframe tbody tr th {\n",
       "        vertical-align: top;\n",
       "    }\n",
       "\n",
       "    .dataframe thead th {\n",
       "        text-align: right;\n",
       "    }\n",
       "</style>\n",
       "<table border=\"1\" class=\"dataframe\">\n",
       "  <thead>\n",
       "    <tr style=\"text-align: right;\">\n",
       "      <th></th>\n",
       "      <th>gender</th>\n",
       "      <th>age</th>\n",
       "      <th>hypertension</th>\n",
       "      <th>heart_disease</th>\n",
       "      <th>smoking_history</th>\n",
       "      <th>bmi</th>\n",
       "      <th>HbA1c_level</th>\n",
       "      <th>blood_glucose_level</th>\n",
       "      <th>diabetes</th>\n",
       "    </tr>\n",
       "  </thead>\n",
       "  <tbody>\n",
       "    <tr>\n",
       "      <th>0</th>\n",
       "      <td>Female</td>\n",
       "      <td>80.0</td>\n",
       "      <td>0</td>\n",
       "      <td>1</td>\n",
       "      <td>never</td>\n",
       "      <td>25.19</td>\n",
       "      <td>6.6</td>\n",
       "      <td>140</td>\n",
       "      <td>0</td>\n",
       "    </tr>\n",
       "    <tr>\n",
       "      <th>1</th>\n",
       "      <td>Female</td>\n",
       "      <td>54.0</td>\n",
       "      <td>0</td>\n",
       "      <td>0</td>\n",
       "      <td>No Info</td>\n",
       "      <td>27.32</td>\n",
       "      <td>6.6</td>\n",
       "      <td>80</td>\n",
       "      <td>0</td>\n",
       "    </tr>\n",
       "    <tr>\n",
       "      <th>2</th>\n",
       "      <td>Male</td>\n",
       "      <td>28.0</td>\n",
       "      <td>0</td>\n",
       "      <td>0</td>\n",
       "      <td>never</td>\n",
       "      <td>27.32</td>\n",
       "      <td>5.7</td>\n",
       "      <td>158</td>\n",
       "      <td>0</td>\n",
       "    </tr>\n",
       "    <tr>\n",
       "      <th>3</th>\n",
       "      <td>Female</td>\n",
       "      <td>36.0</td>\n",
       "      <td>0</td>\n",
       "      <td>0</td>\n",
       "      <td>current</td>\n",
       "      <td>23.45</td>\n",
       "      <td>5.0</td>\n",
       "      <td>155</td>\n",
       "      <td>0</td>\n",
       "    </tr>\n",
       "    <tr>\n",
       "      <th>4</th>\n",
       "      <td>Male</td>\n",
       "      <td>76.0</td>\n",
       "      <td>1</td>\n",
       "      <td>1</td>\n",
       "      <td>current</td>\n",
       "      <td>20.14</td>\n",
       "      <td>4.8</td>\n",
       "      <td>155</td>\n",
       "      <td>0</td>\n",
       "    </tr>\n",
       "    <tr>\n",
       "      <th>5</th>\n",
       "      <td>Female</td>\n",
       "      <td>20.0</td>\n",
       "      <td>0</td>\n",
       "      <td>0</td>\n",
       "      <td>never</td>\n",
       "      <td>27.32</td>\n",
       "      <td>6.6</td>\n",
       "      <td>85</td>\n",
       "      <td>0</td>\n",
       "    </tr>\n",
       "    <tr>\n",
       "      <th>6</th>\n",
       "      <td>Female</td>\n",
       "      <td>44.0</td>\n",
       "      <td>0</td>\n",
       "      <td>0</td>\n",
       "      <td>never</td>\n",
       "      <td>19.31</td>\n",
       "      <td>6.5</td>\n",
       "      <td>200</td>\n",
       "      <td>1</td>\n",
       "    </tr>\n",
       "    <tr>\n",
       "      <th>7</th>\n",
       "      <td>Female</td>\n",
       "      <td>79.0</td>\n",
       "      <td>0</td>\n",
       "      <td>0</td>\n",
       "      <td>No Info</td>\n",
       "      <td>23.86</td>\n",
       "      <td>5.7</td>\n",
       "      <td>85</td>\n",
       "      <td>0</td>\n",
       "    </tr>\n",
       "    <tr>\n",
       "      <th>8</th>\n",
       "      <td>Male</td>\n",
       "      <td>42.0</td>\n",
       "      <td>0</td>\n",
       "      <td>0</td>\n",
       "      <td>never</td>\n",
       "      <td>33.64</td>\n",
       "      <td>4.8</td>\n",
       "      <td>145</td>\n",
       "      <td>0</td>\n",
       "    </tr>\n",
       "    <tr>\n",
       "      <th>9</th>\n",
       "      <td>Female</td>\n",
       "      <td>32.0</td>\n",
       "      <td>0</td>\n",
       "      <td>0</td>\n",
       "      <td>never</td>\n",
       "      <td>27.32</td>\n",
       "      <td>5.0</td>\n",
       "      <td>100</td>\n",
       "      <td>0</td>\n",
       "    </tr>\n",
       "  </tbody>\n",
       "</table>\n",
       "</div>"
      ],
      "text/plain": [
       "   gender   age  hypertension  heart_disease smoking_history    bmi  \\\n",
       "0  Female  80.0             0              1           never  25.19   \n",
       "1  Female  54.0             0              0         No Info  27.32   \n",
       "2    Male  28.0             0              0           never  27.32   \n",
       "3  Female  36.0             0              0         current  23.45   \n",
       "4    Male  76.0             1              1         current  20.14   \n",
       "5  Female  20.0             0              0           never  27.32   \n",
       "6  Female  44.0             0              0           never  19.31   \n",
       "7  Female  79.0             0              0         No Info  23.86   \n",
       "8    Male  42.0             0              0           never  33.64   \n",
       "9  Female  32.0             0              0           never  27.32   \n",
       "\n",
       "   HbA1c_level  blood_glucose_level  diabetes  \n",
       "0          6.6                  140         0  \n",
       "1          6.6                   80         0  \n",
       "2          5.7                  158         0  \n",
       "3          5.0                  155         0  \n",
       "4          4.8                  155         0  \n",
       "5          6.6                   85         0  \n",
       "6          6.5                  200         1  \n",
       "7          5.7                   85         0  \n",
       "8          4.8                  145         0  \n",
       "9          5.0                  100         0  "
      ]
     },
     "execution_count": 4,
     "metadata": {},
     "output_type": "execute_result"
    }
   ],
   "source": [
    "# show first 10 rows as sample\n",
    "df.head(10)"
   ]
  },
  {
   "cell_type": "code",
   "execution_count": 5,
   "metadata": {},
   "outputs": [
    {
     "data": {
      "text/html": [
       "<div>\n",
       "<style scoped>\n",
       "    .dataframe tbody tr th:only-of-type {\n",
       "        vertical-align: middle;\n",
       "    }\n",
       "\n",
       "    .dataframe tbody tr th {\n",
       "        vertical-align: top;\n",
       "    }\n",
       "\n",
       "    .dataframe thead th {\n",
       "        text-align: right;\n",
       "    }\n",
       "</style>\n",
       "<table border=\"1\" class=\"dataframe\">\n",
       "  <thead>\n",
       "    <tr style=\"text-align: right;\">\n",
       "      <th></th>\n",
       "      <th>gender</th>\n",
       "      <th>age</th>\n",
       "      <th>hypertension</th>\n",
       "      <th>heart_disease</th>\n",
       "      <th>smoking_history</th>\n",
       "      <th>bmi</th>\n",
       "      <th>HbA1c_level</th>\n",
       "      <th>blood_glucose_level</th>\n",
       "      <th>diabetes</th>\n",
       "    </tr>\n",
       "  </thead>\n",
       "  <tbody>\n",
       "    <tr>\n",
       "      <th>99990</th>\n",
       "      <td>Male</td>\n",
       "      <td>39.0</td>\n",
       "      <td>0</td>\n",
       "      <td>0</td>\n",
       "      <td>No Info</td>\n",
       "      <td>27.32</td>\n",
       "      <td>6.1</td>\n",
       "      <td>100</td>\n",
       "      <td>0</td>\n",
       "    </tr>\n",
       "    <tr>\n",
       "      <th>99991</th>\n",
       "      <td>Male</td>\n",
       "      <td>22.0</td>\n",
       "      <td>0</td>\n",
       "      <td>0</td>\n",
       "      <td>current</td>\n",
       "      <td>29.65</td>\n",
       "      <td>6.0</td>\n",
       "      <td>80</td>\n",
       "      <td>0</td>\n",
       "    </tr>\n",
       "    <tr>\n",
       "      <th>99992</th>\n",
       "      <td>Female</td>\n",
       "      <td>26.0</td>\n",
       "      <td>0</td>\n",
       "      <td>0</td>\n",
       "      <td>never</td>\n",
       "      <td>34.34</td>\n",
       "      <td>6.5</td>\n",
       "      <td>160</td>\n",
       "      <td>0</td>\n",
       "    </tr>\n",
       "    <tr>\n",
       "      <th>99993</th>\n",
       "      <td>Female</td>\n",
       "      <td>40.0</td>\n",
       "      <td>0</td>\n",
       "      <td>0</td>\n",
       "      <td>never</td>\n",
       "      <td>40.69</td>\n",
       "      <td>3.5</td>\n",
       "      <td>155</td>\n",
       "      <td>0</td>\n",
       "    </tr>\n",
       "    <tr>\n",
       "      <th>99994</th>\n",
       "      <td>Female</td>\n",
       "      <td>36.0</td>\n",
       "      <td>0</td>\n",
       "      <td>0</td>\n",
       "      <td>No Info</td>\n",
       "      <td>24.60</td>\n",
       "      <td>4.8</td>\n",
       "      <td>145</td>\n",
       "      <td>0</td>\n",
       "    </tr>\n",
       "    <tr>\n",
       "      <th>99995</th>\n",
       "      <td>Female</td>\n",
       "      <td>80.0</td>\n",
       "      <td>0</td>\n",
       "      <td>0</td>\n",
       "      <td>No Info</td>\n",
       "      <td>27.32</td>\n",
       "      <td>6.2</td>\n",
       "      <td>90</td>\n",
       "      <td>0</td>\n",
       "    </tr>\n",
       "    <tr>\n",
       "      <th>99996</th>\n",
       "      <td>Female</td>\n",
       "      <td>2.0</td>\n",
       "      <td>0</td>\n",
       "      <td>0</td>\n",
       "      <td>No Info</td>\n",
       "      <td>17.37</td>\n",
       "      <td>6.5</td>\n",
       "      <td>100</td>\n",
       "      <td>0</td>\n",
       "    </tr>\n",
       "    <tr>\n",
       "      <th>99997</th>\n",
       "      <td>Male</td>\n",
       "      <td>66.0</td>\n",
       "      <td>0</td>\n",
       "      <td>0</td>\n",
       "      <td>former</td>\n",
       "      <td>27.83</td>\n",
       "      <td>5.7</td>\n",
       "      <td>155</td>\n",
       "      <td>0</td>\n",
       "    </tr>\n",
       "    <tr>\n",
       "      <th>99998</th>\n",
       "      <td>Female</td>\n",
       "      <td>24.0</td>\n",
       "      <td>0</td>\n",
       "      <td>0</td>\n",
       "      <td>never</td>\n",
       "      <td>35.42</td>\n",
       "      <td>4.0</td>\n",
       "      <td>100</td>\n",
       "      <td>0</td>\n",
       "    </tr>\n",
       "    <tr>\n",
       "      <th>99999</th>\n",
       "      <td>Female</td>\n",
       "      <td>57.0</td>\n",
       "      <td>0</td>\n",
       "      <td>0</td>\n",
       "      <td>current</td>\n",
       "      <td>22.43</td>\n",
       "      <td>6.6</td>\n",
       "      <td>90</td>\n",
       "      <td>0</td>\n",
       "    </tr>\n",
       "  </tbody>\n",
       "</table>\n",
       "</div>"
      ],
      "text/plain": [
       "       gender   age  hypertension  heart_disease smoking_history    bmi  \\\n",
       "99990    Male  39.0             0              0         No Info  27.32   \n",
       "99991    Male  22.0             0              0         current  29.65   \n",
       "99992  Female  26.0             0              0           never  34.34   \n",
       "99993  Female  40.0             0              0           never  40.69   \n",
       "99994  Female  36.0             0              0         No Info  24.60   \n",
       "99995  Female  80.0             0              0         No Info  27.32   \n",
       "99996  Female   2.0             0              0         No Info  17.37   \n",
       "99997    Male  66.0             0              0          former  27.83   \n",
       "99998  Female  24.0             0              0           never  35.42   \n",
       "99999  Female  57.0             0              0         current  22.43   \n",
       "\n",
       "       HbA1c_level  blood_glucose_level  diabetes  \n",
       "99990          6.1                  100         0  \n",
       "99991          6.0                   80         0  \n",
       "99992          6.5                  160         0  \n",
       "99993          3.5                  155         0  \n",
       "99994          4.8                  145         0  \n",
       "99995          6.2                   90         0  \n",
       "99996          6.5                  100         0  \n",
       "99997          5.7                  155         0  \n",
       "99998          4.0                  100         0  \n",
       "99999          6.6                   90         0  "
      ]
     },
     "execution_count": 5,
     "metadata": {},
     "output_type": "execute_result"
    }
   ],
   "source": [
    "# show last 10 rows as sample\n",
    "df.tail(10)"
   ]
  },
  {
   "cell_type": "code",
   "execution_count": 6,
   "metadata": {},
   "outputs": [
    {
     "name": "stdout",
     "output_type": "stream",
     "text": [
      "<class 'pandas.core.frame.DataFrame'>\n",
      "RangeIndex: 100000 entries, 0 to 99999\n",
      "Data columns (total 9 columns):\n",
      " #   Column               Non-Null Count   Dtype  \n",
      "---  ------               --------------   -----  \n",
      " 0   gender               100000 non-null  object \n",
      " 1   age                  100000 non-null  float64\n",
      " 2   hypertension         100000 non-null  int64  \n",
      " 3   heart_disease        100000 non-null  int64  \n",
      " 4   smoking_history      100000 non-null  object \n",
      " 5   bmi                  100000 non-null  float64\n",
      " 6   HbA1c_level          100000 non-null  float64\n",
      " 7   blood_glucose_level  100000 non-null  int64  \n",
      " 8   diabetes             100000 non-null  int64  \n",
      "dtypes: float64(3), int64(4), object(2)\n",
      "memory usage: 6.9+ MB\n"
     ]
    }
   ],
   "source": [
    "# show dataframe summary\n",
    "df.info()"
   ]
  },
  {
   "cell_type": "markdown",
   "metadata": {},
   "source": [
    "Based on the information provided, below are the details about each column:\n",
    "- The dataset contains 4 numerical columns: 'age', 'bmi', 'HbA1c_level', and 'blood_glucose_level'.\n",
    "- The dataset includes 4 categorical nominal columns: 'gender', 'hypertension', 'heart_disease', and 'diabetes', where the values do not have a specified order.\n",
    "- The dataset features 1 categorical ordinal column: 'smoking_history', where the values have a specified order."
   ]
  },
  {
   "cell_type": "code",
   "execution_count": 7,
   "metadata": {},
   "outputs": [
    {
     "data": {
      "text/plain": [
       "gender                 0\n",
       "age                    0\n",
       "hypertension           0\n",
       "heart_disease          0\n",
       "smoking_history        0\n",
       "bmi                    0\n",
       "HbA1c_level            0\n",
       "blood_glucose_level    0\n",
       "diabetes               0\n",
       "dtype: int64"
      ]
     },
     "execution_count": 7,
     "metadata": {},
     "output_type": "execute_result"
    }
   ],
   "source": [
    "# check missing value in dataset\n",
    "df.isnull().sum()"
   ]
  },
  {
   "cell_type": "code",
   "execution_count": 8,
   "metadata": {},
   "outputs": [
    {
     "data": {
      "text/plain": [
       "3854"
      ]
     },
     "execution_count": 8,
     "metadata": {},
     "output_type": "execute_result"
    }
   ],
   "source": [
    "# check for duplications in dataset\n",
    "df.duplicated().sum()"
   ]
  },
  {
   "cell_type": "markdown",
   "metadata": {},
   "source": [
    "Based on the information above, the insights obtained are as follows:\n",
    "- This dataset consists of `9 columns` with a total of `100000 data entries`.\n",
    "- There is a data type mismatch in the columns `'hypertension', 'heart_disease', and 'diabetes'` where the data type should be categorical/object because the values are encoded as 'Yes' or 'No'. However, the mismatch in data types in these columns does not need to be changed.\n",
    "- There are no missing values ​​in the dataset.\n",
    "- There are `3854 duplicate data` in the dataset.\n",
    "\n",
    "For this reason, dropping duplicate data in data cleaning is necessary for data to be processed."
   ]
  },
  {
   "cell_type": "code",
   "execution_count": 9,
   "metadata": {},
   "outputs": [],
   "source": [
    "# drop data duplicates\n",
    "df = df.drop_duplicates()"
   ]
  },
  {
   "cell_type": "code",
   "execution_count": 10,
   "metadata": {},
   "outputs": [
    {
     "name": "stdout",
     "output_type": "stream",
     "text": [
      "<class 'pandas.core.frame.DataFrame'>\n",
      "Index: 96146 entries, 0 to 99999\n",
      "Data columns (total 9 columns):\n",
      " #   Column               Non-Null Count  Dtype  \n",
      "---  ------               --------------  -----  \n",
      " 0   gender               96146 non-null  object \n",
      " 1   age                  96146 non-null  float64\n",
      " 2   hypertension         96146 non-null  int64  \n",
      " 3   heart_disease        96146 non-null  int64  \n",
      " 4   smoking_history      96146 non-null  object \n",
      " 5   bmi                  96146 non-null  float64\n",
      " 6   HbA1c_level          96146 non-null  float64\n",
      " 7   blood_glucose_level  96146 non-null  int64  \n",
      " 8   diabetes             96146 non-null  int64  \n",
      "dtypes: float64(3), int64(4), object(2)\n",
      "memory usage: 7.3+ MB\n"
     ]
    }
   ],
   "source": [
    "# check dataset\n",
    "df.info()"
   ]
  },
  {
   "cell_type": "markdown",
   "metadata": {},
   "source": [
    "After dropping duplicates, the number of data entries becomes 96146 entries.\n",
    "\n",
    "However, looking at 'smoking_history' column there is a value 'No Info'. This means that there is a missing value in the 'smoking_history' column."
   ]
  },
  {
   "cell_type": "code",
   "execution_count": 11,
   "metadata": {},
   "outputs": [],
   "source": [
    "# change value 'No Info' to Nan on column 'smoking_history'\n",
    "df['smoking_history'] = df['smoking_history'].replace('No Info',np.nan)"
   ]
  },
  {
   "cell_type": "code",
   "execution_count": 12,
   "metadata": {},
   "outputs": [
    {
     "data": {
      "text/plain": [
       "gender                     0\n",
       "age                        0\n",
       "hypertension               0\n",
       "heart_disease              0\n",
       "smoking_history        32887\n",
       "bmi                        0\n",
       "HbA1c_level                0\n",
       "blood_glucose_level        0\n",
       "diabetes                   0\n",
       "dtype: int64"
      ]
     },
     "execution_count": 12,
     "metadata": {},
     "output_type": "execute_result"
    }
   ],
   "source": [
    "# check missing value on dataset\n",
    "df.isnull().sum()"
   ]
  },
  {
   "cell_type": "markdown",
   "metadata": {},
   "source": [
    "In this case, missing value handling will be carried out at the feature engineering because I need to know what type of missing value to determine appropriate handling."
   ]
  },
  {
   "cell_type": "markdown",
   "metadata": {},
   "source": [
    "## Exploratory Data Analysis"
   ]
  },
  {
   "cell_type": "markdown",
   "metadata": {},
   "source": [
    "### First, I want to see the distribution of the number of patients diagnosed with diabetes and without diabetes."
   ]
  },
  {
   "cell_type": "code",
   "execution_count": 13,
   "metadata": {},
   "outputs": [
    {
     "data": {
      "image/png": "[encoded data removed]",
      "text/plain": [
       "<Figure size 500x500 with 1 Axes>"
      ]
     },
     "metadata": {},
     "output_type": "display_data"
    }
   ],
   "source": [
    "# data visualization\n",
    "fig = plt.figure(figsize=(5,5))\n",
    "\n",
    "df['diabetes'].value_counts().plot(kind='pie',autopct='%.2f%%')\n",
    "plt.title('Percentage of Diabetes Presence')\n",
    "plt.legend(labels=['0 = No Diabetes, 1 = Diabetes'])\n",
    "plt.show()"
   ]
  },
  {
   "cell_type": "markdown",
   "metadata": {},
   "source": [
    "Based on the image above, the insight obtained is that the difference between patients diagnosed with diabetes and without diabetes is very significant, with only 8.82% of the total patients having diabetes."
   ]
  },
  {
   "cell_type": "markdown",
   "metadata": {},
   "source": [
    "### Second, I want to see the distribution of the number of diabetes patients based on gender."
   ]
  },
  {
   "cell_type": "markdown",
   "metadata": {},
   "source": [
    "[Reference Link](https://www.google.com/url?sa=t&source=web&rct=j&opi=89978449&url=https://jik.stikesalifah.ac.id/index.php/jurnalkes/article/download/52/pdf%23:~:text%3DBaik%2520pria%2520maupun%2520wanita%2520memiliki,siklus%2520bulanan%2520(premenstrual%2520syindrome).&ved=2ahUKEwiB5vnh4oiHAxWdxzgGHUWBBRAQFnoECBUQAw&usg=AOvVaw2izrAFUt0Mwxt7dX1XrUkJ)"
   ]
  },
  {
   "cell_type": "code",
   "execution_count": 14,
   "metadata": {},
   "outputs": [
    {
     "data": {
      "image/png": "[encoded data removed]",
      "text/plain": [
       "<Figure size 500x500 with 1 Axes>"
      ]
     },
     "metadata": {},
     "output_type": "display_data"
    }
   ],
   "source": [
    "# data visualization\n",
    "fig = plt.figure(figsize=(5,5))\n",
    "\n",
    "sns.countplot(x='gender', hue='diabetes', data=df)\n",
    "plt.title('Gender by Diabetes Presence')\n",
    "plt.legend(labels=['0 = No Diabetes', '1 = Diabetes'])\n",
    "plt.show()"
   ]
  },
  {
   "cell_type": "markdown",
   "metadata": {},
   "source": [
    "Based on the picture above, the insight obtained is gender that dominates is Female for both patients with diabetes and without diabetes. This may indicate that the female gender has a greater risk of diabetes, which usually occurs after menopause due to hormonal changes."
   ]
  },
  {
   "cell_type": "markdown",
   "metadata": {},
   "source": [
    "### Third, I want to see the distribution of the number of diabetes patients based on the medical condition of hypertension."
   ]
  },
  {
   "cell_type": "markdown",
   "metadata": {},
   "source": [
    "[Reference Link](https://www.google.com/url?sa=t&source=web&rct=j&opi=89978449&url=https://www.halodoc.com/artikel/diabetes-bisa-sebabkan-hipertensi-apa-kaitannya&ved=2ahUKEwjiw_vC5YiHAxXZS2wGHSr5CZ4QFnoECC4QAQ&usg=AOvVaw0i0tmU8fapnqx5slveGi4A)"
   ]
  },
  {
   "cell_type": "code",
   "execution_count": 15,
   "metadata": {},
   "outputs": [
    {
     "data": {
      "image/png": "[encoded data removed]",
      "text/plain": [
       "<Figure size 500x500 with 1 Axes>"
      ]
     },
     "metadata": {},
     "output_type": "display_data"
    }
   ],
   "source": [
    "# data visualization\n",
    "fig = plt.figure(figsize=(5,5))\n",
    "\n",
    "sns.countplot(x='hypertension', hue='diabetes', data=df)\n",
    "plt.title('Hypertension by Diabetes Presence')\n",
    "plt.legend(labels=['0 = No Diabetes', '1 = Diabetes'])\n",
    "plt.show()"
   ]
  },
  {
   "cell_type": "markdown",
   "metadata": {},
   "source": [
    "Based on the picture above, the insight obtained is that less than half of the patients with hypertension have diabetes. This indicates that a patient can experience hypertension without having diabetes because hypertension occurs when blood pressure in the arteries continues to increase consistently. On the other hand, patients who have a history of diabetes tend to experience hypertension, which is caused by various factors such as genetics, unhealthy lifestyle, age, overweight or obesity, and environmental factors."
   ]
  },
  {
   "cell_type": "markdown",
   "metadata": {},
   "source": [
    "### Fourth, I want to see the distribution of the number of diabetes patients based on the medical condition of heart disease."
   ]
  },
  {
   "cell_type": "markdown",
   "metadata": {},
   "source": [
    "[Reference Link](https://www.google.com/url?sa=t&source=web&rct=j&opi=89978449&url=https://www.siloamhospitals.com/informasi-siloam/artikel/hubungan-diabetes-dengan-penyakit-jantung&ved=2ahUKEwioicfk5YiHAxV-SWwGHdlADTkQFnoECCIQAQ&usg=AOvVaw2mufWyKBepcT1SnYEs7p3W)"
   ]
  },
  {
   "cell_type": "code",
   "execution_count": 16,
   "metadata": {},
   "outputs": [
    {
     "data": {
      "image/png": "[encoded data removed]",
      "text/plain": [
       "<Figure size 500x500 with 1 Axes>"
      ]
     },
     "metadata": {},
     "output_type": "display_data"
    }
   ],
   "source": [
    "# data visualization\n",
    "fig = plt.figure(figsize=(5,5))\n",
    "\n",
    "sns.countplot(x='heart_disease', hue='diabetes', data=df)\n",
    "plt.title('Heart Disease by Diabetes Presence')\n",
    "plt.legend(labels=['0 = No Diabetes', '1 = Diabetes'])\n",
    "plt.show()"
   ]
  },
  {
   "cell_type": "markdown",
   "metadata": {},
   "source": [
    "Based on the image above, the insight obtained is that the majority of patients do not have a history of heart disease. This indicates that many patients with heart disease do not have diabetes. However, people with diabetes have a higher risk of developing heart disease compared to patients who do not have diabetes."
   ]
  },
  {
   "cell_type": "markdown",
   "metadata": {},
   "source": [
    "### Fifth, I want to see the distribution of diabetes patients based on smoking history."
   ]
  },
  {
   "cell_type": "markdown",
   "metadata": {},
   "source": [
    "[Reference Link](https://sehatnegeriku.kemkes.go.id/baca/blog/20240108/1244621/berhenti-merokok-kurangi-risiko-diabetes/)"
   ]
  },
  {
   "cell_type": "code",
   "execution_count": 17,
   "metadata": {},
   "outputs": [
    {
     "data": {
      "image/png": "[encoded data removed]",
      "text/plain": [
       "<Figure size 1000x500 with 1 Axes>"
      ]
     },
     "metadata": {},
     "output_type": "display_data"
    }
   ],
   "source": [
    "# data visualization\n",
    "fig = plt.figure(figsize=(10,5))\n",
    "\n",
    "sns.countplot(x='smoking_history', hue='diabetes', data=df)\n",
    "plt.title('Smoking History by Diabetes Presence')\n",
    "plt.legend(labels=['0 = No Diabetes', '1 = Diabetes'])\n",
    "plt.show()"
   ]
  },
  {
   "cell_type": "markdown",
   "metadata": {},
   "source": [
    "Based on the image above, the insight obtained is that the majority of patients are included in the category of never smoking based on patients smoking history. This indicates that the majority of patients do not have a high risk for diabetes. This is because smoking can increase a person's risk of diabetes. After all, it can cause the body to become less responsive to the insulin produced (insulin resistance), which will increase the risk of diabetes."
   ]
  },
  {
   "cell_type": "markdown",
   "metadata": {},
   "source": [
    "### Sixth, I want to see the distribution of diabetes patients based on body mass index (BMI)."
   ]
  },
  {
   "cell_type": "markdown",
   "metadata": {},
   "source": [
    "[Reference Link](https://www.google.com/url?sa=t&source=web&rct=j&opi=89978449&url=https://www.siloamhospitals.com/en/informasi-siloam/artikel/cara-menghitung-bmi%23:~:text%3DKategori%2520BMI,-Setelah%2520mengetahui%2520cara%26text%3DAntara%252018%252C5%2520%252D%252024%252C,Di%2520atas%252030%2520berarti%2520obesitas&ved=2ahUKEwi1wL-11YiHAxXKxzgGHeXfAz4QFnoECCEQAw&usg=AOvVaw2eSflJIbDbY4xfJDSsr02Q)"
   ]
  },
  {
   "cell_type": "code",
   "execution_count": 18,
   "metadata": {},
   "outputs": [
    {
     "data": {
      "image/png": "[encoded data removed]",
      "text/plain": [
       "<Figure size 500x500 with 1 Axes>"
      ]
     },
     "metadata": {},
     "output_type": "display_data"
    }
   ],
   "source": [
    "# create list to contain default value\n",
    "lists = []\n",
    "\n",
    "# create looping with for in\n",
    "for i in df.bmi:\n",
    "    bmi = float(i)\n",
    "    if (bmi > 30):\n",
    "        lists.append('Obesity')\n",
    "    elif (25 <= bmi <= 30):\n",
    "        lists.append('Overweight')\n",
    "    elif (18.5 <= bmi < 25):\n",
    "        lists.append('Normal')\n",
    "    elif (bmi < 18.5):\n",
    "        lists.append('Underweight')\n",
    "\n",
    "# create new column\n",
    "df['bmi_cat'] = lists\n",
    "\n",
    "# data visualization\n",
    "fig = plt.figure(figsize=(5,5))\n",
    "\n",
    "df.groupby('bmi_cat')['bmi'].count().plot(kind='bar')\n",
    "plt.title('BMI Category')\n",
    "plt.legend()\n",
    "plt.show()"
   ]
  },
  {
   "cell_type": "markdown",
   "metadata": {},
   "source": [
    "Based on the image above, the insight obtained is that many patients are included in the Overweight and Obesity categories based on body mass index (BMI). This indicates that patients in these two categories are at high risk for diabetes because excessive body fat can interfere with the body's ability to use insulin effectively (insulin resistance), which will increase the risk of diabetes."
   ]
  },
  {
   "cell_type": "markdown",
   "metadata": {},
   "source": [
    "### Furthermore, I want to see the distribution of diabetes patients based on the patient's average blood sugar over the last 2-3 months ('HbA1c_level')."
   ]
  },
  {
   "cell_type": "markdown",
   "metadata": {},
   "source": [
    "[Reference Link](https://www.google.com/url?sa=t&source=web&rct=j&opi=89978449&url=https://www.ncbi.nlm.nih.gov/books/NBK549816/%23:~:text%3DFor%2520an%2520HbA1c%2520test%2520to,HbA1c%2520of%25206.5%2525%2520or%2520higher.&ved=2ahUKEwiJ7PTH1oiHAxV-XmwGHcnWC40QFnoECBkQAw&usg=AOvVaw2E6gyFN7xuygJCOBhfBOCd)"
   ]
  },
  {
   "cell_type": "code",
   "execution_count": 19,
   "metadata": {},
   "outputs": [
    {
     "data": {
      "image/png": "[encoded data removed]",
      "text/plain": [
       "<Figure size 500x500 with 1 Axes>"
      ]
     },
     "metadata": {},
     "output_type": "display_data"
    }
   ],
   "source": [
    "# create list to contain default value\n",
    "lists = []\n",
    "\n",
    "# create looping with for in\n",
    "for i in df.HbA1c_level:\n",
    "    HbA1c_level = float(i)\n",
    "    if (HbA1c_level >= 6.5):\n",
    "        lists.append('Diabetes')\n",
    "    elif (5.7 <= HbA1c_level < 6.5):\n",
    "        lists.append('Prediabetes')\n",
    "    elif (HbA1c_level < 5.7):\n",
    "        lists.append('Normal')\n",
    "\n",
    "# create new column\n",
    "df['HbA1c_level_cat'] = lists\n",
    "\n",
    "# data visualization\n",
    "fig = plt.figure(figsize=(5,5))\n",
    "\n",
    "df.groupby('HbA1c_level_cat')['HbA1c_level'].count().plot(kind='bar')\n",
    "plt.title('HbA1c Level Category')\n",
    "plt.legend()\n",
    "plt.show()"
   ]
  },
  {
   "cell_type": "markdown",
   "metadata": {},
   "source": [
    "Based on the picture above, the insight obtained is that many patients are included in the prediabetes category based on the average blood sugar during the last 2-3 months of 5.7% - 6.4%, where this category has a high risk of diabetes. Although further examination by a doctor is needed, high HbA1c levels indicate a person has diabetes because it assesses long-term blood sugar control over the last 2-3 months."
   ]
  },
  {
   "cell_type": "markdown",
   "metadata": {},
   "source": [
    "### Lastly, I want to see the distribution of diabetes patients based on their blood sugar levels."
   ]
  },
  {
   "cell_type": "markdown",
   "metadata": {},
   "source": [
    "[Reference Link](https://www.google.com/url?sa=t&source=web&rct=j&opi=89978449&url=https://www.mayoclinic.org/diseases-conditions/diabetes/diagnosis-treatment/drc-20371451%23:~:text%3DA%2520fasting%2520blood%2520sugar%2520level,Glucose%2520tolerance%2520test.&ved=2ahUKEwix9Nq31YiHAxU21TgGHZOeB6YQFnoECBIQAw&usg=AOvVaw3pubSRthKQuCrdZr6uyn8D)"
   ]
  },
  {
   "cell_type": "code",
   "execution_count": 20,
   "metadata": {},
   "outputs": [
    {
     "data": {
      "image/png": "[encoded data removed]",
      "text/plain": [
       "<Figure size 500x500 with 1 Axes>"
      ]
     },
     "metadata": {},
     "output_type": "display_data"
    }
   ],
   "source": [
    "# create list to contain default value\n",
    "lists = []\n",
    "\n",
    "# create looping with for in\n",
    "for i in df.blood_glucose_level:\n",
    "    blood_glucose_level = float(i)\n",
    "    if (blood_glucose_level > 125):\n",
    "        lists.append('Diabetes')\n",
    "    elif (100 <= blood_glucose_level <= 125):\n",
    "        lists.append('Prediabetes')\n",
    "    elif (blood_glucose_level < 100):\n",
    "        lists.append('Normal')\n",
    "\n",
    "# create new column\n",
    "df['blood_glucose_level_cat'] = lists\n",
    "\n",
    "# data visualization\n",
    "fig = plt.figure(figsize=(5,5))\n",
    "\n",
    "df.groupby('blood_glucose_level_cat')['blood_glucose_level'].count().plot(kind='bar')\n",
    "plt.title('Blood Sugar Level Category')\n",
    "plt.legend()\n",
    "plt.show()"
   ]
  },
  {
   "cell_type": "markdown",
   "metadata": {},
   "source": [
    "Based on the image above, the insight obtained is that many patients are included in the diabetes category based on their blood sugar levels, which are above 125mg/dL. Although further examination by a doctor is needed, high blood sugar usually indicates the main symptom of someone suffering from diabetes."
   ]
  },
  {
   "cell_type": "markdown",
   "metadata": {},
   "source": [
    "## Feature Engineering"
   ]
  },
  {
   "cell_type": "markdown",
   "metadata": {},
   "source": [
    "Initially, I will drop the columns that have been created in EDA before carring out feature engineering \n",
    "because the new columns created in EDA are based on existing data in the dataset, thus the data is already represented."
   ]
  },
  {
   "cell_type": "code",
   "execution_count": 21,
   "metadata": {},
   "outputs": [
    {
     "data": {
      "text/html": [
       "<div>\n",
       "<style scoped>\n",
       "    .dataframe tbody tr th:only-of-type {\n",
       "        vertical-align: middle;\n",
       "    }\n",
       "\n",
       "    .dataframe tbody tr th {\n",
       "        vertical-align: top;\n",
       "    }\n",
       "\n",
       "    .dataframe thead th {\n",
       "        text-align: right;\n",
       "    }\n",
       "</style>\n",
       "<table border=\"1\" class=\"dataframe\">\n",
       "  <thead>\n",
       "    <tr style=\"text-align: right;\">\n",
       "      <th></th>\n",
       "      <th>gender</th>\n",
       "      <th>age</th>\n",
       "      <th>hypertension</th>\n",
       "      <th>heart_disease</th>\n",
       "      <th>smoking_history</th>\n",
       "      <th>bmi</th>\n",
       "      <th>HbA1c_level</th>\n",
       "      <th>blood_glucose_level</th>\n",
       "      <th>diabetes</th>\n",
       "    </tr>\n",
       "  </thead>\n",
       "  <tbody>\n",
       "    <tr>\n",
       "      <th>0</th>\n",
       "      <td>Female</td>\n",
       "      <td>80.0</td>\n",
       "      <td>0</td>\n",
       "      <td>1</td>\n",
       "      <td>never</td>\n",
       "      <td>25.19</td>\n",
       "      <td>6.6</td>\n",
       "      <td>140</td>\n",
       "      <td>0</td>\n",
       "    </tr>\n",
       "    <tr>\n",
       "      <th>1</th>\n",
       "      <td>Female</td>\n",
       "      <td>54.0</td>\n",
       "      <td>0</td>\n",
       "      <td>0</td>\n",
       "      <td>NaN</td>\n",
       "      <td>27.32</td>\n",
       "      <td>6.6</td>\n",
       "      <td>80</td>\n",
       "      <td>0</td>\n",
       "    </tr>\n",
       "    <tr>\n",
       "      <th>2</th>\n",
       "      <td>Male</td>\n",
       "      <td>28.0</td>\n",
       "      <td>0</td>\n",
       "      <td>0</td>\n",
       "      <td>never</td>\n",
       "      <td>27.32</td>\n",
       "      <td>5.7</td>\n",
       "      <td>158</td>\n",
       "      <td>0</td>\n",
       "    </tr>\n",
       "    <tr>\n",
       "      <th>3</th>\n",
       "      <td>Female</td>\n",
       "      <td>36.0</td>\n",
       "      <td>0</td>\n",
       "      <td>0</td>\n",
       "      <td>current</td>\n",
       "      <td>23.45</td>\n",
       "      <td>5.0</td>\n",
       "      <td>155</td>\n",
       "      <td>0</td>\n",
       "    </tr>\n",
       "    <tr>\n",
       "      <th>4</th>\n",
       "      <td>Male</td>\n",
       "      <td>76.0</td>\n",
       "      <td>1</td>\n",
       "      <td>1</td>\n",
       "      <td>current</td>\n",
       "      <td>20.14</td>\n",
       "      <td>4.8</td>\n",
       "      <td>155</td>\n",
       "      <td>0</td>\n",
       "    </tr>\n",
       "  </tbody>\n",
       "</table>\n",
       "</div>"
      ],
      "text/plain": [
       "   gender   age  hypertension  heart_disease smoking_history    bmi  \\\n",
       "0  Female  80.0             0              1           never  25.19   \n",
       "1  Female  54.0             0              0             NaN  27.32   \n",
       "2    Male  28.0             0              0           never  27.32   \n",
       "3  Female  36.0             0              0         current  23.45   \n",
       "4    Male  76.0             1              1         current  20.14   \n",
       "\n",
       "   HbA1c_level  blood_glucose_level  diabetes  \n",
       "0          6.6                  140         0  \n",
       "1          6.6                   80         0  \n",
       "2          5.7                  158         0  \n",
       "3          5.0                  155         0  \n",
       "4          4.8                  155         0  "
      ]
     },
     "execution_count": 21,
     "metadata": {},
     "output_type": "execute_result"
    }
   ],
   "source": [
    "# drop column\n",
    "df.drop(['bmi_cat','HbA1c_level_cat','blood_glucose_level_cat'],axis= 1,inplace=True)\n",
    "\n",
    "# check dataframe\n",
    "df.head()"
   ]
  },
  {
   "cell_type": "markdown",
   "metadata": {},
   "source": [
    "### Split Feature as `x` and Target as `y`"
   ]
  },
  {
   "cell_type": "markdown",
   "metadata": {},
   "source": [
    "In feature engineering, the first step that must be taken is to define the features and their targets/labels in the dataset.\n",
    "- Feature: variables used to help make predictions.\n",
    "- Target: the resulting value predicted by machine learning for the feature.\n",
    "\n",
    "In this case, `the label is diabetes` because I want to predict whether the patient has no risk or may at risk of developing diabetes."
   ]
  },
  {
   "cell_type": "code",
   "execution_count": 22,
   "metadata": {},
   "outputs": [
    {
     "data": {
      "text/html": [
       "<div>\n",
       "<style scoped>\n",
       "    .dataframe tbody tr th:only-of-type {\n",
       "        vertical-align: middle;\n",
       "    }\n",
       "\n",
       "    .dataframe tbody tr th {\n",
       "        vertical-align: top;\n",
       "    }\n",
       "\n",
       "    .dataframe thead th {\n",
       "        text-align: right;\n",
       "    }\n",
       "</style>\n",
       "<table border=\"1\" class=\"dataframe\">\n",
       "  <thead>\n",
       "    <tr style=\"text-align: right;\">\n",
       "      <th></th>\n",
       "      <th>gender</th>\n",
       "      <th>age</th>\n",
       "      <th>hypertension</th>\n",
       "      <th>heart_disease</th>\n",
       "      <th>smoking_history</th>\n",
       "      <th>bmi</th>\n",
       "      <th>HbA1c_level</th>\n",
       "      <th>blood_glucose_level</th>\n",
       "    </tr>\n",
       "  </thead>\n",
       "  <tbody>\n",
       "    <tr>\n",
       "      <th>0</th>\n",
       "      <td>Female</td>\n",
       "      <td>80.0</td>\n",
       "      <td>0</td>\n",
       "      <td>1</td>\n",
       "      <td>never</td>\n",
       "      <td>25.19</td>\n",
       "      <td>6.6</td>\n",
       "      <td>140</td>\n",
       "    </tr>\n",
       "    <tr>\n",
       "      <th>1</th>\n",
       "      <td>Female</td>\n",
       "      <td>54.0</td>\n",
       "      <td>0</td>\n",
       "      <td>0</td>\n",
       "      <td>NaN</td>\n",
       "      <td>27.32</td>\n",
       "      <td>6.6</td>\n",
       "      <td>80</td>\n",
       "    </tr>\n",
       "    <tr>\n",
       "      <th>2</th>\n",
       "      <td>Male</td>\n",
       "      <td>28.0</td>\n",
       "      <td>0</td>\n",
       "      <td>0</td>\n",
       "      <td>never</td>\n",
       "      <td>27.32</td>\n",
       "      <td>5.7</td>\n",
       "      <td>158</td>\n",
       "    </tr>\n",
       "    <tr>\n",
       "      <th>3</th>\n",
       "      <td>Female</td>\n",
       "      <td>36.0</td>\n",
       "      <td>0</td>\n",
       "      <td>0</td>\n",
       "      <td>current</td>\n",
       "      <td>23.45</td>\n",
       "      <td>5.0</td>\n",
       "      <td>155</td>\n",
       "    </tr>\n",
       "    <tr>\n",
       "      <th>4</th>\n",
       "      <td>Male</td>\n",
       "      <td>76.0</td>\n",
       "      <td>1</td>\n",
       "      <td>1</td>\n",
       "      <td>current</td>\n",
       "      <td>20.14</td>\n",
       "      <td>4.8</td>\n",
       "      <td>155</td>\n",
       "    </tr>\n",
       "  </tbody>\n",
       "</table>\n",
       "</div>"
      ],
      "text/plain": [
       "   gender   age  hypertension  heart_disease smoking_history    bmi  \\\n",
       "0  Female  80.0             0              1           never  25.19   \n",
       "1  Female  54.0             0              0             NaN  27.32   \n",
       "2    Male  28.0             0              0           never  27.32   \n",
       "3  Female  36.0             0              0         current  23.45   \n",
       "4    Male  76.0             1              1         current  20.14   \n",
       "\n",
       "   HbA1c_level  blood_glucose_level  \n",
       "0          6.6                  140  \n",
       "1          6.6                   80  \n",
       "2          5.7                  158  \n",
       "3          5.0                  155  \n",
       "4          4.8                  155  "
      ]
     },
     "execution_count": 22,
     "metadata": {},
     "output_type": "execute_result"
    }
   ],
   "source": [
    "# split feature with target/label\n",
    "X = df.drop('diabetes',axis=1) #feature\n",
    "y = df['diabetes'] #label\n",
    "\n",
    "# show first 5 rows from feature dataset\n",
    "X.head()"
   ]
  },
  {
   "cell_type": "markdown",
   "metadata": {},
   "source": [
    "### Split Train-set and Test-set"
   ]
  },
  {
   "cell_type": "markdown",
   "metadata": {},
   "source": [
    "Next step is spliting data into two important parts in machine learning, namely train-set and test-set.\n",
    "- The train-set will be used to train the machine learning model to learn patterns in existing data.\n",
    "- The test-set will be used to test and evaluate machine learning results in making predictions on new data."
   ]
  },
  {
   "cell_type": "code",
   "execution_count": 23,
   "metadata": {},
   "outputs": [
    {
     "name": "stdout",
     "output_type": "stream",
     "text": [
      "X Train size :  (76916, 8)\n",
      "X Test size :  (19230, 8)\n",
      "y Train size :  (76916,)\n",
      "y Test size :  (19230,)\n"
     ]
    }
   ],
   "source": [
    "# splitting between train-set and test-set\n",
    "X_train, X_test, y_train, y_test = train_test_split(X,y, test_size = 0.2, random_state = 10)\n",
    "\n",
    "print('X Train size : ', X_train.shape)\n",
    "print('X Test size : ', X_test.shape)\n",
    "print('y Train size : ', y_train.shape)\n",
    "print('y Test size : ', y_test.shape)"
   ]
  },
  {
   "cell_type": "code",
   "execution_count": 24,
   "metadata": {},
   "outputs": [
    {
     "data": {
      "text/html": [
       "<div>\n",
       "<style scoped>\n",
       "    .dataframe tbody tr th:only-of-type {\n",
       "        vertical-align: middle;\n",
       "    }\n",
       "\n",
       "    .dataframe tbody tr th {\n",
       "        vertical-align: top;\n",
       "    }\n",
       "\n",
       "    .dataframe thead th {\n",
       "        text-align: right;\n",
       "    }\n",
       "</style>\n",
       "<table border=\"1\" class=\"dataframe\">\n",
       "  <thead>\n",
       "    <tr style=\"text-align: right;\">\n",
       "      <th></th>\n",
       "      <th>gender</th>\n",
       "      <th>age</th>\n",
       "      <th>hypertension</th>\n",
       "      <th>heart_disease</th>\n",
       "      <th>smoking_history</th>\n",
       "      <th>bmi</th>\n",
       "      <th>HbA1c_level</th>\n",
       "      <th>blood_glucose_level</th>\n",
       "    </tr>\n",
       "  </thead>\n",
       "  <tbody>\n",
       "    <tr>\n",
       "      <th>64444</th>\n",
       "      <td>Male</td>\n",
       "      <td>8.0</td>\n",
       "      <td>0</td>\n",
       "      <td>0</td>\n",
       "      <td>never</td>\n",
       "      <td>27.32</td>\n",
       "      <td>6.1</td>\n",
       "      <td>85</td>\n",
       "    </tr>\n",
       "    <tr>\n",
       "      <th>94443</th>\n",
       "      <td>Female</td>\n",
       "      <td>42.0</td>\n",
       "      <td>0</td>\n",
       "      <td>0</td>\n",
       "      <td>never</td>\n",
       "      <td>44.97</td>\n",
       "      <td>5.7</td>\n",
       "      <td>90</td>\n",
       "    </tr>\n",
       "    <tr>\n",
       "      <th>78245</th>\n",
       "      <td>Female</td>\n",
       "      <td>53.0</td>\n",
       "      <td>1</td>\n",
       "      <td>0</td>\n",
       "      <td>current</td>\n",
       "      <td>27.32</td>\n",
       "      <td>6.1</td>\n",
       "      <td>155</td>\n",
       "    </tr>\n",
       "    <tr>\n",
       "      <th>6050</th>\n",
       "      <td>Female</td>\n",
       "      <td>19.0</td>\n",
       "      <td>0</td>\n",
       "      <td>0</td>\n",
       "      <td>NaN</td>\n",
       "      <td>23.83</td>\n",
       "      <td>6.1</td>\n",
       "      <td>158</td>\n",
       "    </tr>\n",
       "    <tr>\n",
       "      <th>39117</th>\n",
       "      <td>Female</td>\n",
       "      <td>44.0</td>\n",
       "      <td>0</td>\n",
       "      <td>0</td>\n",
       "      <td>NaN</td>\n",
       "      <td>27.32</td>\n",
       "      <td>6.6</td>\n",
       "      <td>155</td>\n",
       "    </tr>\n",
       "  </tbody>\n",
       "</table>\n",
       "</div>"
      ],
      "text/plain": [
       "       gender   age  hypertension  heart_disease smoking_history    bmi  \\\n",
       "64444    Male   8.0             0              0           never  27.32   \n",
       "94443  Female  42.0             0              0           never  44.97   \n",
       "78245  Female  53.0             1              0         current  27.32   \n",
       "6050   Female  19.0             0              0             NaN  23.83   \n",
       "39117  Female  44.0             0              0             NaN  27.32   \n",
       "\n",
       "       HbA1c_level  blood_glucose_level  \n",
       "64444          6.1                   85  \n",
       "94443          5.7                   90  \n",
       "78245          6.1                  155  \n",
       "6050           6.1                  158  \n",
       "39117          6.6                  155  "
      ]
     },
     "execution_count": 24,
     "metadata": {},
     "output_type": "execute_result"
    }
   ],
   "source": [
    "# check first 5 rows from X_train dataset\n",
    "X_train.head()"
   ]
  },
  {
   "cell_type": "code",
   "execution_count": 25,
   "metadata": {},
   "outputs": [
    {
     "data": {
      "text/html": [
       "<div>\n",
       "<style scoped>\n",
       "    .dataframe tbody tr th:only-of-type {\n",
       "        vertical-align: middle;\n",
       "    }\n",
       "\n",
       "    .dataframe tbody tr th {\n",
       "        vertical-align: top;\n",
       "    }\n",
       "\n",
       "    .dataframe thead th {\n",
       "        text-align: right;\n",
       "    }\n",
       "</style>\n",
       "<table border=\"1\" class=\"dataframe\">\n",
       "  <thead>\n",
       "    <tr style=\"text-align: right;\">\n",
       "      <th></th>\n",
       "      <th>gender</th>\n",
       "      <th>age</th>\n",
       "      <th>hypertension</th>\n",
       "      <th>heart_disease</th>\n",
       "      <th>smoking_history</th>\n",
       "      <th>bmi</th>\n",
       "      <th>HbA1c_level</th>\n",
       "      <th>blood_glucose_level</th>\n",
       "    </tr>\n",
       "  </thead>\n",
       "  <tbody>\n",
       "    <tr>\n",
       "      <th>27873</th>\n",
       "      <td>Female</td>\n",
       "      <td>48.0</td>\n",
       "      <td>0</td>\n",
       "      <td>0</td>\n",
       "      <td>current</td>\n",
       "      <td>23.43</td>\n",
       "      <td>4.0</td>\n",
       "      <td>200</td>\n",
       "    </tr>\n",
       "    <tr>\n",
       "      <th>20178</th>\n",
       "      <td>Female</td>\n",
       "      <td>64.0</td>\n",
       "      <td>0</td>\n",
       "      <td>1</td>\n",
       "      <td>former</td>\n",
       "      <td>27.32</td>\n",
       "      <td>6.0</td>\n",
       "      <td>200</td>\n",
       "    </tr>\n",
       "    <tr>\n",
       "      <th>21389</th>\n",
       "      <td>Female</td>\n",
       "      <td>18.0</td>\n",
       "      <td>0</td>\n",
       "      <td>0</td>\n",
       "      <td>never</td>\n",
       "      <td>44.26</td>\n",
       "      <td>4.8</td>\n",
       "      <td>140</td>\n",
       "    </tr>\n",
       "    <tr>\n",
       "      <th>82240</th>\n",
       "      <td>Female</td>\n",
       "      <td>67.0</td>\n",
       "      <td>0</td>\n",
       "      <td>0</td>\n",
       "      <td>current</td>\n",
       "      <td>37.90</td>\n",
       "      <td>3.5</td>\n",
       "      <td>155</td>\n",
       "    </tr>\n",
       "    <tr>\n",
       "      <th>31071</th>\n",
       "      <td>Female</td>\n",
       "      <td>8.0</td>\n",
       "      <td>0</td>\n",
       "      <td>0</td>\n",
       "      <td>NaN</td>\n",
       "      <td>21.11</td>\n",
       "      <td>6.6</td>\n",
       "      <td>100</td>\n",
       "    </tr>\n",
       "  </tbody>\n",
       "</table>\n",
       "</div>"
      ],
      "text/plain": [
       "       gender   age  hypertension  heart_disease smoking_history    bmi  \\\n",
       "27873  Female  48.0             0              0         current  23.43   \n",
       "20178  Female  64.0             0              1          former  27.32   \n",
       "21389  Female  18.0             0              0           never  44.26   \n",
       "82240  Female  67.0             0              0         current  37.90   \n",
       "31071  Female   8.0             0              0             NaN  21.11   \n",
       "\n",
       "       HbA1c_level  blood_glucose_level  \n",
       "27873          4.0                  200  \n",
       "20178          6.0                  200  \n",
       "21389          4.8                  140  \n",
       "82240          3.5                  155  \n",
       "31071          6.6                  100  "
      ]
     },
     "execution_count": 25,
     "metadata": {},
     "output_type": "execute_result"
    }
   ],
   "source": [
    "# check first 5 rows from X_test dataset\n",
    "X_test.head()"
   ]
  },
  {
   "cell_type": "markdown",
   "metadata": {},
   "source": [
    "### Handling Missing Value"
   ]
  },
  {
   "cell_type": "markdown",
   "metadata": {},
   "source": [
    "During checking, if missing value is found in y_train or y_test, then handling missing value will be performed by removing the missing value. However, if the missing value is found in X_train or X_test, then I have to check the percentage of missing value first before handling."
   ]
  },
  {
   "cell_type": "code",
   "execution_count": 26,
   "metadata": {},
   "outputs": [
    {
     "data": {
      "text/plain": [
       "gender                     0\n",
       "age                        0\n",
       "hypertension               0\n",
       "heart_disease              0\n",
       "smoking_history        26372\n",
       "bmi                        0\n",
       "HbA1c_level                0\n",
       "blood_glucose_level        0\n",
       "dtype: int64"
      ]
     },
     "execution_count": 26,
     "metadata": {},
     "output_type": "execute_result"
    }
   ],
   "source": [
    "# check missing values in train-set\n",
    "X_train.isna().sum()"
   ]
  },
  {
   "cell_type": "code",
   "execution_count": 27,
   "metadata": {},
   "outputs": [
    {
     "data": {
      "text/plain": [
       "gender                    0\n",
       "age                       0\n",
       "hypertension              0\n",
       "heart_disease             0\n",
       "smoking_history        6515\n",
       "bmi                       0\n",
       "HbA1c_level               0\n",
       "blood_glucose_level       0\n",
       "dtype: int64"
      ]
     },
     "execution_count": 27,
     "metadata": {},
     "output_type": "execute_result"
    }
   ],
   "source": [
    "# check missing values in test-set\n",
    "X_test.isna().sum()"
   ]
  },
  {
   "cell_type": "code",
   "execution_count": 28,
   "metadata": {},
   "outputs": [
    {
     "data": {
      "text/plain": [
       "0"
      ]
     },
     "execution_count": 28,
     "metadata": {},
     "output_type": "execute_result"
    }
   ],
   "source": [
    "# check missing values in train-set\n",
    "y_train.isna().sum()"
   ]
  },
  {
   "cell_type": "code",
   "execution_count": 29,
   "metadata": {},
   "outputs": [
    {
     "data": {
      "text/plain": [
       "0"
      ]
     },
     "execution_count": 29,
     "metadata": {},
     "output_type": "execute_result"
    }
   ],
   "source": [
    "# check missing values in test-set\n",
    "y_test.isna().sum()"
   ]
  },
  {
   "cell_type": "markdown",
   "metadata": {},
   "source": [
    "In this case, the possibility of a missing value in the 'smoking_history' column of X_train is defined as `Missing Completely at Random (MCAR)`. This is because it's most likely that patients feel uncomfortable disclosing their 'smoking_history', leading them to intentionally leave that row blank."
   ]
  },
  {
   "cell_type": "markdown",
   "metadata": {},
   "source": [
    "According to the information in the data loading, the missing value are in 'smoking history' column, where the `missing value on X_train and X_test are 26372 and 6515, respectively`.\n",
    "Because the missing values ​​in the dataset are more than 5%, handling missing values will be performed by imputation because a lot of data will be lost if removing all missing values, which is valuable.\n",
    "For this reason, handling missing values ​​will be carried out using `imputation using mode` because the column is categorical which has the object data type."
   ]
  },
  {
   "cell_type": "code",
   "execution_count": 30,
   "metadata": {},
   "outputs": [],
   "source": [
    "# handling missing value with fillna\n",
    "X_train['smoking_history'].fillna(X_train['smoking_history'].mode()[0], inplace=True)\n",
    "X_test['smoking_history'].fillna(X_test['smoking_history'].mode()[0], inplace=True)"
   ]
  },
  {
   "cell_type": "code",
   "execution_count": 31,
   "metadata": {},
   "outputs": [
    {
     "data": {
      "text/plain": [
       "gender                 0\n",
       "age                    0\n",
       "hypertension           0\n",
       "heart_disease          0\n",
       "smoking_history        0\n",
       "bmi                    0\n",
       "HbA1c_level            0\n",
       "blood_glucose_level    0\n",
       "dtype: int64"
      ]
     },
     "execution_count": 31,
     "metadata": {},
     "output_type": "execute_result"
    }
   ],
   "source": [
    "# check missing values in X_train and X_test\n",
    "X_train.isna().sum()\n",
    "X_test.isna().sum()"
   ]
  },
  {
   "cell_type": "markdown",
   "metadata": {},
   "source": [
    "After handling missing value, checking missing value is done with `.isna()` instead of `.shape` because we are not dropping missing values."
   ]
  },
  {
   "cell_type": "markdown",
   "metadata": {},
   "source": [
    "### Handling Outliers"
   ]
  },
  {
   "cell_type": "markdown",
   "metadata": {},
   "source": [
    "Because outlier handling is only performed on numerical columns, splitting data into numerical and categorical column is necessary."
   ]
  },
  {
   "cell_type": "code",
   "execution_count": 32,
   "metadata": {},
   "outputs": [
    {
     "name": "stdout",
     "output_type": "stream",
     "text": [
      "Numerical columns   : ['age', 'bmi', 'HbA1c_level', 'blood_glucose_level']\n",
      "Categorical columns : (['gender', 'smoking_history'], ['hypertension', 'heart_disease'])\n"
     ]
    }
   ],
   "source": [
    "# split numerical and categorical column\n",
    "numerical = ['age','bmi','HbA1c_level','blood_glucose_level']\n",
    "categorical = ['gender','smoking_history']\n",
    "cat_encoded = ['hypertension','heart_disease']\n",
    "\n",
    "print(f'Numerical columns   : {numerical}')\n",
    "print(f'Categorical columns : {categorical,cat_encoded}')"
   ]
  },
  {
   "cell_type": "markdown",
   "metadata": {},
   "source": [
    "The following are the skewness check and boxplot visualizations for each numerical column before handling outliers."
   ]
  },
  {
   "cell_type": "code",
   "execution_count": 33,
   "metadata": {},
   "outputs": [
    {
     "name": "stdout",
     "output_type": "stream",
     "text": [
      "Skewness age: -0.062444736060842554\n",
      "Skewness bmi: 1.0237511657232292\n",
      "Skewness HbA1c_level: -0.054463243946481645\n",
      "Skewness blood_glucose_level: 0.83648926055032\n"
     ]
    }
   ],
   "source": [
    "# check skewness before handling\n",
    "skew_result = []\n",
    "for i in numerical:\n",
    "    skewness = df[i].skew()\n",
    "    skew_result.append((i, skewness))\n",
    "\n",
    "for i, skewness in skew_result:\n",
    "    print(f\"Skewness {i}: {skewness}\")"
   ]
  },
  {
   "cell_type": "code",
   "execution_count": 34,
   "metadata": {},
   "outputs": [
    {
     "data": {
      "text/plain": [
       "{'whiskers': [<matplotlib.lines.Line2D at 0x1344ef350>,\n",
       "  <matplotlib.lines.Line2D at 0x1344efcd0>,\n",
       "  <matplotlib.lines.Line2D at 0x133eeb190>,\n",
       "  <matplotlib.lines.Line2D at 0x133eeba10>,\n",
       "  <matplotlib.lines.Line2D at 0x133ed4f90>,\n",
       "  <matplotlib.lines.Line2D at 0x133ed4690>,\n",
       "  <matplotlib.lines.Line2D at 0x133ec52d0>,\n",
       "  <matplotlib.lines.Line2D at 0x133ec4990>],\n",
       " 'caps': [<matplotlib.lines.Line2D at 0x133ee8710>,\n",
       "  <matplotlib.lines.Line2D at 0x133ee8f90>,\n",
       "  <matplotlib.lines.Line2D at 0x133ed7d50>,\n",
       "  <matplotlib.lines.Line2D at 0x133ed74d0>,\n",
       "  <matplotlib.lines.Line2D at 0x133ec7d50>,\n",
       "  <matplotlib.lines.Line2D at 0x133ec7550>,\n",
       "  <matplotlib.lines.Line2D at 0x133ec4090>,\n",
       "  <matplotlib.lines.Line2D at 0x133eb7750>],\n",
       " 'boxes': [<matplotlib.lines.Line2D at 0x13445e590>,\n",
       "  <matplotlib.lines.Line2D at 0x133eea890>,\n",
       "  <matplotlib.lines.Line2D at 0x133ed5910>,\n",
       "  <matplotlib.lines.Line2D at 0x133ec5b50>],\n",
       " 'medians': [<matplotlib.lines.Line2D at 0x133ee9810>,\n",
       "  <matplotlib.lines.Line2D at 0x133ed6b90>,\n",
       "  <matplotlib.lines.Line2D at 0x133ec6d50>,\n",
       "  <matplotlib.lines.Line2D at 0x133eb6e10>],\n",
       " 'fliers': [<matplotlib.lines.Line2D at 0x133eea090>,\n",
       "  <matplotlib.lines.Line2D at 0x133ed62d0>,\n",
       "  <matplotlib.lines.Line2D at 0x133ec6450>,\n",
       "  <matplotlib.lines.Line2D at 0x133eb6510>],\n",
       " 'means': []}"
      ]
     },
     "execution_count": 34,
     "metadata": {},
     "output_type": "execute_result"
    },
    {
     "data": {
      "image/png": "[encoded data removed]",
      "text/plain": [
       "<Figure size 1000x600 with 1 Axes>"
      ]
     },
     "metadata": {},
     "output_type": "display_data"
    }
   ],
   "source": [
    "# show boxplot\n",
    "plt.figure(figsize=(10, 6))\n",
    "plt.boxplot(X_train[numerical].values)"
   ]
  },
  {
   "cell_type": "markdown",
   "metadata": {},
   "source": [
    "Next, handling outlier will be carried out using the capping method for values ​​in both the normal distribution, moderate skewed distribution and extreme skewed distribution in X_train. The capping method was chosen because, in my opinion, was the most effective method because `the capping method does not delete outlier data but only presses the data by changing it to a reasonable value` thus I do not lose data, which are valuable."
   ]
  },
  {
   "cell_type": "code",
   "execution_count": 35,
   "metadata": {},
   "outputs": [
    {
     "name": "stdout",
     "output_type": "stream",
     "text": [
      "Normal distribution: ['age', 'HbA1c_level']\n",
      "Moderate distribution: ['blood_glucose_level']\n",
      "Extreme distribution: ['bmi']\n"
     ]
    }
   ],
   "source": [
    "# create list to contain default value\n",
    "normal = []\n",
    "moderate = []\n",
    "extreme = []\n",
    "\n",
    "# create looping with for in\n",
    "for i in numerical:\n",
    "    skew = X_train[i].skew() #to input i in list\n",
    "    if -0.5 < skew and skew < 0.5:\n",
    "        normal.append(i)\n",
    "    elif -1 <= skew <= -0.5 or 0.5 <= skew <= 1:\n",
    "        moderate.append(i)\n",
    "    elif skew < 1 or skew > 1:\n",
    "        extreme.append(i)\n",
    "\n",
    "print(f\"Normal distribution: {normal}\")\n",
    "print(f\"Moderate distribution: {moderate}\")\n",
    "print(f\"Extreme distribution: {extreme}\")"
   ]
  },
  {
   "cell_type": "code",
   "execution_count": 36,
   "metadata": {},
   "outputs": [],
   "source": [
    "# capping normal distribution outliers\n",
    "winsoriser_normal = Winsorizer(capping_method='gaussian',\n",
    "                               tail='both',\n",
    "                               fold=3,\n",
    "                               variables=normal)\n",
    "\n",
    "X_train = winsoriser_normal.fit_transform(X_train)\n",
    "\n",
    "# capping moderate skewed distribution outliers\n",
    "winsoriser_moderate = Winsorizer(capping_method='iqr',\n",
    "                             tail='both',\n",
    "                             fold=1.5, #moderate\n",
    "                             variables=moderate)\n",
    "\n",
    "X_train = winsoriser_moderate.fit_transform(X_train)\n",
    "\n",
    "# capping extreme skewed distribution outliers\n",
    "winsoriser_extreme = Winsorizer(capping_method='iqr',\n",
    "                             tail='both',\n",
    "                             fold=3, #extreme\n",
    "                             variables=extreme)\n",
    "\n",
    "X_train = winsoriser_extreme.fit_transform(X_train)"
   ]
  },
  {
   "cell_type": "markdown",
   "metadata": {},
   "source": [
    "The following are the skewness check and boxplot visualizations for each numerical column after handling outliers with capping."
   ]
  },
  {
   "cell_type": "code",
   "execution_count": 37,
   "metadata": {},
   "outputs": [
    {
     "name": "stdout",
     "output_type": "stream",
     "text": [
      "Skewness age: -0.05832797236955468\n",
      "Skewness bmi: 0.6939943975592755\n",
      "Skewness HbA1c_level: -0.11039766296774345\n",
      "Skewness blood_glucose_level: 0.43230614063761635\n"
     ]
    }
   ],
   "source": [
    "# check skewness after handling\n",
    "skew_result = []\n",
    "for i in numerical:\n",
    "    skewness = X_train[i].skew()\n",
    "    skew_result.append((i, skewness))\n",
    "\n",
    "for i, skewness in skew_result:\n",
    "    print(f\"Skewness {i}: {skewness}\")"
   ]
  },
  {
   "cell_type": "code",
   "execution_count": 38,
   "metadata": {},
   "outputs": [
    {
     "data": {
      "text/plain": [
       "{'whiskers': [<matplotlib.lines.Line2D at 0x13442a9d0>,\n",
       "  <matplotlib.lines.Line2D at 0x13430eed0>,\n",
       "  <matplotlib.lines.Line2D at 0x134349490>,\n",
       "  <matplotlib.lines.Line2D at 0x134348310>,\n",
       "  <matplotlib.lines.Line2D at 0x134343a10>,\n",
       "  <matplotlib.lines.Line2D at 0x13434e750>,\n",
       "  <matplotlib.lines.Line2D at 0x134332790>,\n",
       "  <matplotlib.lines.Line2D at 0x134333b50>],\n",
       " 'caps': [<matplotlib.lines.Line2D at 0x13430d410>,\n",
       "  <matplotlib.lines.Line2D at 0x13430ca50>,\n",
       "  <matplotlib.lines.Line2D at 0x134341fd0>,\n",
       "  <matplotlib.lines.Line2D at 0x134340890>,\n",
       "  <matplotlib.lines.Line2D at 0x13434ce10>,\n",
       "  <matplotlib.lines.Line2D at 0x13434d750>,\n",
       "  <matplotlib.lines.Line2D at 0x134333a10>,\n",
       "  <matplotlib.lines.Line2D at 0x134331690>],\n",
       " 'boxes': [<matplotlib.lines.Line2D at 0x134304f50>,\n",
       "  <matplotlib.lines.Line2D at 0x13434a010>,\n",
       "  <matplotlib.lines.Line2D at 0x134341ad0>,\n",
       "  <matplotlib.lines.Line2D at 0x134331350>],\n",
       " 'medians': [<matplotlib.lines.Line2D at 0x13430fb50>,\n",
       "  <matplotlib.lines.Line2D at 0x134342290>,\n",
       "  <matplotlib.lines.Line2D at 0x13434dd50>,\n",
       "  <matplotlib.lines.Line2D at 0x134330b10>],\n",
       " 'fliers': [<matplotlib.lines.Line2D at 0x13434b110>,\n",
       "  <matplotlib.lines.Line2D at 0x134343950>,\n",
       "  <matplotlib.lines.Line2D at 0x13434de10>,\n",
       "  <matplotlib.lines.Line2D at 0x134359110>],\n",
       " 'means': []}"
      ]
     },
     "execution_count": 38,
     "metadata": {},
     "output_type": "execute_result"
    },
    {
     "data": {
      "image/png": "[encoded data removed]",
      "text/plain": [
       "<Figure size 1000x600 with 1 Axes>"
      ]
     },
     "metadata": {},
     "output_type": "display_data"
    }
   ],
   "source": [
    "# show boxplot after capping\n",
    "plt.figure(figsize=(10, 6))\n",
    "plt.boxplot(X_train[numerical].values)"
   ]
  },
  {
   "cell_type": "markdown",
   "metadata": {},
   "source": [
    "### Correlation for Feature Selection"
   ]
  },
  {
   "cell_type": "markdown",
   "metadata": {},
   "source": [
    "The first step to perform feature selection is to check the correlation first.\n",
    "To check the correlation, I use the phik library because it can process numerical and categorical data at the same time."
   ]
  },
  {
   "cell_type": "code",
   "execution_count": 39,
   "metadata": {},
   "outputs": [],
   "source": [
    "# merge label with feature using pd.concat\n",
    "combined = pd.concat([X_train,y_train], axis=1)"
   ]
  },
  {
   "cell_type": "code",
   "execution_count": 40,
   "metadata": {},
   "outputs": [
    {
     "name": "stdout",
     "output_type": "stream",
     "text": [
      "interval columns not set, guessing: ['age', 'hypertension', 'heart_disease', 'bmi', 'HbA1c_level', 'blood_glucose_level', 'diabetes']\n"
     ]
    },
    {
     "data": {
      "text/plain": [
       "gender                 0.021259\n",
       "age                    0.363552\n",
       "hypertension           0.305646\n",
       "heart_disease          0.265917\n",
       "smoking_history        0.091291\n",
       "bmi                    0.284733\n",
       "HbA1c_level            0.665494\n",
       "blood_glucose_level    0.796200\n",
       "diabetes               1.000000\n",
       "Name: diabetes, dtype: float64"
      ]
     },
     "execution_count": 40,
     "metadata": {},
     "output_type": "execute_result"
    }
   ],
   "source": [
    "# calculate correlation matrix with phik\n",
    "phik_overview = combined.phik_matrix()\n",
    "phik_overview['diabetes']"
   ]
  },
  {
   "cell_type": "markdown",
   "metadata": {},
   "source": [
    "From the correlation matrix, results of each features with labels/targets have different values. In this case, I will choose the correlation value > 0.2, because the feature correlation below that is very weak with the label/target."
   ]
  },
  {
   "cell_type": "code",
   "execution_count": 41,
   "metadata": {},
   "outputs": [],
   "source": [
    "# choose correlation > 0.2\n",
    "feature = ['age','hypertension','heart_disease','bmi','HbA1c_level','blood_glucose_level']\n",
    "\n",
    "# feature selection from train-set and applied to test-set\n",
    "X_train_feature = X_train[feature]\n",
    "X_test_feature = X_test[feature]"
   ]
  },
  {
   "cell_type": "markdown",
   "metadata": {},
   "source": [
    "The next step is grouping the feature selection results into numerical and categorical categories."
   ]
  },
  {
   "cell_type": "code",
   "execution_count": 42,
   "metadata": {},
   "outputs": [
    {
     "name": "stdout",
     "output_type": "stream",
     "text": [
      "Numerical columns   : ['age', 'bmi', 'HbA1c_level', 'blood_glucose_level']\n",
      "Categorical columns : ['hypertension', 'heart_disease']\n"
     ]
    }
   ],
   "source": [
    "# split numerical and categorical column after feature selection\n",
    "numerical = ['age','bmi','HbA1c_level','blood_glucose_level']\n",
    "cat_encoded = ['hypertension','heart_disease']\n",
    "\n",
    "print(f'Numerical columns   : {numerical}')\n",
    "print(f'Categorical columns : {cat_encoded}')"
   ]
  },
  {
   "cell_type": "code",
   "execution_count": 43,
   "metadata": {},
   "outputs": [],
   "source": [
    "# split to numerical and categorical\n",
    "X_train_num = X_train[numerical]\n",
    "X_test_num = X_test[numerical]\n",
    "\n",
    "X_train_cat = X_train[cat_encoded]\n",
    "X_test_cat = X_test[cat_encoded]"
   ]
  },
  {
   "cell_type": "code",
   "execution_count": 44,
   "metadata": {},
   "outputs": [
    {
     "data": {
      "text/html": [
       "<div>\n",
       "<style scoped>\n",
       "    .dataframe tbody tr th:only-of-type {\n",
       "        vertical-align: middle;\n",
       "    }\n",
       "\n",
       "    .dataframe tbody tr th {\n",
       "        vertical-align: top;\n",
       "    }\n",
       "\n",
       "    .dataframe thead th {\n",
       "        text-align: right;\n",
       "    }\n",
       "</style>\n",
       "<table border=\"1\" class=\"dataframe\">\n",
       "  <thead>\n",
       "    <tr style=\"text-align: right;\">\n",
       "      <th></th>\n",
       "      <th>age</th>\n",
       "      <th>bmi</th>\n",
       "      <th>HbA1c_level</th>\n",
       "      <th>blood_glucose_level</th>\n",
       "    </tr>\n",
       "  </thead>\n",
       "  <tbody>\n",
       "    <tr>\n",
       "      <th>64444</th>\n",
       "      <td>8.0</td>\n",
       "      <td>27.32</td>\n",
       "      <td>6.1</td>\n",
       "      <td>85.0</td>\n",
       "    </tr>\n",
       "    <tr>\n",
       "      <th>94443</th>\n",
       "      <td>42.0</td>\n",
       "      <td>44.97</td>\n",
       "      <td>5.7</td>\n",
       "      <td>90.0</td>\n",
       "    </tr>\n",
       "    <tr>\n",
       "      <th>78245</th>\n",
       "      <td>53.0</td>\n",
       "      <td>27.32</td>\n",
       "      <td>6.1</td>\n",
       "      <td>155.0</td>\n",
       "    </tr>\n",
       "    <tr>\n",
       "      <th>6050</th>\n",
       "      <td>19.0</td>\n",
       "      <td>23.83</td>\n",
       "      <td>6.1</td>\n",
       "      <td>158.0</td>\n",
       "    </tr>\n",
       "    <tr>\n",
       "      <th>39117</th>\n",
       "      <td>44.0</td>\n",
       "      <td>27.32</td>\n",
       "      <td>6.6</td>\n",
       "      <td>155.0</td>\n",
       "    </tr>\n",
       "  </tbody>\n",
       "</table>\n",
       "</div>"
      ],
      "text/plain": [
       "        age    bmi  HbA1c_level  blood_glucose_level\n",
       "64444   8.0  27.32          6.1                 85.0\n",
       "94443  42.0  44.97          5.7                 90.0\n",
       "78245  53.0  27.32          6.1                155.0\n",
       "6050   19.0  23.83          6.1                158.0\n",
       "39117  44.0  27.32          6.6                155.0"
      ]
     },
     "execution_count": 44,
     "metadata": {},
     "output_type": "execute_result"
    }
   ],
   "source": [
    "# check numerical\n",
    "X_train_num.head()"
   ]
  },
  {
   "cell_type": "code",
   "execution_count": 45,
   "metadata": {},
   "outputs": [
    {
     "data": {
      "text/html": [
       "<div>\n",
       "<style scoped>\n",
       "    .dataframe tbody tr th:only-of-type {\n",
       "        vertical-align: middle;\n",
       "    }\n",
       "\n",
       "    .dataframe tbody tr th {\n",
       "        vertical-align: top;\n",
       "    }\n",
       "\n",
       "    .dataframe thead th {\n",
       "        text-align: right;\n",
       "    }\n",
       "</style>\n",
       "<table border=\"1\" class=\"dataframe\">\n",
       "  <thead>\n",
       "    <tr style=\"text-align: right;\">\n",
       "      <th></th>\n",
       "      <th>hypertension</th>\n",
       "      <th>heart_disease</th>\n",
       "    </tr>\n",
       "  </thead>\n",
       "  <tbody>\n",
       "    <tr>\n",
       "      <th>64444</th>\n",
       "      <td>0</td>\n",
       "      <td>0</td>\n",
       "    </tr>\n",
       "    <tr>\n",
       "      <th>94443</th>\n",
       "      <td>0</td>\n",
       "      <td>0</td>\n",
       "    </tr>\n",
       "    <tr>\n",
       "      <th>78245</th>\n",
       "      <td>1</td>\n",
       "      <td>0</td>\n",
       "    </tr>\n",
       "    <tr>\n",
       "      <th>6050</th>\n",
       "      <td>0</td>\n",
       "      <td>0</td>\n",
       "    </tr>\n",
       "    <tr>\n",
       "      <th>39117</th>\n",
       "      <td>0</td>\n",
       "      <td>0</td>\n",
       "    </tr>\n",
       "  </tbody>\n",
       "</table>\n",
       "</div>"
      ],
      "text/plain": [
       "       hypertension  heart_disease\n",
       "64444             0              0\n",
       "94443             0              0\n",
       "78245             1              0\n",
       "6050              0              0\n",
       "39117             0              0"
      ]
     },
     "execution_count": 45,
     "metadata": {},
     "output_type": "execute_result"
    }
   ],
   "source": [
    "# check categorical\n",
    "X_train_cat.head()"
   ]
  },
  {
   "cell_type": "markdown",
   "metadata": {},
   "source": [
    "### Cardinality"
   ]
  },
  {
   "cell_type": "markdown",
   "metadata": {},
   "source": [
    "Cardinality checking is carried out by looking at the unique values ​​in the categorical column. Then, reducing cardinality will be carried out if the cardinality value is above 12, which aims to get better predictions."
   ]
  },
  {
   "cell_type": "code",
   "execution_count": 46,
   "metadata": {},
   "outputs": [
    {
     "data": {
      "text/plain": [
       "hypertension     2\n",
       "heart_disease    2\n",
       "dtype: int64"
      ]
     },
     "execution_count": 46,
     "metadata": {},
     "output_type": "execute_result"
    }
   ],
   "source": [
    "# check cardinality on categorical column\n",
    "X_train_cat.nunique()"
   ]
  },
  {
   "cell_type": "markdown",
   "metadata": {},
   "source": [
    "After checking the cardinality, the results show that there are no cardinality values ​​above 12, which means that there is no need to reduce cardinality in the categorical column. This is also because the categorical column results are Yes or No."
   ]
  },
  {
   "cell_type": "markdown",
   "metadata": {},
   "source": [
    "### Data Balancing"
   ]
  },
  {
   "cell_type": "markdown",
   "metadata": {},
   "source": [
    "An imbalanced dataset can lead to model bias, where the model is more likely to predict the majority class. Data Balancing is the process of adjusting the distribution of different classes or categories within a dataset to reduce any significant imbalance, which will help mitigate this bias  to better generalization and prediction accuracy."
   ]
  },
  {
   "cell_type": "code",
   "execution_count": 47,
   "metadata": {},
   "outputs": [
    {
     "data": {
      "text/plain": [
       "diabetes\n",
       "0    87664\n",
       "1     8482\n",
       "Name: count, dtype: int64"
      ]
     },
     "execution_count": 47,
     "metadata": {},
     "output_type": "execute_result"
    }
   ],
   "source": [
    "# show distribution on target\n",
    "y.value_counts()"
   ]
  },
  {
   "cell_type": "markdown",
   "metadata": {},
   "source": [
    "In this case, there is a significant imbalance in the proportion of no diabetes and diabetes data (more than 60:40). Therefore, I will address this imbalance data using SMOTENS. Balancing the data is crucial to ensure that prediction results are not biased towards the dominant class in the training data, allowing machine learning models to effectively predict minority class data by equalizing their representation with the majority class. SMOTENS will randomly generate synthetic data for the minority class to achieve a balanced distribution in the target variable."
   ]
  },
  {
   "cell_type": "code",
   "execution_count": 48,
   "metadata": {},
   "outputs": [
    {
     "data": {
      "text/plain": [
       "diabetes\n",
       "0    70152\n",
       "1    70152\n",
       "Name: count, dtype: int64"
      ]
     },
     "execution_count": 48,
     "metadata": {},
     "output_type": "execute_result"
    }
   ],
   "source": [
    "# oversampling with SMOTENC\n",
    "smotenc = SMOTENC(categorical_features=['hypertension','heart_disease'],random_state = 40)\n",
    "X_train_balanced, y_train_balanced = smotenc.fit_resample(X_train_feature, y_train)\n",
    "y_train_balanced.value_counts()"
   ]
  },
  {
   "cell_type": "markdown",
   "metadata": {},
   "source": [
    "### Pipeline"
   ]
  },
  {
   "cell_type": "markdown",
   "metadata": {},
   "source": [
    "Next, I will create a pipeline to combine several data preprocessing steps.\n",
    "Given the different data distributions across numerical columns, scaling will involve using StandardScaler for columns with a normal distribution and MinMaxScaler for columns with moderate to extremely skewed distributions.\n",
    "For encoding categorical nominal columns, OneHotEncoder will be used."
   ]
  },
  {
   "cell_type": "code",
   "execution_count": 49,
   "metadata": {},
   "outputs": [],
   "source": [
    "# scaling and encoding using columntransformer\n",
    "num_normal = ['age','HbA1c_level']\n",
    "num_skewed = ['bmi','blood_glucose_level']\n",
    "\n",
    "preprocess = ColumnTransformer([\n",
    "    ('standard_scaler', StandardScaler(), num_normal),\n",
    "    ('minmax_scaler', MinMaxScaler(), num_skewed),\n",
    "    ('encoder', OneHotEncoder(), cat_encoded)\n",
    "],remainder='passthrough')"
   ]
  },
  {
   "cell_type": "markdown",
   "metadata": {},
   "source": [
    "This machine learning model will compare several classification models to prevent overfitting, which are KNeighborsClassifier (KNN), Support Vector Machine (SVM), DecisionTreeClassifier, RandomForestClassifier, AdaBoostClassifier, and XGBClassifier to determine which model is the best because each model has unique strengths. The following are considerations for using the six models:\n",
    "1. KNeighborsClassifier (KNN): calculates distances between data points and their nearest neighbors. KNN is used to identify patterns among patients who share similar medical history.\n",
    "2. Support Vector Machine (SVM): SVM effectively handles complex data by using kernels to separate data and parameters like C and gamma to manage data imbalances. SVM is applied to distinguish patients who may at risk of diabetes and patient who has no risk of diabetes.\n",
    "3. DecisionTreeClassifier: easy to interpret as its structure resembles human decision-making. It divides datasets into subsets based on branching rules. Each node represents a dataset feature, and branches represent different outcomes of the splits. However, this model may results overfitting if not properly tuned.\n",
    "4. RandomForestClassifier: each model is built using several randomly sampled decision trees from the training data to enhance prediction accuracy and mitigate the risk of overfitting. Suitable for complex and unstructured data, particularly when the dataset has numerous features to prevent overfitting. \n",
    "5. AdaBoost: improves model performance by sequentially combining multiple weak models into a stronger one. Suitable for complex and unstructured data, especially when the target/label distribution in both the train-set and test-set is balanced.\n",
    "6. XGBoost: improves model performance by sequentially combining multiple weak models into a stronger one. Suitable for complex and unstructured data, especially when the target/label distribution in both the train-set and test-set is imbalanced.  "
   ]
  },
  {
   "cell_type": "code",
   "execution_count": 50,
   "metadata": {},
   "outputs": [],
   "source": [
    "# define model using pipeline\n",
    "pipe_knn = make_pipeline(preprocess, KNeighborsClassifier())\n",
    "pipe_svc = make_pipeline(preprocess, SVC())\n",
    "pipe_dt = make_pipeline(preprocess, DecisionTreeClassifier(random_state=20))\n",
    "pipe_rf = make_pipeline(preprocess, RandomForestClassifier(random_state=20))\n",
    "pipe_ada = make_pipeline(preprocess, AdaBoostClassifier())\n",
    "pipe_xg = make_pipeline(preprocess, XGBClassifier())"
   ]
  },
  {
   "cell_type": "markdown",
   "metadata": {},
   "source": [
    "Cross-validation will be carried out to ensure consistency and accuracy by dividing the data into train set and a validation set to evaluate the model's performance, thereby mitigating overfitting. The primary objective of cross-validation is to obtain a more precise estimation of the model's performance on new data.\n",
    "\n",
    "In this case, the chosen evaluation metric is recall score because the primary goal of this machine learning model is to minimize false negatives, which is a condition where the patient may have diabetes (testing positive) despite negative test results. Furthermore, it will be misleading if we use accuracy metric because of the imbalance data in `diabetes` variable."
   ]
  },
  {
   "cell_type": "code",
   "execution_count": 51,
   "metadata": {},
   "outputs": [
    {
     "name": "stderr",
     "output_type": "stream",
     "text": [
      "/usr/local/anaconda3/lib/python3.11/site-packages/sklearn/ensemble/_weight_boosting.py:527: FutureWarning: The SAMME.R algorithm (the default) is deprecated and will be removed in 1.6. Use the SAMME algorithm to circumvent this warning.\n",
      "  warnings.warn(\n",
      "/usr/local/anaconda3/lib/python3.11/site-packages/sklearn/ensemble/_weight_boosting.py:527: FutureWarning: The SAMME.R algorithm (the default) is deprecated and will be removed in 1.6. Use the SAMME algorithm to circumvent this warning.\n",
      "  warnings.warn(\n",
      "/usr/local/anaconda3/lib/python3.11/site-packages/sklearn/ensemble/_weight_boosting.py:527: FutureWarning: The SAMME.R algorithm (the default) is deprecated and will be removed in 1.6. Use the SAMME algorithm to circumvent this warning.\n",
      "  warnings.warn(\n",
      "/usr/local/anaconda3/lib/python3.11/site-packages/sklearn/ensemble/_weight_boosting.py:527: FutureWarning: The SAMME.R algorithm (the default) is deprecated and will be removed in 1.6. Use the SAMME algorithm to circumvent this warning.\n",
      "  warnings.warn(\n",
      "/usr/local/anaconda3/lib/python3.11/site-packages/sklearn/ensemble/_weight_boosting.py:527: FutureWarning: The SAMME.R algorithm (the default) is deprecated and will be removed in 1.6. Use the SAMME algorithm to circumvent this warning.\n",
      "  warnings.warn(\n"
     ]
    }
   ],
   "source": [
    "# cross validation for each model\n",
    "cv_knn = cross_val_score(pipe_knn,X_train_balanced,y_train_balanced,cv=5,scoring='recall',n_jobs=-1)\n",
    "cv_svc = cross_val_score(pipe_svc,X_train_balanced,y_train_balanced,cv=5,scoring='recall',n_jobs=-1)\n",
    "cv_dt = cross_val_score(pipe_dt,X_train_balanced,y_train_balanced,cv=5,scoring='recall',n_jobs=-1)\n",
    "cv_rf = cross_val_score(pipe_rf,X_train_balanced,y_train_balanced,cv=5,scoring='recall',n_jobs=-1)\n",
    "cv_ada = cross_val_score(pipe_ada,X_train_balanced,y_train_balanced,cv=5,scoring='recall',n_jobs=-1)\n",
    "cv_xg = cross_val_score(pipe_xg,X_train_balanced,y_train_balanced,cv=5,scoring='recall',n_jobs=-1)"
   ]
  },
  {
   "cell_type": "markdown",
   "metadata": {},
   "source": [
    "Searching the best model using a for in lopping."
   ]
  },
  {
   "cell_type": "code",
   "execution_count": 52,
   "metadata": {},
   "outputs": [
    {
     "name": "stdout",
     "output_type": "stream",
     "text": [
      "knn\n",
      "Recall - Cross Validation - All : [0.9383464  0.95744833 0.95445799 0.9534602  0.95709195]\n",
      "Recall - Cross Validation - Mean : 0.952160970517731\n",
      "Recall - Cross Validation - Std : 0.007072160102532248\n",
      "Recall - Cross Validation - Range : 0.9450888104151988 - 0.9592331306202632\n",
      "--------------------------------------------------\n",
      "svc\n",
      "Recall - Cross Validation - All : [0.91639344 0.92672844 0.92623477 0.92644858 0.92394868]\n",
      "Recall - Cross Validation - Mean : 0.9239507814206126\n",
      "Recall - Cross Validation - Std : 0.003906003828811204\n",
      "Recall - Cross Validation - Range : 0.9200447775918014 - 0.9278567852494238\n",
      "--------------------------------------------------\n",
      "dt\n",
      "Recall - Cross Validation - All : [0.86792587 0.99294369 0.99429834 0.99493978 0.99280114]\n",
      "Recall - Cross Validation - Mean : 0.9685817642463921\n",
      "Recall - Cross Validation - Std : 0.05033443584382802\n",
      "Recall - Cross Validation - Range : 0.9182473284025641 - 1.01891620009022\n",
      "--------------------------------------------------\n",
      "rf\n",
      "Recall - Cross Validation - All : [0.89693514 0.99080542 0.99208895 0.99166132 0.99109052]\n",
      "Recall - Cross Validation - Mean : 0.9725162687060974\n",
      "Recall - Cross Validation - Std : 0.03779318898985423\n",
      "Recall - Cross Validation - Range : 0.9347230797162431 - 1.0103094576959517\n",
      "--------------------------------------------------\n",
      "ada\n",
      "Recall - Cross Validation - All : [0.85637919 0.96514612 0.9709928  0.9697812  0.97034925]\n",
      "Recall - Cross Validation - Mean : 0.9465297109907281\n",
      "Recall - Cross Validation - Std : 0.04512235014542745\n",
      "Recall - Cross Validation - Range : 0.9014073608453007 - 0.9916520611361556\n",
      "--------------------------------------------------\n",
      "xg\n",
      "Recall - Cross Validation - All : [0.84326443 0.97961511 0.98139833 0.98325137 0.98474697]\n",
      "Recall - Cross Validation - Mean : 0.9544552437675804\n",
      "Recall - Cross Validation - Std : 0.055622209511214\n",
      "Recall - Cross Validation - Range : 0.8988330342563664 - 1.0100774532787944\n",
      "--------------------------------------------------\n",
      "Best Model : rf\n",
      "Cross Validation Mean From Best Model : 0.9725162687060974\n"
     ]
    }
   ],
   "source": [
    "# looping to find best model\n",
    "models = []\n",
    "cv_score = 0\n",
    "for cv,name in zip([cv_knn,cv_svc,cv_dt,cv_rf,cv_ada,cv_xg],\n",
    "                   ['knn','svc','dt','rf','ada','xg']):\n",
    "  print(name)\n",
    "  print(f'Recall - Cross Validation - All : {cv}')\n",
    "  print(f'Recall - Cross Validation - Mean : {cv.mean()}') \n",
    "  print(f'Recall - Cross Validation - Std : {cv.std()}')\n",
    "  print(f'Recall - Cross Validation - Range : {cv.mean()-cv.std()} - {cv.mean()+cv.std()}')\n",
    "  print('-'*50)\n",
    "\n",
    "  if cv.mean() > cv_score:\n",
    "    cv_score = cv.mean()\n",
    "    best_model = name\n",
    "  else:\n",
    "    pass\n",
    "\n",
    "print(f'Best Model : {best_model}')\n",
    "print(f'Cross Validation Mean From Best Model : {cv_score}')"
   ]
  },
  {
   "cell_type": "markdown",
   "metadata": {},
   "source": [
    "From the comparison results using cross validation, the best model is Random Forest Classifier with a mean value of 0.9725162687060974. Because the best model is the Random Forest Classifier, modeling and evaluation will carry out on model Random Forest Classifier."
   ]
  },
  {
   "cell_type": "markdown",
   "metadata": {},
   "source": [
    "## Modeling and Evaluation"
   ]
  },
  {
   "cell_type": "markdown",
   "metadata": {},
   "source": [
    "For modeling and evaluation, I will predict the train set and test set using the selected best model, which is the Random Forest Classifier."
   ]
  },
  {
   "cell_type": "code",
   "execution_count": 53,
   "metadata": {},
   "outputs": [
    {
     "data": {
      "text/html": [
       "<style>#sk-container-id-1 {\n",
       "  /* Definition of color scheme common for light and dark mode */\n",
       "  --sklearn-color-text: black;\n",
       "  --sklearn-color-line: gray;\n",
       "  /* Definition of color scheme for unfitted estimators */\n",
       "  --sklearn-color-unfitted-level-0: #fff5e6;\n",
       "  --sklearn-color-unfitted-level-1: #f6e4d2;\n",
       "  --sklearn-color-unfitted-level-2: #ffe0b3;\n",
       "  --sklearn-color-unfitted-level-3: chocolate;\n",
       "  /* Definition of color scheme for fitted estimators */\n",
       "  --sklearn-color-fitted-level-0: #f0f8ff;\n",
       "  --sklearn-color-fitted-level-1: #d4ebff;\n",
       "  --sklearn-color-fitted-level-2: #b3dbfd;\n",
       "  --sklearn-color-fitted-level-3: cornflowerblue;\n",
       "\n",
       "  /* Specific color for light theme */\n",
       "  --sklearn-color-text-on-default-background: var(--sg-text-color, var(--theme-code-foreground, var(--jp-content-font-color1, black)));\n",
       "  --sklearn-color-background: var(--sg-background-color, var(--theme-background, var(--jp-layout-color0, white)));\n",
       "  --sklearn-color-border-box: var(--sg-text-color, var(--theme-code-foreground, var(--jp-content-font-color1, black)));\n",
       "  --sklearn-color-icon: #696969;\n",
       "\n",
       "  @media (prefers-color-scheme: dark) {\n",
       "    /* Redefinition of color scheme for dark theme */\n",
       "    --sklearn-color-text-on-default-background: var(--sg-text-color, var(--theme-code-foreground, var(--jp-content-font-color1, white)));\n",
       "    --sklearn-color-background: var(--sg-background-color, var(--theme-background, var(--jp-layout-color0, #111)));\n",
       "    --sklearn-color-border-box: var(--sg-text-color, var(--theme-code-foreground, var(--jp-content-font-color1, white)));\n",
       "    --sklearn-color-icon: #878787;\n",
       "  }\n",
       "}\n",
       "\n",
       "#sk-container-id-1 {\n",
       "  color: var(--sklearn-color-text);\n",
       "}\n",
       "\n",
       "#sk-container-id-1 pre {\n",
       "  padding: 0;\n",
       "}\n",
       "\n",
       "#sk-container-id-1 input.sk-hidden--visually {\n",
       "  border: 0;\n",
       "  clip: rect(1px 1px 1px 1px);\n",
       "  clip: rect(1px, 1px, 1px, 1px);\n",
       "  height: 1px;\n",
       "  margin: -1px;\n",
       "  overflow: hidden;\n",
       "  padding: 0;\n",
       "  position: absolute;\n",
       "  width: 1px;\n",
       "}\n",
       "\n",
       "#sk-container-id-1 div.sk-dashed-wrapped {\n",
       "  border: 1px dashed var(--sklearn-color-line);\n",
       "  margin: 0 0.4em 0.5em 0.4em;\n",
       "  box-sizing: border-box;\n",
       "  padding-bottom: 0.4em;\n",
       "  background-color: var(--sklearn-color-background);\n",
       "}\n",
       "\n",
       "#sk-container-id-1 div.sk-container {\n",
       "  /* jupyter's `normalize.less` sets `[hidden] { display: none; }`\n",
       "     but bootstrap.min.css set `[hidden] { display: none !important; }`\n",
       "     so we also need the `!important` here to be able to override the\n",
       "     default hidden behavior on the sphinx rendered scikit-learn.org.\n",
       "     See: https://github.com/scikit-learn/scikit-learn/issues/21755 */\n",
       "  display: inline-block !important;\n",
       "  position: relative;\n",
       "}\n",
       "\n",
       "#sk-container-id-1 div.sk-text-repr-fallback {\n",
       "  display: none;\n",
       "}\n",
       "\n",
       "div.sk-parallel-item,\n",
       "div.sk-serial,\n",
       "div.sk-item {\n",
       "  /* draw centered vertical line to link estimators */\n",
       "  background-image: linear-gradient(var(--sklearn-color-text-on-default-background), var(--sklearn-color-text-on-default-background));\n",
       "  background-size: 2px 100%;\n",
       "  background-repeat: no-repeat;\n",
       "  background-position: center center;\n",
       "}\n",
       "\n",
       "/* Parallel-specific style estimator block */\n",
       "\n",
       "#sk-container-id-1 div.sk-parallel-item::after {\n",
       "  content: \"\";\n",
       "  width: 100%;\n",
       "  border-bottom: 2px solid var(--sklearn-color-text-on-default-background);\n",
       "  flex-grow: 1;\n",
       "}\n",
       "\n",
       "#sk-container-id-1 div.sk-parallel {\n",
       "  display: flex;\n",
       "  align-items: stretch;\n",
       "  justify-content: center;\n",
       "  background-color: var(--sklearn-color-background);\n",
       "  position: relative;\n",
       "}\n",
       "\n",
       "#sk-container-id-1 div.sk-parallel-item {\n",
       "  display: flex;\n",
       "  flex-direction: column;\n",
       "}\n",
       "\n",
       "#sk-container-id-1 div.sk-parallel-item:first-child::after {\n",
       "  align-self: flex-end;\n",
       "  width: 50%;\n",
       "}\n",
       "\n",
       "#sk-container-id-1 div.sk-parallel-item:last-child::after {\n",
       "  align-self: flex-start;\n",
       "  width: 50%;\n",
       "}\n",
       "\n",
       "#sk-container-id-1 div.sk-parallel-item:only-child::after {\n",
       "  width: 0;\n",
       "}\n",
       "\n",
       "/* Serial-specific style estimator block */\n",
       "\n",
       "#sk-container-id-1 div.sk-serial {\n",
       "  display: flex;\n",
       "  flex-direction: column;\n",
       "  align-items: center;\n",
       "  background-color: var(--sklearn-color-background);\n",
       "  padding-right: 1em;\n",
       "  padding-left: 1em;\n",
       "}\n",
       "\n",
       "\n",
       "/* Toggleable style: style used for estimator/Pipeline/ColumnTransformer box that is\n",
       "clickable and can be expanded/collapsed.\n",
       "- Pipeline and ColumnTransformer use this feature and define the default style\n",
       "- Estimators will overwrite some part of the style using the `sk-estimator` class\n",
       "*/\n",
       "\n",
       "/* Pipeline and ColumnTransformer style (default) */\n",
       "\n",
       "#sk-container-id-1 div.sk-toggleable {\n",
       "  /* Default theme specific background. It is overwritten whether we have a\n",
       "  specific estimator or a Pipeline/ColumnTransformer */\n",
       "  background-color: var(--sklearn-color-background);\n",
       "}\n",
       "\n",
       "/* Toggleable label */\n",
       "#sk-container-id-1 label.sk-toggleable__label {\n",
       "  cursor: pointer;\n",
       "  display: block;\n",
       "  width: 100%;\n",
       "  margin-bottom: 0;\n",
       "  padding: 0.5em;\n",
       "  box-sizing: border-box;\n",
       "  text-align: center;\n",
       "}\n",
       "\n",
       "#sk-container-id-1 label.sk-toggleable__label-arrow:before {\n",
       "  /* Arrow on the left of the label */\n",
       "  content: \"▸\";\n",
       "  float: left;\n",
       "  margin-right: 0.25em;\n",
       "  color: var(--sklearn-color-icon);\n",
       "}\n",
       "\n",
       "#sk-container-id-1 label.sk-toggleable__label-arrow:hover:before {\n",
       "  color: var(--sklearn-color-text);\n",
       "}\n",
       "\n",
       "/* Toggleable content - dropdown */\n",
       "\n",
       "#sk-container-id-1 div.sk-toggleable__content {\n",
       "  max-height: 0;\n",
       "  max-width: 0;\n",
       "  overflow: hidden;\n",
       "  text-align: left;\n",
       "  /* unfitted */\n",
       "  background-color: var(--sklearn-color-unfitted-level-0);\n",
       "}\n",
       "\n",
       "#sk-container-id-1 div.sk-toggleable__content.fitted {\n",
       "  /* fitted */\n",
       "  background-color: var(--sklearn-color-fitted-level-0);\n",
       "}\n",
       "\n",
       "#sk-container-id-1 div.sk-toggleable__content pre {\n",
       "  margin: 0.2em;\n",
       "  border-radius: 0.25em;\n",
       "  color: var(--sklearn-color-text);\n",
       "  /* unfitted */\n",
       "  background-color: var(--sklearn-color-unfitted-level-0);\n",
       "}\n",
       "\n",
       "#sk-container-id-1 div.sk-toggleable__content.fitted pre {\n",
       "  /* unfitted */\n",
       "  background-color: var(--sklearn-color-fitted-level-0);\n",
       "}\n",
       "\n",
       "#sk-container-id-1 input.sk-toggleable__control:checked~div.sk-toggleable__content {\n",
       "  /* Expand drop-down */\n",
       "  max-height: 200px;\n",
       "  max-width: 100%;\n",
       "  overflow: auto;\n",
       "}\n",
       "\n",
       "#sk-container-id-1 input.sk-toggleable__control:checked~label.sk-toggleable__label-arrow:before {\n",
       "  content: \"▾\";\n",
       "}\n",
       "\n",
       "/* Pipeline/ColumnTransformer-specific style */\n",
       "\n",
       "#sk-container-id-1 div.sk-label input.sk-toggleable__control:checked~label.sk-toggleable__label {\n",
       "  color: var(--sklearn-color-text);\n",
       "  background-color: var(--sklearn-color-unfitted-level-2);\n",
       "}\n",
       "\n",
       "#sk-container-id-1 div.sk-label.fitted input.sk-toggleable__control:checked~label.sk-toggleable__label {\n",
       "  background-color: var(--sklearn-color-fitted-level-2);\n",
       "}\n",
       "\n",
       "/* Estimator-specific style */\n",
       "\n",
       "/* Colorize estimator box */\n",
       "#sk-container-id-1 div.sk-estimator input.sk-toggleable__control:checked~label.sk-toggleable__label {\n",
       "  /* unfitted */\n",
       "  background-color: var(--sklearn-color-unfitted-level-2);\n",
       "}\n",
       "\n",
       "#sk-container-id-1 div.sk-estimator.fitted input.sk-toggleable__control:checked~label.sk-toggleable__label {\n",
       "  /* fitted */\n",
       "  background-color: var(--sklearn-color-fitted-level-2);\n",
       "}\n",
       "\n",
       "#sk-container-id-1 div.sk-label label.sk-toggleable__label,\n",
       "#sk-container-id-1 div.sk-label label {\n",
       "  /* The background is the default theme color */\n",
       "  color: var(--sklearn-color-text-on-default-background);\n",
       "}\n",
       "\n",
       "/* On hover, darken the color of the background */\n",
       "#sk-container-id-1 div.sk-label:hover label.sk-toggleable__label {\n",
       "  color: var(--sklearn-color-text);\n",
       "  background-color: var(--sklearn-color-unfitted-level-2);\n",
       "}\n",
       "\n",
       "/* Label box, darken color on hover, fitted */\n",
       "#sk-container-id-1 div.sk-label.fitted:hover label.sk-toggleable__label.fitted {\n",
       "  color: var(--sklearn-color-text);\n",
       "  background-color: var(--sklearn-color-fitted-level-2);\n",
       "}\n",
       "\n",
       "/* Estimator label */\n",
       "\n",
       "#sk-container-id-1 div.sk-label label {\n",
       "  font-family: monospace;\n",
       "  font-weight: bold;\n",
       "  display: inline-block;\n",
       "  line-height: 1.2em;\n",
       "}\n",
       "\n",
       "#sk-container-id-1 div.sk-label-container {\n",
       "  text-align: center;\n",
       "}\n",
       "\n",
       "/* Estimator-specific */\n",
       "#sk-container-id-1 div.sk-estimator {\n",
       "  font-family: monospace;\n",
       "  border: 1px dotted var(--sklearn-color-border-box);\n",
       "  border-radius: 0.25em;\n",
       "  box-sizing: border-box;\n",
       "  margin-bottom: 0.5em;\n",
       "  /* unfitted */\n",
       "  background-color: var(--sklearn-color-unfitted-level-0);\n",
       "}\n",
       "\n",
       "#sk-container-id-1 div.sk-estimator.fitted {\n",
       "  /* fitted */\n",
       "  background-color: var(--sklearn-color-fitted-level-0);\n",
       "}\n",
       "\n",
       "/* on hover */\n",
       "#sk-container-id-1 div.sk-estimator:hover {\n",
       "  /* unfitted */\n",
       "  background-color: var(--sklearn-color-unfitted-level-2);\n",
       "}\n",
       "\n",
       "#sk-container-id-1 div.sk-estimator.fitted:hover {\n",
       "  /* fitted */\n",
       "  background-color: var(--sklearn-color-fitted-level-2);\n",
       "}\n",
       "\n",
       "/* Specification for estimator info (e.g. \"i\" and \"?\") */\n",
       "\n",
       "/* Common style for \"i\" and \"?\" */\n",
       "\n",
       ".sk-estimator-doc-link,\n",
       "a:link.sk-estimator-doc-link,\n",
       "a:visited.sk-estimator-doc-link {\n",
       "  float: right;\n",
       "  font-size: smaller;\n",
       "  line-height: 1em;\n",
       "  font-family: monospace;\n",
       "  background-color: var(--sklearn-color-background);\n",
       "  border-radius: 1em;\n",
       "  height: 1em;\n",
       "  width: 1em;\n",
       "  text-decoration: none !important;\n",
       "  margin-left: 1ex;\n",
       "  /* unfitted */\n",
       "  border: var(--sklearn-color-unfitted-level-1) 1pt solid;\n",
       "  color: var(--sklearn-color-unfitted-level-1);\n",
       "}\n",
       "\n",
       ".sk-estimator-doc-link.fitted,\n",
       "a:link.sk-estimator-doc-link.fitted,\n",
       "a:visited.sk-estimator-doc-link.fitted {\n",
       "  /* fitted */\n",
       "  border: var(--sklearn-color-fitted-level-1) 1pt solid;\n",
       "  color: var(--sklearn-color-fitted-level-1);\n",
       "}\n",
       "\n",
       "/* On hover */\n",
       "div.sk-estimator:hover .sk-estimator-doc-link:hover,\n",
       ".sk-estimator-doc-link:hover,\n",
       "div.sk-label-container:hover .sk-estimator-doc-link:hover,\n",
       ".sk-estimator-doc-link:hover {\n",
       "  /* unfitted */\n",
       "  background-color: var(--sklearn-color-unfitted-level-3);\n",
       "  color: var(--sklearn-color-background);\n",
       "  text-decoration: none;\n",
       "}\n",
       "\n",
       "div.sk-estimator.fitted:hover .sk-estimator-doc-link.fitted:hover,\n",
       ".sk-estimator-doc-link.fitted:hover,\n",
       "div.sk-label-container:hover .sk-estimator-doc-link.fitted:hover,\n",
       ".sk-estimator-doc-link.fitted:hover {\n",
       "  /* fitted */\n",
       "  background-color: var(--sklearn-color-fitted-level-3);\n",
       "  color: var(--sklearn-color-background);\n",
       "  text-decoration: none;\n",
       "}\n",
       "\n",
       "/* Span, style for the box shown on hovering the info icon */\n",
       ".sk-estimator-doc-link span {\n",
       "  display: none;\n",
       "  z-index: 9999;\n",
       "  position: relative;\n",
       "  font-weight: normal;\n",
       "  right: .2ex;\n",
       "  padding: .5ex;\n",
       "  margin: .5ex;\n",
       "  width: min-content;\n",
       "  min-width: 20ex;\n",
       "  max-width: 50ex;\n",
       "  color: var(--sklearn-color-text);\n",
       "  box-shadow: 2pt 2pt 4pt #999;\n",
       "  /* unfitted */\n",
       "  background: var(--sklearn-color-unfitted-level-0);\n",
       "  border: .5pt solid var(--sklearn-color-unfitted-level-3);\n",
       "}\n",
       "\n",
       ".sk-estimator-doc-link.fitted span {\n",
       "  /* fitted */\n",
       "  background: var(--sklearn-color-fitted-level-0);\n",
       "  border: var(--sklearn-color-fitted-level-3);\n",
       "}\n",
       "\n",
       ".sk-estimator-doc-link:hover span {\n",
       "  display: block;\n",
       "}\n",
       "\n",
       "/* \"?\"-specific style due to the `<a>` HTML tag */\n",
       "\n",
       "#sk-container-id-1 a.estimator_doc_link {\n",
       "  float: right;\n",
       "  font-size: 1rem;\n",
       "  line-height: 1em;\n",
       "  font-family: monospace;\n",
       "  background-color: var(--sklearn-color-background);\n",
       "  border-radius: 1rem;\n",
       "  height: 1rem;\n",
       "  width: 1rem;\n",
       "  text-decoration: none;\n",
       "  /* unfitted */\n",
       "  color: var(--sklearn-color-unfitted-level-1);\n",
       "  border: var(--sklearn-color-unfitted-level-1) 1pt solid;\n",
       "}\n",
       "\n",
       "#sk-container-id-1 a.estimator_doc_link.fitted {\n",
       "  /* fitted */\n",
       "  border: var(--sklearn-color-fitted-level-1) 1pt solid;\n",
       "  color: var(--sklearn-color-fitted-level-1);\n",
       "}\n",
       "\n",
       "/* On hover */\n",
       "#sk-container-id-1 a.estimator_doc_link:hover {\n",
       "  /* unfitted */\n",
       "  background-color: var(--sklearn-color-unfitted-level-3);\n",
       "  color: var(--sklearn-color-background);\n",
       "  text-decoration: none;\n",
       "}\n",
       "\n",
       "#sk-container-id-1 a.estimator_doc_link.fitted:hover {\n",
       "  /* fitted */\n",
       "  background-color: var(--sklearn-color-fitted-level-3);\n",
       "}\n",
       "</style><div id=\"sk-container-id-1\" class=\"sk-top-container\"><div class=\"sk-text-repr-fallback\"><pre>Pipeline(steps=[(&#x27;columntransformer&#x27;,\n",
       "                 ColumnTransformer(remainder=&#x27;passthrough&#x27;,\n",
       "                                   transformers=[(&#x27;standard_scaler&#x27;,\n",
       "                                                  StandardScaler(),\n",
       "                                                  [&#x27;age&#x27;, &#x27;HbA1c_level&#x27;]),\n",
       "                                                 (&#x27;minmax_scaler&#x27;,\n",
       "                                                  MinMaxScaler(),\n",
       "                                                  [&#x27;bmi&#x27;,\n",
       "                                                   &#x27;blood_glucose_level&#x27;]),\n",
       "                                                 (&#x27;encoder&#x27;, OneHotEncoder(),\n",
       "                                                  [&#x27;hypertension&#x27;,\n",
       "                                                   &#x27;heart_disease&#x27;])])),\n",
       "                (&#x27;randomforestclassifier&#x27;,\n",
       "                 RandomForestClassifier(random_state=20))])</pre><b>In a Jupyter environment, please rerun this cell to show the HTML representation or trust the notebook. <br />On GitHub, the HTML representation is unable to render, please try loading this page with nbviewer.org.</b></div><div class=\"sk-container\" hidden><div class=\"sk-item sk-dashed-wrapped\"><div class=\"sk-label-container\"><div class=\"sk-label fitted sk-toggleable\"><input class=\"sk-toggleable__control sk-hidden--visually\" id=\"sk-estimator-id-1\" type=\"checkbox\" ><label for=\"sk-estimator-id-1\" class=\"sk-toggleable__label fitted sk-toggleable__label-arrow fitted\">&nbsp;&nbsp;Pipeline<a class=\"sk-estimator-doc-link fitted\" rel=\"noreferrer\" target=\"_blank\" href=\"https://scikit-learn.org/1.5/modules/generated/sklearn.pipeline.Pipeline.html\">?<span>Documentation for Pipeline</span></a><span class=\"sk-estimator-doc-link fitted\">i<span>Fitted</span></span></label><div class=\"sk-toggleable__content fitted\"><pre>Pipeline(steps=[(&#x27;columntransformer&#x27;,\n",
       "                 ColumnTransformer(remainder=&#x27;passthrough&#x27;,\n",
       "                                   transformers=[(&#x27;standard_scaler&#x27;,\n",
       "                                                  StandardScaler(),\n",
       "                                                  [&#x27;age&#x27;, &#x27;HbA1c_level&#x27;]),\n",
       "                                                 (&#x27;minmax_scaler&#x27;,\n",
       "                                                  MinMaxScaler(),\n",
       "                                                  [&#x27;bmi&#x27;,\n",
       "                                                   &#x27;blood_glucose_level&#x27;]),\n",
       "                                                 (&#x27;encoder&#x27;, OneHotEncoder(),\n",
       "                                                  [&#x27;hypertension&#x27;,\n",
       "                                                   &#x27;heart_disease&#x27;])])),\n",
       "                (&#x27;randomforestclassifier&#x27;,\n",
       "                 RandomForestClassifier(random_state=20))])</pre></div> </div></div><div class=\"sk-serial\"><div class=\"sk-item sk-dashed-wrapped\"><div class=\"sk-label-container\"><div class=\"sk-label fitted sk-toggleable\"><input class=\"sk-toggleable__control sk-hidden--visually\" id=\"sk-estimator-id-2\" type=\"checkbox\" ><label for=\"sk-estimator-id-2\" class=\"sk-toggleable__label fitted sk-toggleable__label-arrow fitted\">&nbsp;columntransformer: ColumnTransformer<a class=\"sk-estimator-doc-link fitted\" rel=\"noreferrer\" target=\"_blank\" href=\"https://scikit-learn.org/1.5/modules/generated/sklearn.compose.ColumnTransformer.html\">?<span>Documentation for columntransformer: ColumnTransformer</span></a></label><div class=\"sk-toggleable__content fitted\"><pre>ColumnTransformer(remainder=&#x27;passthrough&#x27;,\n",
       "                  transformers=[(&#x27;standard_scaler&#x27;, StandardScaler(),\n",
       "                                 [&#x27;age&#x27;, &#x27;HbA1c_level&#x27;]),\n",
       "                                (&#x27;minmax_scaler&#x27;, MinMaxScaler(),\n",
       "                                 [&#x27;bmi&#x27;, &#x27;blood_glucose_level&#x27;]),\n",
       "                                (&#x27;encoder&#x27;, OneHotEncoder(),\n",
       "                                 [&#x27;hypertension&#x27;, &#x27;heart_disease&#x27;])])</pre></div> </div></div><div class=\"sk-parallel\"><div class=\"sk-parallel-item\"><div class=\"sk-item\"><div class=\"sk-label-container\"><div class=\"sk-label fitted sk-toggleable\"><input class=\"sk-toggleable__control sk-hidden--visually\" id=\"sk-estimator-id-3\" type=\"checkbox\" ><label for=\"sk-estimator-id-3\" class=\"sk-toggleable__label fitted sk-toggleable__label-arrow fitted\">standard_scaler</label><div class=\"sk-toggleable__content fitted\"><pre>[&#x27;age&#x27;, &#x27;HbA1c_level&#x27;]</pre></div> </div></div><div class=\"sk-serial\"><div class=\"sk-item\"><div class=\"sk-estimator fitted sk-toggleable\"><input class=\"sk-toggleable__control sk-hidden--visually\" id=\"sk-estimator-id-4\" type=\"checkbox\" ><label for=\"sk-estimator-id-4\" class=\"sk-toggleable__label fitted sk-toggleable__label-arrow fitted\">&nbsp;StandardScaler<a class=\"sk-estimator-doc-link fitted\" rel=\"noreferrer\" target=\"_blank\" href=\"https://scikit-learn.org/1.5/modules/generated/sklearn.preprocessing.StandardScaler.html\">?<span>Documentation for StandardScaler</span></a></label><div class=\"sk-toggleable__content fitted\"><pre>StandardScaler()</pre></div> </div></div></div></div></div><div class=\"sk-parallel-item\"><div class=\"sk-item\"><div class=\"sk-label-container\"><div class=\"sk-label fitted sk-toggleable\"><input class=\"sk-toggleable__control sk-hidden--visually\" id=\"sk-estimator-id-5\" type=\"checkbox\" ><label for=\"sk-estimator-id-5\" class=\"sk-toggleable__label fitted sk-toggleable__label-arrow fitted\">minmax_scaler</label><div class=\"sk-toggleable__content fitted\"><pre>[&#x27;bmi&#x27;, &#x27;blood_glucose_level&#x27;]</pre></div> </div></div><div class=\"sk-serial\"><div class=\"sk-item\"><div class=\"sk-estimator fitted sk-toggleable\"><input class=\"sk-toggleable__control sk-hidden--visually\" id=\"sk-estimator-id-6\" type=\"checkbox\" ><label for=\"sk-estimator-id-6\" class=\"sk-toggleable__label fitted sk-toggleable__label-arrow fitted\">&nbsp;MinMaxScaler<a class=\"sk-estimator-doc-link fitted\" rel=\"noreferrer\" target=\"_blank\" href=\"https://scikit-learn.org/1.5/modules/generated/sklearn.preprocessing.MinMaxScaler.html\">?<span>Documentation for MinMaxScaler</span></a></label><div class=\"sk-toggleable__content fitted\"><pre>MinMaxScaler()</pre></div> </div></div></div></div></div><div class=\"sk-parallel-item\"><div class=\"sk-item\"><div class=\"sk-label-container\"><div class=\"sk-label fitted sk-toggleable\"><input class=\"sk-toggleable__control sk-hidden--visually\" id=\"sk-estimator-id-7\" type=\"checkbox\" ><label for=\"sk-estimator-id-7\" class=\"sk-toggleable__label fitted sk-toggleable__label-arrow fitted\">encoder</label><div class=\"sk-toggleable__content fitted\"><pre>[&#x27;hypertension&#x27;, &#x27;heart_disease&#x27;]</pre></div> </div></div><div class=\"sk-serial\"><div class=\"sk-item\"><div class=\"sk-estimator fitted sk-toggleable\"><input class=\"sk-toggleable__control sk-hidden--visually\" id=\"sk-estimator-id-8\" type=\"checkbox\" ><label for=\"sk-estimator-id-8\" class=\"sk-toggleable__label fitted sk-toggleable__label-arrow fitted\">&nbsp;OneHotEncoder<a class=\"sk-estimator-doc-link fitted\" rel=\"noreferrer\" target=\"_blank\" href=\"https://scikit-learn.org/1.5/modules/generated/sklearn.preprocessing.OneHotEncoder.html\">?<span>Documentation for OneHotEncoder</span></a></label><div class=\"sk-toggleable__content fitted\"><pre>OneHotEncoder()</pre></div> </div></div></div></div></div><div class=\"sk-parallel-item\"><div class=\"sk-item\"><div class=\"sk-label-container\"><div class=\"sk-label fitted sk-toggleable\"><input class=\"sk-toggleable__control sk-hidden--visually\" id=\"sk-estimator-id-9\" type=\"checkbox\" ><label for=\"sk-estimator-id-9\" class=\"sk-toggleable__label fitted sk-toggleable__label-arrow fitted\">remainder</label><div class=\"sk-toggleable__content fitted\"><pre>[]</pre></div> </div></div><div class=\"sk-serial\"><div class=\"sk-item\"><div class=\"sk-estimator fitted sk-toggleable\"><input class=\"sk-toggleable__control sk-hidden--visually\" id=\"sk-estimator-id-10\" type=\"checkbox\" ><label for=\"sk-estimator-id-10\" class=\"sk-toggleable__label fitted sk-toggleable__label-arrow fitted\">passthrough</label><div class=\"sk-toggleable__content fitted\"><pre>passthrough</pre></div> </div></div></div></div></div></div></div><div class=\"sk-item\"><div class=\"sk-estimator fitted sk-toggleable\"><input class=\"sk-toggleable__control sk-hidden--visually\" id=\"sk-estimator-id-11\" type=\"checkbox\" ><label for=\"sk-estimator-id-11\" class=\"sk-toggleable__label fitted sk-toggleable__label-arrow fitted\">&nbsp;RandomForestClassifier<a class=\"sk-estimator-doc-link fitted\" rel=\"noreferrer\" target=\"_blank\" href=\"https://scikit-learn.org/1.5/modules/generated/sklearn.ensemble.RandomForestClassifier.html\">?<span>Documentation for RandomForestClassifier</span></a></label><div class=\"sk-toggleable__content fitted\"><pre>RandomForestClassifier(random_state=20)</pre></div> </div></div></div></div></div></div>"
      ],
      "text/plain": [
       "Pipeline(steps=[('columntransformer',\n",
       "                 ColumnTransformer(remainder='passthrough',\n",
       "                                   transformers=[('standard_scaler',\n",
       "                                                  StandardScaler(),\n",
       "                                                  ['age', 'HbA1c_level']),\n",
       "                                                 ('minmax_scaler',\n",
       "                                                  MinMaxScaler(),\n",
       "                                                  ['bmi',\n",
       "                                                   'blood_glucose_level']),\n",
       "                                                 ('encoder', OneHotEncoder(),\n",
       "                                                  ['hypertension',\n",
       "                                                   'heart_disease'])])),\n",
       "                ('randomforestclassifier',\n",
       "                 RandomForestClassifier(random_state=20))])"
      ]
     },
     "execution_count": 53,
     "metadata": {},
     "output_type": "execute_result"
    }
   ],
   "source": [
    "# baseline model using random forest\n",
    "pipe_rf.fit(X_train_balanced, y_train_balanced)"
   ]
  },
  {
   "cell_type": "markdown",
   "metadata": {},
   "source": [
    "Next, we will check the performance of the best model before hyperparameter tuning using confusion matrix."
   ]
  },
  {
   "cell_type": "code",
   "execution_count": 54,
   "metadata": {},
   "outputs": [
    {
     "name": "stdout",
     "output_type": "stream",
     "text": [
      "Recall Score - Train Set  :  0.9975624358535751 \n",
      "\n",
      "Classification Report : \n",
      "               precision    recall  f1-score   support\n",
      "\n",
      "           0       1.00      1.00      1.00     70152\n",
      "           1       1.00      1.00      1.00     70152\n",
      "\n",
      "    accuracy                           1.00    140304\n",
      "   macro avg       1.00      1.00      1.00    140304\n",
      "weighted avg       1.00      1.00      1.00    140304\n",
      " \n",
      "\n",
      "Confusion Matrix      : \n",
      " <sklearn.metrics._plot.confusion_matrix.ConfusionMatrixDisplay object at 0x132c4d410>\n"
     ]
    },
    {
     "data": {
      "image/png": "[encoded data removed]",
      "text/plain": [
       "<Figure size 640x480 with 2 Axes>"
      ]
     },
     "metadata": {},
     "output_type": "display_data"
    }
   ],
   "source": [
    "# check performance model against train-set\n",
    "y_pred_train = pipe_rf.predict(X_train_balanced)\n",
    "\n",
    "print('Recall Score - Train Set  : ', recall_score(y_train_balanced, y_pred_train), '\\n')\n",
    "print('Classification Report : \\n', classification_report(y_train_balanced, y_pred_train), '\\n')\n",
    "print('Confusion Matrix      : \\n', ConfusionMatrixDisplay.from_estimator(pipe_rf, X_train_balanced, y_train_balanced, cmap='Reds'))"
   ]
  },
  {
   "cell_type": "code",
   "execution_count": 55,
   "metadata": {},
   "outputs": [
    {
     "name": "stdout",
     "output_type": "stream",
     "text": [
      "Recall Score - Test Set   :  0.7415599534342259 \n",
      "\n",
      "Classification Report : \n",
      "               precision    recall  f1-score   support\n",
      "\n",
      "           0       0.97      0.98      0.98     17512\n",
      "           1       0.77      0.74      0.75      1718\n",
      "\n",
      "    accuracy                           0.96     19230\n",
      "   macro avg       0.87      0.86      0.87     19230\n",
      "weighted avg       0.96      0.96      0.96     19230\n",
      " \n",
      "\n",
      "Confusion Matrix      : \n",
      " <sklearn.metrics._plot.confusion_matrix.ConfusionMatrixDisplay object at 0x132f07610>\n"
     ]
    },
    {
     "data": {
      "image/png": "[encoded data removed]",
      "text/plain": [
       "<Figure size 640x480 with 2 Axes>"
      ]
     },
     "metadata": {},
     "output_type": "display_data"
    }
   ],
   "source": [
    "# check performance model against test-set\n",
    "y_pred_test = pipe_rf.predict(X_test_feature)\n",
    "\n",
    "print('Recall Score - Test Set   : ', recall_score(y_test, y_pred_test), '\\n')\n",
    "print('Classification Report : \\n', classification_report(y_test, y_pred_test), '\\n')\n",
    "print('Confusion Matrix      : \\n', ConfusionMatrixDisplay.from_estimator(pipe_rf, X_test_feature, y_test, cmap='Reds'))"
   ]
  },
  {
   "cell_type": "code",
   "execution_count": 56,
   "metadata": {},
   "outputs": [],
   "source": [
    "# define confusion matrix\n",
    "cm = confusion_matrix(y_test, y_pred_test)\n",
    "\n",
    "# confusion matrix to extract False Positive\n",
    "fp = cm[0][1]\n",
    "\n",
    "# confusion matrix to extract False Negative\n",
    "fn = cm[1][0]"
   ]
  },
  {
   "cell_type": "code",
   "execution_count": 57,
   "metadata": {},
   "outputs": [
    {
     "data": {
      "text/html": [
       "<div>\n",
       "<style scoped>\n",
       "    .dataframe tbody tr th:only-of-type {\n",
       "        vertical-align: middle;\n",
       "    }\n",
       "\n",
       "    .dataframe tbody tr th {\n",
       "        vertical-align: top;\n",
       "    }\n",
       "\n",
       "    .dataframe thead th {\n",
       "        text-align: right;\n",
       "    }\n",
       "</style>\n",
       "<table border=\"1\" class=\"dataframe\">\n",
       "  <thead>\n",
       "    <tr style=\"text-align: right;\">\n",
       "      <th></th>\n",
       "      <th>Baseline (Default Hyperparameter)</th>\n",
       "    </tr>\n",
       "  </thead>\n",
       "  <tbody>\n",
       "    <tr>\n",
       "      <th>train - recall_score</th>\n",
       "      <td>0.997562</td>\n",
       "    </tr>\n",
       "    <tr>\n",
       "      <th>test - recall_score</th>\n",
       "      <td>0.741560</td>\n",
       "    </tr>\n",
       "    <tr>\n",
       "      <th>test - false positive</th>\n",
       "      <td>386.000000</td>\n",
       "    </tr>\n",
       "    <tr>\n",
       "      <th>test - false negative</th>\n",
       "      <td>444.000000</td>\n",
       "    </tr>\n",
       "  </tbody>\n",
       "</table>\n",
       "</div>"
      ],
      "text/plain": [
       "                       Baseline (Default Hyperparameter)\n",
       "train - recall_score                            0.997562\n",
       "test - recall_score                             0.741560\n",
       "test - false positive                         386.000000\n",
       "test - false negative                         444.000000"
      ]
     },
     "execution_count": 57,
     "metadata": {},
     "output_type": "execute_result"
    }
   ],
   "source": [
    "# save classification report into a dictionary\n",
    "all_reports = {}\n",
    "def performance_report(all_reports, y_train_balanced, y_pred_train, y_test, y_pred_test, name):\n",
    "  score_reports = {\n",
    "      'train - recall_score' : recall_score(y_train_balanced, y_pred_train),\n",
    "      'test - recall_score' : recall_score(y_test, y_pred_test),\n",
    "      'test - false positive' : fp,\n",
    "      'test - false negative' : fn\n",
    "  }\n",
    "  all_reports[name] = score_reports\n",
    "  return all_reports\n",
    "\n",
    "all_reports = performance_report(all_reports, y_train_balanced, y_pred_train, y_test, y_pred_test, 'Baseline (Default Hyperparameter)')\n",
    "pd.DataFrame(all_reports)"
   ]
  },
  {
   "cell_type": "markdown",
   "metadata": {},
   "source": [
    "Based on the performance evaluation of Random Forest Classifier model, the results indicate that the `machine learning model tends to overfit`, as the recall score on the training set exceeds 80%, while the difference between training and testing is more than 5%."
   ]
  },
  {
   "cell_type": "markdown",
   "metadata": {},
   "source": [
    "### Hyperparameter Tuning: Grid Search"
   ]
  },
  {
   "cell_type": "markdown",
   "metadata": {},
   "source": [
    "Hyperparameter tuning is the process of finding the optimal parameter combination for a machine learning model. In this case, I will use grid search technique for hyperparameter tuning to systematically evaluate all combinations of predefined parameters and determine the best combination for the model."
   ]
  },
  {
   "cell_type": "code",
   "execution_count": 58,
   "metadata": {},
   "outputs": [
    {
     "data": {
      "text/plain": [
       "{'randomforestclassifier__criterion': ['gini'],\n",
       " 'randomforestclassifier__max_depth': [35, 36, 45],\n",
       " 'randomforestclassifier__min_samples_split': [1, 2, 3, 4, 5],\n",
       " 'randomforestclassifier__min_samples_leaf': [1, 2, 3, 4, 5]}"
      ]
     },
     "execution_count": 58,
     "metadata": {},
     "output_type": "execute_result"
    }
   ],
   "source": [
    "# define hyperparameters grid\n",
    "criterion = ['gini']\n",
    "max_depth = [35,36,45]\n",
    "min_samples_split = [1,2,3,4,5]\n",
    "min_samples_leaf = [1,2,3,4,5]\n",
    "\n",
    "grid_search_params = {'randomforestclassifier__criterion': criterion,\n",
    "                      'randomforestclassifier__max_depth': max_depth,\n",
    "                      'randomforestclassifier__min_samples_split': min_samples_split,\n",
    "                      'randomforestclassifier__min_samples_leaf': min_samples_leaf}\n",
    "grid_search_params"
   ]
  },
  {
   "cell_type": "markdown",
   "metadata": {},
   "source": [
    "Next step is training using predetermined parameters with grid search by fitting 3 folds for each of 75 candidates, totaling 225 fits attempts."
   ]
  },
  {
   "cell_type": "code",
   "execution_count": 59,
   "metadata": {},
   "outputs": [
    {
     "data": {
      "text/html": [
       "<style>#sk-container-id-2 {\n",
       "  /* Definition of color scheme common for light and dark mode */\n",
       "  --sklearn-color-text: black;\n",
       "  --sklearn-color-line: gray;\n",
       "  /* Definition of color scheme for unfitted estimators */\n",
       "  --sklearn-color-unfitted-level-0: #fff5e6;\n",
       "  --sklearn-color-unfitted-level-1: #f6e4d2;\n",
       "  --sklearn-color-unfitted-level-2: #ffe0b3;\n",
       "  --sklearn-color-unfitted-level-3: chocolate;\n",
       "  /* Definition of color scheme for fitted estimators */\n",
       "  --sklearn-color-fitted-level-0: #f0f8ff;\n",
       "  --sklearn-color-fitted-level-1: #d4ebff;\n",
       "  --sklearn-color-fitted-level-2: #b3dbfd;\n",
       "  --sklearn-color-fitted-level-3: cornflowerblue;\n",
       "\n",
       "  /* Specific color for light theme */\n",
       "  --sklearn-color-text-on-default-background: var(--sg-text-color, var(--theme-code-foreground, var(--jp-content-font-color1, black)));\n",
       "  --sklearn-color-background: var(--sg-background-color, var(--theme-background, var(--jp-layout-color0, white)));\n",
       "  --sklearn-color-border-box: var(--sg-text-color, var(--theme-code-foreground, var(--jp-content-font-color1, black)));\n",
       "  --sklearn-color-icon: #696969;\n",
       "\n",
       "  @media (prefers-color-scheme: dark) {\n",
       "    /* Redefinition of color scheme for dark theme */\n",
       "    --sklearn-color-text-on-default-background: var(--sg-text-color, var(--theme-code-foreground, var(--jp-content-font-color1, white)));\n",
       "    --sklearn-color-background: var(--sg-background-color, var(--theme-background, var(--jp-layout-color0, #111)));\n",
       "    --sklearn-color-border-box: var(--sg-text-color, var(--theme-code-foreground, var(--jp-content-font-color1, white)));\n",
       "    --sklearn-color-icon: #878787;\n",
       "  }\n",
       "}\n",
       "\n",
       "#sk-container-id-2 {\n",
       "  color: var(--sklearn-color-text);\n",
       "}\n",
       "\n",
       "#sk-container-id-2 pre {\n",
       "  padding: 0;\n",
       "}\n",
       "\n",
       "#sk-container-id-2 input.sk-hidden--visually {\n",
       "  border: 0;\n",
       "  clip: rect(1px 1px 1px 1px);\n",
       "  clip: rect(1px, 1px, 1px, 1px);\n",
       "  height: 1px;\n",
       "  margin: -1px;\n",
       "  overflow: hidden;\n",
       "  padding: 0;\n",
       "  position: absolute;\n",
       "  width: 1px;\n",
       "}\n",
       "\n",
       "#sk-container-id-2 div.sk-dashed-wrapped {\n",
       "  border: 1px dashed var(--sklearn-color-line);\n",
       "  margin: 0 0.4em 0.5em 0.4em;\n",
       "  box-sizing: border-box;\n",
       "  padding-bottom: 0.4em;\n",
       "  background-color: var(--sklearn-color-background);\n",
       "}\n",
       "\n",
       "#sk-container-id-2 div.sk-container {\n",
       "  /* jupyter's `normalize.less` sets `[hidden] { display: none; }`\n",
       "     but bootstrap.min.css set `[hidden] { display: none !important; }`\n",
       "     so we also need the `!important` here to be able to override the\n",
       "     default hidden behavior on the sphinx rendered scikit-learn.org.\n",
       "     See: https://github.com/scikit-learn/scikit-learn/issues/21755 */\n",
       "  display: inline-block !important;\n",
       "  position: relative;\n",
       "}\n",
       "\n",
       "#sk-container-id-2 div.sk-text-repr-fallback {\n",
       "  display: none;\n",
       "}\n",
       "\n",
       "div.sk-parallel-item,\n",
       "div.sk-serial,\n",
       "div.sk-item {\n",
       "  /* draw centered vertical line to link estimators */\n",
       "  background-image: linear-gradient(var(--sklearn-color-text-on-default-background), var(--sklearn-color-text-on-default-background));\n",
       "  background-size: 2px 100%;\n",
       "  background-repeat: no-repeat;\n",
       "  background-position: center center;\n",
       "}\n",
       "\n",
       "/* Parallel-specific style estimator block */\n",
       "\n",
       "#sk-container-id-2 div.sk-parallel-item::after {\n",
       "  content: \"\";\n",
       "  width: 100%;\n",
       "  border-bottom: 2px solid var(--sklearn-color-text-on-default-background);\n",
       "  flex-grow: 1;\n",
       "}\n",
       "\n",
       "#sk-container-id-2 div.sk-parallel {\n",
       "  display: flex;\n",
       "  align-items: stretch;\n",
       "  justify-content: center;\n",
       "  background-color: var(--sklearn-color-background);\n",
       "  position: relative;\n",
       "}\n",
       "\n",
       "#sk-container-id-2 div.sk-parallel-item {\n",
       "  display: flex;\n",
       "  flex-direction: column;\n",
       "}\n",
       "\n",
       "#sk-container-id-2 div.sk-parallel-item:first-child::after {\n",
       "  align-self: flex-end;\n",
       "  width: 50%;\n",
       "}\n",
       "\n",
       "#sk-container-id-2 div.sk-parallel-item:last-child::after {\n",
       "  align-self: flex-start;\n",
       "  width: 50%;\n",
       "}\n",
       "\n",
       "#sk-container-id-2 div.sk-parallel-item:only-child::after {\n",
       "  width: 0;\n",
       "}\n",
       "\n",
       "/* Serial-specific style estimator block */\n",
       "\n",
       "#sk-container-id-2 div.sk-serial {\n",
       "  display: flex;\n",
       "  flex-direction: column;\n",
       "  align-items: center;\n",
       "  background-color: var(--sklearn-color-background);\n",
       "  padding-right: 1em;\n",
       "  padding-left: 1em;\n",
       "}\n",
       "\n",
       "\n",
       "/* Toggleable style: style used for estimator/Pipeline/ColumnTransformer box that is\n",
       "clickable and can be expanded/collapsed.\n",
       "- Pipeline and ColumnTransformer use this feature and define the default style\n",
       "- Estimators will overwrite some part of the style using the `sk-estimator` class\n",
       "*/\n",
       "\n",
       "/* Pipeline and ColumnTransformer style (default) */\n",
       "\n",
       "#sk-container-id-2 div.sk-toggleable {\n",
       "  /* Default theme specific background. It is overwritten whether we have a\n",
       "  specific estimator or a Pipeline/ColumnTransformer */\n",
       "  background-color: var(--sklearn-color-background);\n",
       "}\n",
       "\n",
       "/* Toggleable label */\n",
       "#sk-container-id-2 label.sk-toggleable__label {\n",
       "  cursor: pointer;\n",
       "  display: block;\n",
       "  width: 100%;\n",
       "  margin-bottom: 0;\n",
       "  padding: 0.5em;\n",
       "  box-sizing: border-box;\n",
       "  text-align: center;\n",
       "}\n",
       "\n",
       "#sk-container-id-2 label.sk-toggleable__label-arrow:before {\n",
       "  /* Arrow on the left of the label */\n",
       "  content: \"▸\";\n",
       "  float: left;\n",
       "  margin-right: 0.25em;\n",
       "  color: var(--sklearn-color-icon);\n",
       "}\n",
       "\n",
       "#sk-container-id-2 label.sk-toggleable__label-arrow:hover:before {\n",
       "  color: var(--sklearn-color-text);\n",
       "}\n",
       "\n",
       "/* Toggleable content - dropdown */\n",
       "\n",
       "#sk-container-id-2 div.sk-toggleable__content {\n",
       "  max-height: 0;\n",
       "  max-width: 0;\n",
       "  overflow: hidden;\n",
       "  text-align: left;\n",
       "  /* unfitted */\n",
       "  background-color: var(--sklearn-color-unfitted-level-0);\n",
       "}\n",
       "\n",
       "#sk-container-id-2 div.sk-toggleable__content.fitted {\n",
       "  /* fitted */\n",
       "  background-color: var(--sklearn-color-fitted-level-0);\n",
       "}\n",
       "\n",
       "#sk-container-id-2 div.sk-toggleable__content pre {\n",
       "  margin: 0.2em;\n",
       "  border-radius: 0.25em;\n",
       "  color: var(--sklearn-color-text);\n",
       "  /* unfitted */\n",
       "  background-color: var(--sklearn-color-unfitted-level-0);\n",
       "}\n",
       "\n",
       "#sk-container-id-2 div.sk-toggleable__content.fitted pre {\n",
       "  /* unfitted */\n",
       "  background-color: var(--sklearn-color-fitted-level-0);\n",
       "}\n",
       "\n",
       "#sk-container-id-2 input.sk-toggleable__control:checked~div.sk-toggleable__content {\n",
       "  /* Expand drop-down */\n",
       "  max-height: 200px;\n",
       "  max-width: 100%;\n",
       "  overflow: auto;\n",
       "}\n",
       "\n",
       "#sk-container-id-2 input.sk-toggleable__control:checked~label.sk-toggleable__label-arrow:before {\n",
       "  content: \"▾\";\n",
       "}\n",
       "\n",
       "/* Pipeline/ColumnTransformer-specific style */\n",
       "\n",
       "#sk-container-id-2 div.sk-label input.sk-toggleable__control:checked~label.sk-toggleable__label {\n",
       "  color: var(--sklearn-color-text);\n",
       "  background-color: var(--sklearn-color-unfitted-level-2);\n",
       "}\n",
       "\n",
       "#sk-container-id-2 div.sk-label.fitted input.sk-toggleable__control:checked~label.sk-toggleable__label {\n",
       "  background-color: var(--sklearn-color-fitted-level-2);\n",
       "}\n",
       "\n",
       "/* Estimator-specific style */\n",
       "\n",
       "/* Colorize estimator box */\n",
       "#sk-container-id-2 div.sk-estimator input.sk-toggleable__control:checked~label.sk-toggleable__label {\n",
       "  /* unfitted */\n",
       "  background-color: var(--sklearn-color-unfitted-level-2);\n",
       "}\n",
       "\n",
       "#sk-container-id-2 div.sk-estimator.fitted input.sk-toggleable__control:checked~label.sk-toggleable__label {\n",
       "  /* fitted */\n",
       "  background-color: var(--sklearn-color-fitted-level-2);\n",
       "}\n",
       "\n",
       "#sk-container-id-2 div.sk-label label.sk-toggleable__label,\n",
       "#sk-container-id-2 div.sk-label label {\n",
       "  /* The background is the default theme color */\n",
       "  color: var(--sklearn-color-text-on-default-background);\n",
       "}\n",
       "\n",
       "/* On hover, darken the color of the background */\n",
       "#sk-container-id-2 div.sk-label:hover label.sk-toggleable__label {\n",
       "  color: var(--sklearn-color-text);\n",
       "  background-color: var(--sklearn-color-unfitted-level-2);\n",
       "}\n",
       "\n",
       "/* Label box, darken color on hover, fitted */\n",
       "#sk-container-id-2 div.sk-label.fitted:hover label.sk-toggleable__label.fitted {\n",
       "  color: var(--sklearn-color-text);\n",
       "  background-color: var(--sklearn-color-fitted-level-2);\n",
       "}\n",
       "\n",
       "/* Estimator label */\n",
       "\n",
       "#sk-container-id-2 div.sk-label label {\n",
       "  font-family: monospace;\n",
       "  font-weight: bold;\n",
       "  display: inline-block;\n",
       "  line-height: 1.2em;\n",
       "}\n",
       "\n",
       "#sk-container-id-2 div.sk-label-container {\n",
       "  text-align: center;\n",
       "}\n",
       "\n",
       "/* Estimator-specific */\n",
       "#sk-container-id-2 div.sk-estimator {\n",
       "  font-family: monospace;\n",
       "  border: 1px dotted var(--sklearn-color-border-box);\n",
       "  border-radius: 0.25em;\n",
       "  box-sizing: border-box;\n",
       "  margin-bottom: 0.5em;\n",
       "  /* unfitted */\n",
       "  background-color: var(--sklearn-color-unfitted-level-0);\n",
       "}\n",
       "\n",
       "#sk-container-id-2 div.sk-estimator.fitted {\n",
       "  /* fitted */\n",
       "  background-color: var(--sklearn-color-fitted-level-0);\n",
       "}\n",
       "\n",
       "/* on hover */\n",
       "#sk-container-id-2 div.sk-estimator:hover {\n",
       "  /* unfitted */\n",
       "  background-color: var(--sklearn-color-unfitted-level-2);\n",
       "}\n",
       "\n",
       "#sk-container-id-2 div.sk-estimator.fitted:hover {\n",
       "  /* fitted */\n",
       "  background-color: var(--sklearn-color-fitted-level-2);\n",
       "}\n",
       "\n",
       "/* Specification for estimator info (e.g. \"i\" and \"?\") */\n",
       "\n",
       "/* Common style for \"i\" and \"?\" */\n",
       "\n",
       ".sk-estimator-doc-link,\n",
       "a:link.sk-estimator-doc-link,\n",
       "a:visited.sk-estimator-doc-link {\n",
       "  float: right;\n",
       "  font-size: smaller;\n",
       "  line-height: 1em;\n",
       "  font-family: monospace;\n",
       "  background-color: var(--sklearn-color-background);\n",
       "  border-radius: 1em;\n",
       "  height: 1em;\n",
       "  width: 1em;\n",
       "  text-decoration: none !important;\n",
       "  margin-left: 1ex;\n",
       "  /* unfitted */\n",
       "  border: var(--sklearn-color-unfitted-level-1) 1pt solid;\n",
       "  color: var(--sklearn-color-unfitted-level-1);\n",
       "}\n",
       "\n",
       ".sk-estimator-doc-link.fitted,\n",
       "a:link.sk-estimator-doc-link.fitted,\n",
       "a:visited.sk-estimator-doc-link.fitted {\n",
       "  /* fitted */\n",
       "  border: var(--sklearn-color-fitted-level-1) 1pt solid;\n",
       "  color: var(--sklearn-color-fitted-level-1);\n",
       "}\n",
       "\n",
       "/* On hover */\n",
       "div.sk-estimator:hover .sk-estimator-doc-link:hover,\n",
       ".sk-estimator-doc-link:hover,\n",
       "div.sk-label-container:hover .sk-estimator-doc-link:hover,\n",
       ".sk-estimator-doc-link:hover {\n",
       "  /* unfitted */\n",
       "  background-color: var(--sklearn-color-unfitted-level-3);\n",
       "  color: var(--sklearn-color-background);\n",
       "  text-decoration: none;\n",
       "}\n",
       "\n",
       "div.sk-estimator.fitted:hover .sk-estimator-doc-link.fitted:hover,\n",
       ".sk-estimator-doc-link.fitted:hover,\n",
       "div.sk-label-container:hover .sk-estimator-doc-link.fitted:hover,\n",
       ".sk-estimator-doc-link.fitted:hover {\n",
       "  /* fitted */\n",
       "  background-color: var(--sklearn-color-fitted-level-3);\n",
       "  color: var(--sklearn-color-background);\n",
       "  text-decoration: none;\n",
       "}\n",
       "\n",
       "/* Span, style for the box shown on hovering the info icon */\n",
       ".sk-estimator-doc-link span {\n",
       "  display: none;\n",
       "  z-index: 9999;\n",
       "  position: relative;\n",
       "  font-weight: normal;\n",
       "  right: .2ex;\n",
       "  padding: .5ex;\n",
       "  margin: .5ex;\n",
       "  width: min-content;\n",
       "  min-width: 20ex;\n",
       "  max-width: 50ex;\n",
       "  color: var(--sklearn-color-text);\n",
       "  box-shadow: 2pt 2pt 4pt #999;\n",
       "  /* unfitted */\n",
       "  background: var(--sklearn-color-unfitted-level-0);\n",
       "  border: .5pt solid var(--sklearn-color-unfitted-level-3);\n",
       "}\n",
       "\n",
       ".sk-estimator-doc-link.fitted span {\n",
       "  /* fitted */\n",
       "  background: var(--sklearn-color-fitted-level-0);\n",
       "  border: var(--sklearn-color-fitted-level-3);\n",
       "}\n",
       "\n",
       ".sk-estimator-doc-link:hover span {\n",
       "  display: block;\n",
       "}\n",
       "\n",
       "/* \"?\"-specific style due to the `<a>` HTML tag */\n",
       "\n",
       "#sk-container-id-2 a.estimator_doc_link {\n",
       "  float: right;\n",
       "  font-size: 1rem;\n",
       "  line-height: 1em;\n",
       "  font-family: monospace;\n",
       "  background-color: var(--sklearn-color-background);\n",
       "  border-radius: 1rem;\n",
       "  height: 1rem;\n",
       "  width: 1rem;\n",
       "  text-decoration: none;\n",
       "  /* unfitted */\n",
       "  color: var(--sklearn-color-unfitted-level-1);\n",
       "  border: var(--sklearn-color-unfitted-level-1) 1pt solid;\n",
       "}\n",
       "\n",
       "#sk-container-id-2 a.estimator_doc_link.fitted {\n",
       "  /* fitted */\n",
       "  border: var(--sklearn-color-fitted-level-1) 1pt solid;\n",
       "  color: var(--sklearn-color-fitted-level-1);\n",
       "}\n",
       "\n",
       "/* On hover */\n",
       "#sk-container-id-2 a.estimator_doc_link:hover {\n",
       "  /* unfitted */\n",
       "  background-color: var(--sklearn-color-unfitted-level-3);\n",
       "  color: var(--sklearn-color-background);\n",
       "  text-decoration: none;\n",
       "}\n",
       "\n",
       "#sk-container-id-2 a.estimator_doc_link.fitted:hover {\n",
       "  /* fitted */\n",
       "  background-color: var(--sklearn-color-fitted-level-3);\n",
       "}\n",
       "</style><div id=\"sk-container-id-2\" class=\"sk-top-container\"><div class=\"sk-text-repr-fallback\"><pre>GridSearchCV(cv=3,\n",
       "             estimator=Pipeline(steps=[(&#x27;columntransformer&#x27;,\n",
       "                                        ColumnTransformer(remainder=&#x27;passthrough&#x27;,\n",
       "                                                          transformers=[(&#x27;standard_scaler&#x27;,\n",
       "                                                                         StandardScaler(),\n",
       "                                                                         [&#x27;age&#x27;,\n",
       "                                                                          &#x27;HbA1c_level&#x27;]),\n",
       "                                                                        (&#x27;minmax_scaler&#x27;,\n",
       "                                                                         MinMaxScaler(),\n",
       "                                                                         [&#x27;bmi&#x27;,\n",
       "                                                                          &#x27;blood_glucose_level&#x27;]),\n",
       "                                                                        (&#x27;encoder&#x27;,\n",
       "                                                                         OneHotEncoder(),\n",
       "                                                                         [&#x27;hypertension&#x27;,\n",
       "                                                                          &#x27;heart_disease&#x27;])])),\n",
       "                                       (&#x27;randomforestclassifier&#x27;,\n",
       "                                        RandomForestClassifier(random_state=20))]),\n",
       "             n_jobs=-1,\n",
       "             param_grid={&#x27;randomforestclassifier__criterion&#x27;: [&#x27;gini&#x27;],\n",
       "                         &#x27;randomforestclassifier__max_depth&#x27;: [35, 36, 45],\n",
       "                         &#x27;randomforestclassifier__min_samples_leaf&#x27;: [1, 2, 3,\n",
       "                                                                      4, 5],\n",
       "                         &#x27;randomforestclassifier__min_samples_split&#x27;: [1, 2, 3,\n",
       "                                                                       4, 5]},\n",
       "             scoring=&#x27;recall&#x27;)</pre><b>In a Jupyter environment, please rerun this cell to show the HTML representation or trust the notebook. <br />On GitHub, the HTML representation is unable to render, please try loading this page with nbviewer.org.</b></div><div class=\"sk-container\" hidden><div class=\"sk-item sk-dashed-wrapped\"><div class=\"sk-label-container\"><div class=\"sk-label fitted sk-toggleable\"><input class=\"sk-toggleable__control sk-hidden--visually\" id=\"sk-estimator-id-12\" type=\"checkbox\" ><label for=\"sk-estimator-id-12\" class=\"sk-toggleable__label fitted sk-toggleable__label-arrow fitted\">&nbsp;&nbsp;GridSearchCV<a class=\"sk-estimator-doc-link fitted\" rel=\"noreferrer\" target=\"_blank\" href=\"https://scikit-learn.org/1.5/modules/generated/sklearn.model_selection.GridSearchCV.html\">?<span>Documentation for GridSearchCV</span></a><span class=\"sk-estimator-doc-link fitted\">i<span>Fitted</span></span></label><div class=\"sk-toggleable__content fitted\"><pre>GridSearchCV(cv=3,\n",
       "             estimator=Pipeline(steps=[(&#x27;columntransformer&#x27;,\n",
       "                                        ColumnTransformer(remainder=&#x27;passthrough&#x27;,\n",
       "                                                          transformers=[(&#x27;standard_scaler&#x27;,\n",
       "                                                                         StandardScaler(),\n",
       "                                                                         [&#x27;age&#x27;,\n",
       "                                                                          &#x27;HbA1c_level&#x27;]),\n",
       "                                                                        (&#x27;minmax_scaler&#x27;,\n",
       "                                                                         MinMaxScaler(),\n",
       "                                                                         [&#x27;bmi&#x27;,\n",
       "                                                                          &#x27;blood_glucose_level&#x27;]),\n",
       "                                                                        (&#x27;encoder&#x27;,\n",
       "                                                                         OneHotEncoder(),\n",
       "                                                                         [&#x27;hypertension&#x27;,\n",
       "                                                                          &#x27;heart_disease&#x27;])])),\n",
       "                                       (&#x27;randomforestclassifier&#x27;,\n",
       "                                        RandomForestClassifier(random_state=20))]),\n",
       "             n_jobs=-1,\n",
       "             param_grid={&#x27;randomforestclassifier__criterion&#x27;: [&#x27;gini&#x27;],\n",
       "                         &#x27;randomforestclassifier__max_depth&#x27;: [35, 36, 45],\n",
       "                         &#x27;randomforestclassifier__min_samples_leaf&#x27;: [1, 2, 3,\n",
       "                                                                      4, 5],\n",
       "                         &#x27;randomforestclassifier__min_samples_split&#x27;: [1, 2, 3,\n",
       "                                                                       4, 5]},\n",
       "             scoring=&#x27;recall&#x27;)</pre></div> </div></div><div class=\"sk-parallel\"><div class=\"sk-parallel-item\"><div class=\"sk-item\"><div class=\"sk-label-container\"><div class=\"sk-label fitted sk-toggleable\"><input class=\"sk-toggleable__control sk-hidden--visually\" id=\"sk-estimator-id-13\" type=\"checkbox\" ><label for=\"sk-estimator-id-13\" class=\"sk-toggleable__label fitted sk-toggleable__label-arrow fitted\">best_estimator_: Pipeline</label><div class=\"sk-toggleable__content fitted\"><pre>Pipeline(steps=[(&#x27;columntransformer&#x27;,\n",
       "                 ColumnTransformer(remainder=&#x27;passthrough&#x27;,\n",
       "                                   transformers=[(&#x27;standard_scaler&#x27;,\n",
       "                                                  StandardScaler(),\n",
       "                                                  [&#x27;age&#x27;, &#x27;HbA1c_level&#x27;]),\n",
       "                                                 (&#x27;minmax_scaler&#x27;,\n",
       "                                                  MinMaxScaler(),\n",
       "                                                  [&#x27;bmi&#x27;,\n",
       "                                                   &#x27;blood_glucose_level&#x27;]),\n",
       "                                                 (&#x27;encoder&#x27;, OneHotEncoder(),\n",
       "                                                  [&#x27;hypertension&#x27;,\n",
       "                                                   &#x27;heart_disease&#x27;])])),\n",
       "                (&#x27;randomforestclassifier&#x27;,\n",
       "                 RandomForestClassifier(max_depth=45, min_samples_split=4,\n",
       "                                        random_state=20))])</pre></div> </div></div><div class=\"sk-serial\"><div class=\"sk-item\"><div class=\"sk-serial\"><div class=\"sk-item sk-dashed-wrapped\"><div class=\"sk-label-container\"><div class=\"sk-label fitted sk-toggleable\"><input class=\"sk-toggleable__control sk-hidden--visually\" id=\"sk-estimator-id-14\" type=\"checkbox\" ><label for=\"sk-estimator-id-14\" class=\"sk-toggleable__label fitted sk-toggleable__label-arrow fitted\">&nbsp;columntransformer: ColumnTransformer<a class=\"sk-estimator-doc-link fitted\" rel=\"noreferrer\" target=\"_blank\" href=\"https://scikit-learn.org/1.5/modules/generated/sklearn.compose.ColumnTransformer.html\">?<span>Documentation for columntransformer: ColumnTransformer</span></a></label><div class=\"sk-toggleable__content fitted\"><pre>ColumnTransformer(remainder=&#x27;passthrough&#x27;,\n",
       "                  transformers=[(&#x27;standard_scaler&#x27;, StandardScaler(),\n",
       "                                 [&#x27;age&#x27;, &#x27;HbA1c_level&#x27;]),\n",
       "                                (&#x27;minmax_scaler&#x27;, MinMaxScaler(),\n",
       "                                 [&#x27;bmi&#x27;, &#x27;blood_glucose_level&#x27;]),\n",
       "                                (&#x27;encoder&#x27;, OneHotEncoder(),\n",
       "                                 [&#x27;hypertension&#x27;, &#x27;heart_disease&#x27;])])</pre></div> </div></div><div class=\"sk-parallel\"><div class=\"sk-parallel-item\"><div class=\"sk-item\"><div class=\"sk-label-container\"><div class=\"sk-label fitted sk-toggleable\"><input class=\"sk-toggleable__control sk-hidden--visually\" id=\"sk-estimator-id-15\" type=\"checkbox\" ><label for=\"sk-estimator-id-15\" class=\"sk-toggleable__label fitted sk-toggleable__label-arrow fitted\">standard_scaler</label><div class=\"sk-toggleable__content fitted\"><pre>[&#x27;age&#x27;, &#x27;HbA1c_level&#x27;]</pre></div> </div></div><div class=\"sk-serial\"><div class=\"sk-item\"><div class=\"sk-estimator fitted sk-toggleable\"><input class=\"sk-toggleable__control sk-hidden--visually\" id=\"sk-estimator-id-16\" type=\"checkbox\" ><label for=\"sk-estimator-id-16\" class=\"sk-toggleable__label fitted sk-toggleable__label-arrow fitted\">&nbsp;StandardScaler<a class=\"sk-estimator-doc-link fitted\" rel=\"noreferrer\" target=\"_blank\" href=\"https://scikit-learn.org/1.5/modules/generated/sklearn.preprocessing.StandardScaler.html\">?<span>Documentation for StandardScaler</span></a></label><div class=\"sk-toggleable__content fitted\"><pre>StandardScaler()</pre></div> </div></div></div></div></div><div class=\"sk-parallel-item\"><div class=\"sk-item\"><div class=\"sk-label-container\"><div class=\"sk-label fitted sk-toggleable\"><input class=\"sk-toggleable__control sk-hidden--visually\" id=\"sk-estimator-id-17\" type=\"checkbox\" ><label for=\"sk-estimator-id-17\" class=\"sk-toggleable__label fitted sk-toggleable__label-arrow fitted\">minmax_scaler</label><div class=\"sk-toggleable__content fitted\"><pre>[&#x27;bmi&#x27;, &#x27;blood_glucose_level&#x27;]</pre></div> </div></div><div class=\"sk-serial\"><div class=\"sk-item\"><div class=\"sk-estimator fitted sk-toggleable\"><input class=\"sk-toggleable__control sk-hidden--visually\" id=\"sk-estimator-id-18\" type=\"checkbox\" ><label for=\"sk-estimator-id-18\" class=\"sk-toggleable__label fitted sk-toggleable__label-arrow fitted\">&nbsp;MinMaxScaler<a class=\"sk-estimator-doc-link fitted\" rel=\"noreferrer\" target=\"_blank\" href=\"https://scikit-learn.org/1.5/modules/generated/sklearn.preprocessing.MinMaxScaler.html\">?<span>Documentation for MinMaxScaler</span></a></label><div class=\"sk-toggleable__content fitted\"><pre>MinMaxScaler()</pre></div> </div></div></div></div></div><div class=\"sk-parallel-item\"><div class=\"sk-item\"><div class=\"sk-label-container\"><div class=\"sk-label fitted sk-toggleable\"><input class=\"sk-toggleable__control sk-hidden--visually\" id=\"sk-estimator-id-19\" type=\"checkbox\" ><label for=\"sk-estimator-id-19\" class=\"sk-toggleable__label fitted sk-toggleable__label-arrow fitted\">encoder</label><div class=\"sk-toggleable__content fitted\"><pre>[&#x27;hypertension&#x27;, &#x27;heart_disease&#x27;]</pre></div> </div></div><div class=\"sk-serial\"><div class=\"sk-item\"><div class=\"sk-estimator fitted sk-toggleable\"><input class=\"sk-toggleable__control sk-hidden--visually\" id=\"sk-estimator-id-20\" type=\"checkbox\" ><label for=\"sk-estimator-id-20\" class=\"sk-toggleable__label fitted sk-toggleable__label-arrow fitted\">&nbsp;OneHotEncoder<a class=\"sk-estimator-doc-link fitted\" rel=\"noreferrer\" target=\"_blank\" href=\"https://scikit-learn.org/1.5/modules/generated/sklearn.preprocessing.OneHotEncoder.html\">?<span>Documentation for OneHotEncoder</span></a></label><div class=\"sk-toggleable__content fitted\"><pre>OneHotEncoder()</pre></div> </div></div></div></div></div><div class=\"sk-parallel-item\"><div class=\"sk-item\"><div class=\"sk-label-container\"><div class=\"sk-label fitted sk-toggleable\"><input class=\"sk-toggleable__control sk-hidden--visually\" id=\"sk-estimator-id-21\" type=\"checkbox\" ><label for=\"sk-estimator-id-21\" class=\"sk-toggleable__label fitted sk-toggleable__label-arrow fitted\">remainder</label><div class=\"sk-toggleable__content fitted\"><pre>[]</pre></div> </div></div><div class=\"sk-serial\"><div class=\"sk-item\"><div class=\"sk-estimator fitted sk-toggleable\"><input class=\"sk-toggleable__control sk-hidden--visually\" id=\"sk-estimator-id-22\" type=\"checkbox\" ><label for=\"sk-estimator-id-22\" class=\"sk-toggleable__label fitted sk-toggleable__label-arrow fitted\">passthrough</label><div class=\"sk-toggleable__content fitted\"><pre>passthrough</pre></div> </div></div></div></div></div></div></div><div class=\"sk-item\"><div class=\"sk-estimator fitted sk-toggleable\"><input class=\"sk-toggleable__control sk-hidden--visually\" id=\"sk-estimator-id-23\" type=\"checkbox\" ><label for=\"sk-estimator-id-23\" class=\"sk-toggleable__label fitted sk-toggleable__label-arrow fitted\">&nbsp;RandomForestClassifier<a class=\"sk-estimator-doc-link fitted\" rel=\"noreferrer\" target=\"_blank\" href=\"https://scikit-learn.org/1.5/modules/generated/sklearn.ensemble.RandomForestClassifier.html\">?<span>Documentation for RandomForestClassifier</span></a></label><div class=\"sk-toggleable__content fitted\"><pre>RandomForestClassifier(max_depth=45, min_samples_split=4, random_state=20)</pre></div> </div></div></div></div></div></div></div></div></div></div></div>"
      ],
      "text/plain": [
       "GridSearchCV(cv=3,\n",
       "             estimator=Pipeline(steps=[('columntransformer',\n",
       "                                        ColumnTransformer(remainder='passthrough',\n",
       "                                                          transformers=[('standard_scaler',\n",
       "                                                                         StandardScaler(),\n",
       "                                                                         ['age',\n",
       "                                                                          'HbA1c_level']),\n",
       "                                                                        ('minmax_scaler',\n",
       "                                                                         MinMaxScaler(),\n",
       "                                                                         ['bmi',\n",
       "                                                                          'blood_glucose_level']),\n",
       "                                                                        ('encoder',\n",
       "                                                                         OneHotEncoder(),\n",
       "                                                                         ['hypertension',\n",
       "                                                                          'heart_disease'])])),\n",
       "                                       ('randomforestclassifier',\n",
       "                                        RandomForestClassifier(random_state=20))]),\n",
       "             n_jobs=-1,\n",
       "             param_grid={'randomforestclassifier__criterion': ['gini'],\n",
       "                         'randomforestclassifier__max_depth': [35, 36, 45],\n",
       "                         'randomforestclassifier__min_samples_leaf': [1, 2, 3,\n",
       "                                                                      4, 5],\n",
       "                         'randomforestclassifier__min_samples_split': [1, 2, 3,\n",
       "                                                                       4, 5]},\n",
       "             scoring='recall')"
      ]
     },
     "execution_count": 59,
     "metadata": {},
     "output_type": "execute_result"
    }
   ],
   "source": [
    "# train with grid search\n",
    "rf_gridcv = GridSearchCV(estimator=pipe_rf,\n",
    "                         param_grid=grid_search_params,\n",
    "                         cv=3,\n",
    "                         n_jobs=-1,\n",
    "                         scoring='recall')\n",
    "rf_gridcv.fit(X_train_balanced, y_train_balanced)"
   ]
  },
  {
   "cell_type": "code",
   "execution_count": 60,
   "metadata": {},
   "outputs": [
    {
     "data": {
      "text/plain": [
       "{'randomforestclassifier__criterion': 'gini',\n",
       " 'randomforestclassifier__max_depth': 45,\n",
       " 'randomforestclassifier__min_samples_leaf': 1,\n",
       " 'randomforestclassifier__min_samples_split': 4}"
      ]
     },
     "execution_count": 60,
     "metadata": {},
     "output_type": "execute_result"
    }
   ],
   "source": [
    "# get best hyperparameters\n",
    "rf_gridcv.best_params_"
   ]
  },
  {
   "cell_type": "markdown",
   "metadata": {},
   "source": [
    "From the results of carring out grid search for hyperparameter tuning, below are the best combination for model:\n",
    "- criterion: 'gini'\n",
    "- max_depth: 45\n",
    "- min_samples_leaf': 1\n",
    "- min_samples_split': 4"
   ]
  },
  {
   "cell_type": "code",
   "execution_count": 61,
   "metadata": {},
   "outputs": [],
   "source": [
    "# get best estimator\n",
    "rf_gridcv_best = rf_gridcv.best_estimator_"
   ]
  },
  {
   "cell_type": "markdown",
   "metadata": {},
   "source": [
    "Next, we will examine the performance of the best model after hyperparameter tuning using confusion matrix."
   ]
  },
  {
   "cell_type": "code",
   "execution_count": 62,
   "metadata": {},
   "outputs": [
    {
     "name": "stdout",
     "output_type": "stream",
     "text": [
      "Recall Score - Test Set   :  0.7415599534342259 \n",
      "\n",
      "Classification Report : \n",
      "               precision    recall  f1-score   support\n",
      "\n",
      "           0       0.97      0.98      0.98     17512\n",
      "           1       0.77      0.74      0.75      1718\n",
      "\n",
      "    accuracy                           0.96     19230\n",
      "   macro avg       0.87      0.86      0.87     19230\n",
      "weighted avg       0.96      0.96      0.96     19230\n",
      " \n",
      "\n",
      "Confusion Matrix      : \n",
      " <sklearn.metrics._plot.confusion_matrix.ConfusionMatrixDisplay object at 0x132fa3b50>\n"
     ]
    },
    {
     "data": {
      "image/png": "[encoded data removed]",
      "text/plain": [
       "<Figure size 640x480 with 2 Axes>"
      ]
     },
     "metadata": {},
     "output_type": "display_data"
    }
   ],
   "source": [
    "# check performance model against test-set\n",
    "y_pred_test_tunning = rf_gridcv.best_estimator_.predict(X_test_feature)\n",
    "\n",
    "print('Recall Score - Test Set   : ', recall_score(y_test, y_pred_test), '\\n')\n",
    "print('Classification Report : \\n', classification_report(y_test, y_pred_test), '\\n')\n",
    "print('Confusion Matrix      : \\n', ConfusionMatrixDisplay.from_estimator(rf_gridcv.best_estimator_, X_test_feature, y_test, cmap='Reds'))"
   ]
  },
  {
   "cell_type": "code",
   "execution_count": 63,
   "metadata": {},
   "outputs": [],
   "source": [
    "# define confusion matrix\n",
    "cm_tuning = confusion_matrix(y_test, y_pred_test_tunning)\n",
    "\n",
    "# confusion matrix to extract false positive\n",
    "fp = cm_tuning[0][1]\n",
    "\n",
    "# confusion matrix to extract false negative\n",
    "fn = cm_tuning[1][0]"
   ]
  },
  {
   "cell_type": "code",
   "execution_count": 64,
   "metadata": {},
   "outputs": [
    {
     "data": {
      "text/html": [
       "<div>\n",
       "<style scoped>\n",
       "    .dataframe tbody tr th:only-of-type {\n",
       "        vertical-align: middle;\n",
       "    }\n",
       "\n",
       "    .dataframe tbody tr th {\n",
       "        vertical-align: top;\n",
       "    }\n",
       "\n",
       "    .dataframe thead th {\n",
       "        text-align: right;\n",
       "    }\n",
       "</style>\n",
       "<table border=\"1\" class=\"dataframe\">\n",
       "  <thead>\n",
       "    <tr style=\"text-align: right;\">\n",
       "      <th></th>\n",
       "      <th>Baseline (Default Hyperparameter)</th>\n",
       "      <th>Grid Search</th>\n",
       "    </tr>\n",
       "  </thead>\n",
       "  <tbody>\n",
       "    <tr>\n",
       "      <th>train - recall_score</th>\n",
       "      <td>0.997562</td>\n",
       "      <td>0.997562</td>\n",
       "    </tr>\n",
       "    <tr>\n",
       "      <th>test - recall_score</th>\n",
       "      <td>0.741560</td>\n",
       "      <td>0.743888</td>\n",
       "    </tr>\n",
       "    <tr>\n",
       "      <th>test - false positive</th>\n",
       "      <td>386.000000</td>\n",
       "      <td>359.000000</td>\n",
       "    </tr>\n",
       "    <tr>\n",
       "      <th>test - false negative</th>\n",
       "      <td>444.000000</td>\n",
       "      <td>440.000000</td>\n",
       "    </tr>\n",
       "  </tbody>\n",
       "</table>\n",
       "</div>"
      ],
      "text/plain": [
       "                       Baseline (Default Hyperparameter)  Grid Search\n",
       "train - recall_score                            0.997562     0.997562\n",
       "test - recall_score                             0.741560     0.743888\n",
       "test - false positive                         386.000000   359.000000\n",
       "test - false negative                         444.000000   440.000000"
      ]
     },
     "execution_count": 64,
     "metadata": {},
     "output_type": "execute_result"
    }
   ],
   "source": [
    "# save classification report into a dictionary\n",
    "all_reports = performance_report(all_reports, y_train_balanced, y_pred_train, y_test, y_pred_test_tunning, 'Grid Search')\n",
    "pd.DataFrame(all_reports)"
   ]
  },
  {
   "cell_type": "markdown",
   "metadata": {},
   "source": [
    "From the results of hyperparameter tuning using grid search on Random Forest, it showed improvements in test recall score and false negatives. \n",
    "`Despite the model still being considered overfitting, the increase in test recall score indicates improvement, as it successfully narrowed the gap to become more well-fitted`, with the difference between train and test recall scores reducing to 0.253674. \n",
    "Although the primary goal was to minimize false negatives, there was also a decrease in false positives. This reduction in false positives and false negatives also demonstrates improvement in the model after hyperparameter tuning with grid search, resulting in values of 359 and 440 respectively."
   ]
  },
  {
   "cell_type": "markdown",
   "metadata": {},
   "source": [
    "## Model Saving"
   ]
  },
  {
   "cell_type": "markdown",
   "metadata": {},
   "source": [
    "Saving results of the best Random Forest Classifier model into the pkl file for inference and deployment purposes."
   ]
  },
  {
   "cell_type": "code",
   "execution_count": 65,
   "metadata": {},
   "outputs": [],
   "source": [
    "# save files\n",
    "with open('rf_gridcv_best.pkl', 'wb') as file_1:\n",
    "  pickle.dump(rf_gridcv_best, file_1)"
   ]
  },
  {
   "cell_type": "markdown",
   "metadata": {},
   "source": [
    "## Model Inference"
   ]
  },
  {
   "cell_type": "markdown",
   "metadata": {},
   "source": [
    "Model inference is the process of applying a mission learning model that has been created to predict data. The notebook file for the inference model is created separately in the notebook `P1M2_divani_rafitya_inf.ipynb` because this notebook contains confidential data."
   ]
  },
  {
   "cell_type": "markdown",
   "metadata": {},
   "source": [
    "## Conclusion"
   ]
  },
  {
   "cell_type": "markdown",
   "metadata": {},
   "source": [
    "- The difference between patients diagnosed with diabetes and without diabetes is very significant, with only 8.82% of the total patients having diabetes.\n",
    "- Gender that dominates is Female for both patients with diabetes and without diabetes. This may indicate that the female gender has a greater risk of diabetes, which usually occurs after menopause due to hormonal changes.\n",
    "- Less than half of the patients with hypertension have diabetes. This indicates that a patient can experience hypertension without having diabetes because hypertension occurs when blood pressure in the arteries continues to increase consistently. On the other hand, patients who have a history of diabetes tend to experience hypertension, which is caused by various factors such as genetics, unhealthy lifestyle, age, overweight or obesity, and environmental factors.\n",
    "- The majority of patients do not have a history of heart disease. This indicates that many patients with heart disease do not have diabetes. However, people with diabetes have a higher risk of developing heart disease compared to patients who do not have diabetes.\n",
    "- The majority of patients are included in the category of never smoking based on patients smoking history. This indicates that the majority of patients do not have a high risk for diabetes. This is because smoking can increase a person's risk of diabetes. After all, it can cause the body to become less responsive to the insulin produced (insulin resistance), which will increase the risk of diabetes.\n",
    "- Many patients are included in the Overweight and Obesity categories based on body mass index (BMI). This indicates that patients in these two categories are at high risk for diabetes because excessive body fat can interfere with the body's ability to use insulin effectively (insulin resistance), which will increase the risk of diabetes.\n",
    "- Many patients are included in the prediabetes category based on the average blood sugar during the last 2-3 months of 5.7% - 6.4%, where this category has a high risk of diabetes. Although further examination by a doctor is needed, high HbA1c levels indicate a person has diabetes because it assesses long-term blood sugar control over the last 2-3 months.\n",
    "- Many patients are included in the diabetes category based on their blood sugar levels, which are above 125mg/dL. Although further examination by a doctor is needed, high blood sugar usually indicates the main symptom of someone suffering from diabetes.\n",
    "\n",
    "Based on the insight obtained from exploratory data analysis, it shows that many patients have risk factors for diabetes, such as being overweight or obese, having elevated HbA1c levels suggesting prediabetes, and a significant number diagnosed with diabetes based on blood sugar levels.\n",
    "Thus, creating machine learning is necessary to predict patients at risk of developing diabetes based on their medical history, enabling the implementation of suitable treatment plans and minimizing a condition where patient may have diabetes (testing positive) despite negative test results."
   ]
  },
  {
   "cell_type": "markdown",
   "metadata": {},
   "source": [
    "Therefore, I created a machine learning model to be able to identify patients who may be at risk of developing diabetes. This machine learning model will compare six different classification models using cross validation to prevent overfitting and helps us understand the data better and reduces dependence on just one model. From the comparison results using cross validation, the best model is Random Forest Classifier with a mean value of 0.9725162687060974.\n",
    "\n",
    "Based on the performance evaluation of Random Forest Classifier model, the results indicate that the `machine learning model tends to overfit`, as the recall score on the training set exceeds 80%, while the difference between training and testing is more than 5%. Furthermore, I use grid search technique for hyperparameter tuning to systematically evaluate all combinations of predefined parameters and determine the best combination for the model.\n",
    "\n",
    "From the results of hyperparameter tuning using grid search on Random Forest, it showed improvements in test recall score and false negatives. `Despite the model still being considered overfitting, the increase in test recall score indicates improvement, as it successfully narrowed the gap to become more well-fitted`, with the difference between train and test recall scores reducing to 0.253674. \n",
    "Although the primary goal was to minimize false negatives, there was also a decrease in false positives. This reduction in false positives and false negatives also demonstrates improvement in the model after hyperparameter tuning with grid search, resulting in values of 359 and 440 respectively."
   ]
  },
  {
   "cell_type": "markdown",
   "metadata": {},
   "source": [
    "Advantages of the machine learning model developed are as followed:\n",
    "- There was improvement post-tuning as the test recall score increased, thereby reducing the gap between train and test results.\n",
    "- Post-tuning improvements are shown with a decrease in false negative predictions.\n",
    "- Despite the goals is to minimize false negatives, there was also a reduction in false positive predictions.\n",
    "- GridSearch was utilized for hyperparameter tuning to optimize modeling and training by testing all combinations with predefined parameters to determine the best model configuration.\n",
    "\n",
    "Disadvantages of the model include:\n",
    "- The model still considered overfitting, as despite narrowing the gap, the difference between train and test results remains above 5%, approximately 20%.\n",
    "- The use of GridSearch for hyperparameter tuning may cause the model to be overly adjusted to the validation set, potentially not reflecting true performance on new data.\n",
    "\n",
    "Therefore, to improve the optimization of machine learning evaluations, the following steps can be taken:\n",
    "- Improvement on feature engineering: implement outlier handling by trimming data to reduce the percentage of outliers to below 5%. This may decrease the dataset size for training but is expected to improve the gap between train-set and test-set results to achieve a good fit and minimize prediction errors.\n",
    "- Improvement on hyperparameter tuning: expand the range in hyperparameter tuning to achieve a test recall score of 0.8 and reduce false negatives to 200, aiming for a good fit and enhanced prediction accuracy.\n",
    "- Improvement on hyperparameter tuning: experiment with random search for hyperparameter tuning and compare both GridSearch and RandomSearch results to determine which method better mitigates overfitting."
   ]
  },
  {
   "cell_type": "markdown",
   "metadata": {},
   "source": [
    "Here is the analysis of the weaknesses found in the machine learning model's predictions, which will be useful for improving the model and conducting further analysis for decision-making purposes."
   ]
  },
  {
   "cell_type": "code",
   "execution_count": 66,
   "metadata": {},
   "outputs": [
    {
     "name": "stdout",
     "output_type": "stream",
     "text": [
      "\n",
      "Mean for False Negative: \n",
      "            age        bmi  HbA1c_level  blood_glucose_level\n",
      "mean  58.584091  31.098727     6.082955           150.768182\n",
      "50%   59.000000  28.510000     6.100000           155.000000\n",
      "min   15.000000  19.330000     5.700000           126.000000\n",
      "max   80.000000  66.880000     6.600000           200.000000\n",
      "\n",
      "Mean for False Positive: \n",
      "            age        bmi  HbA1c_level  blood_glucose_level\n",
      "mean  66.036212  33.055153     6.112813           151.802228\n",
      "50%   68.000000  30.560000     6.100000           145.000000\n",
      "min   29.000000  17.180000     5.700000           126.000000\n",
      "max   80.000000  65.910000     6.600000           200.000000\n",
      "\n",
      "Mode for False Negative: \n",
      "gender             Female\n",
      "hypertension            0\n",
      "heart_disease           0\n",
      "smoking_history     never\n",
      "Name: 0, dtype: object\n",
      "\n",
      "Mode for False Positive: \n",
      "gender             Female\n",
      "hypertension            0\n",
      "heart_disease           0\n",
      "smoking_history     never\n",
      "Name: 0, dtype: object\n"
     ]
    }
   ],
   "source": [
    "# create new column\n",
    "evaluation = X_test.copy() #create duplicate \n",
    "evaluation['label'] = y_test\n",
    "evaluation['prediction'] = y_pred_test_tunning\n",
    "\n",
    "# devide evaluation data based on prediction and label\n",
    "fn_eval = evaluation[(evaluation['label'] == 1) & (evaluation['prediction'] == 0)]\n",
    "fp_eval = evaluation[(evaluation['label'] == 0) & (evaluation['prediction'] == 1)]\n",
    "\n",
    "# statistics for each subset from raw data\n",
    "data_num = ['age','bmi','HbA1c_level','blood_glucose_level']\n",
    "data_cat = ['gender','hypertension','heart_disease','smoking_history']\n",
    "fn_stats = fn_eval[data_num].describe().loc[['mean','50%','min','max']]\n",
    "fp_stats = fp_eval[data_num].describe().loc[['mean','50%','min','max']]\n",
    "fn_mode = fn_eval[data_cat].mode().iloc[0]\n",
    "fp_mode = fp_eval[data_cat].mode().iloc[0]\n",
    "\n",
    "print(f'\\nMean for False Negative: \\n{fn_stats}')\n",
    "print(f'\\nMean for False Positive: \\n{fp_stats}')\n",
    "print(f'\\nMode for False Negative: \\n{fn_mode}')\n",
    "print(f'\\nMode for False Positive: \\n{fp_mode}')"
   ]
  },
  {
   "cell_type": "markdown",
   "metadata": {},
   "source": [
    "Based on the evaluation conducted, the machine learning model that I have developed still exhibits weaknesses in predicting the patient's condition based on the following medical history. This indicates the possibility of errors in predicting whether the patient is at risk of diabetes or not.\n",
    "- Gender: Female\n",
    "- Age: 58\n",
    "- Hypertension: No\n",
    "- Heart Disease: No\n",
    "- Smoking History: Never\n",
    "- BMI: 31.09\n",
    "- HbA1c Level: 6.08\n",
    "- Blood Sugar Level: 150.77\n",
    "\n",
    "If a patient's medical condition meets the mentioned criteria, there is a possibility that patient may have diabetes (testing positive) despite negative test results. Thus, `the business solution is to recommend further examination by a doctor after predicting with machine learning.`"
   ]
  },
  {
   "cell_type": "markdown",
   "metadata": {},
   "source": [
    "## Conceptual Problems"
   ]
  },
  {
   "cell_type": "markdown",
   "metadata": {},
   "source": [
    "1. Bootstrap Aggregating (Bagging) is an ensemble learning method developed to mitigate overfitting by utilizing variations from multiple different subsets of data. It starts by randomly sampling with replacement from the training data, allowing each sample to be selected more than once or not at all. This process creates several diverse subsets from the training data. Each subset is then independently and in parallel used to train multiple machine learning models. After training, predictions from each model are combined using majority voting (for classification) or averaging (for regression) to generate a final prediction that is more stable and accurate.\n",
    "Random Forest is a popular example of a bagging algorithm, where each model is built using several randomly sampled decision trees from the training data to enhance prediction accuracy and mitigate the risk of overfitting."
   ]
  },
  {
   "cell_type": "markdown",
   "metadata": {},
   "source": [
    "2. Boosting is a machine learning technique that improves model performance by sequentially combining multiple weak models into a stronger one. It starts by building the first model and evaluating its performance on the training data. Each subsequent model focuses on correcting the errors of the previous model, assigning higher weights to more challenging data points. This repetitive process enhances overall performance, and predictions from all models are combined to generate a more accurate final prediction.\n",
    "AdaBoost and XGBoost are popular examples of boosting algorithms used to tackle complex and diverse data. Their key difference lies in the distribution of labels in the dataset. AdaBoost is suitable when the label distribution in both the train-set and test-set is balanced. On the other hand, XGBoost is more appropriate for datasets where the label distribution is imbalanced.\n",
    "\n",
    "Here are the differences in how Random Forest works with XGBoost:\n",
    "- Random Forest: utilizes the bagging approach by training multiple decision trees in parallel to mitigate overfitting. It combines many independent decision trees and aggregates predictions by selecting the most common result or averaging predictions. Each tree is built using a random subset of the training data. Random Forest is suitable for complex and unstructured data, particularly when the dataset has numerous features to prevent overfitting.\n",
    "- XGBoost: implements the boosting approach by sequentially training weak learners (typically shallow decision trees) to correct errors in the training data. It focuses on learning from errors first to gradually improve prediction accuracy. XGBoost is also suitable for complex and unstructured data, especially when the distribution of the target/label data is imbalanced."
   ]
  },
  {
   "cell_type": "markdown",
   "metadata": {},
   "source": [
    "3. Cross-validation is a crucial method in machine learning for assessing how well a model can predict new data. It involves dividing the dataset into training and validation sets using multiple folds (cv), which helps prevent overfitting and provides a more accurate evaluation of the model's generalization ability. This process ensures that the model not only performs well on training data but also results in reliable predictions for new data, thus it can identifying potential issues of overfitting or underfitting. Overall, cross-validation enhances the robustness and reliability of machine learning models in practical applications."
   ]
  }
 ],
 "metadata": {
  "kernelspec": {
   "display_name": "Python 3",
   "language": "python",
   "name": "python3"
  },
  "language_info": {
   "codemirror_mode": {
    "name": "ipython",
    "version": 3
   },
   "file_extension": ".py",
   "mimetype": "text/x-python",
   "name": "python",
   "nbconvert_exporter": "python",
   "pygments_lexer": "ipython3",
   "version": "3.11.7"
  }
 },
 "nbformat": 4,
 "nbformat_minor": 2
}
