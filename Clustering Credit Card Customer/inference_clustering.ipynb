{
 "cells": [
  {
   "cell_type": "markdown",
   "metadata": {},
   "source": [
    "---\n",
    "\n",
    "Name: Divani Rafitya\n",
    "\n",
    "---"
   ]
  },
  {
   "cell_type": "code",
   "execution_count": 1,
   "metadata": {},
   "outputs": [],
   "source": [
    "# import library\n",
    "import pandas as pd\n",
    "import numpy as np\n",
    "import pickle\n",
    "import json\n",
    "import warnings\n",
    "warnings.filterwarnings('ignore')"
   ]
  },
  {
   "cell_type": "code",
   "execution_count": 2,
   "metadata": {},
   "outputs": [],
   "source": [
    "# load all files\n",
    "with open('list_features.txt', 'r') as file_1:\n",
    "  features = json.load(file_1)\n",
    "\n",
    "with open('model_scaler.pkl', 'rb') as file_2:\n",
    "  scaler = pickle.load(file_2)\n",
    "\n",
    "with open('model_pca.pkl', 'rb') as file_3:\n",
    "  pca = pickle.load(file_3)\n",
    "\n",
    "with open('model_kmeans.pkl', 'rb') as file_4:\n",
    "  kmeans = pickle.load(file_4)"
   ]
  },
  {
   "cell_type": "code",
   "execution_count": 3,
   "metadata": {},
   "outputs": [
    {
     "data": {
      "text/html": [
       "<div>\n",
       "<style scoped>\n",
       "    .dataframe tbody tr th:only-of-type {\n",
       "        vertical-align: middle;\n",
       "    }\n",
       "\n",
       "    .dataframe tbody tr th {\n",
       "        vertical-align: top;\n",
       "    }\n",
       "\n",
       "    .dataframe thead th {\n",
       "        text-align: right;\n",
       "    }\n",
       "</style>\n",
       "<table border=\"1\" class=\"dataframe\">\n",
       "  <thead>\n",
       "    <tr style=\"text-align: right;\">\n",
       "      <th></th>\n",
       "      <th>CUST_ID</th>\n",
       "      <th>BALANCE</th>\n",
       "      <th>BALANCE_FREQUENCY</th>\n",
       "      <th>PURCHASES</th>\n",
       "      <th>ONEOFF_PURCHASES</th>\n",
       "      <th>INSTALLMENTS_PURCHASES</th>\n",
       "      <th>CASH_ADVANCE</th>\n",
       "      <th>PURCHASES_FREQUENCY</th>\n",
       "      <th>ONEOFF_PURCHASES_FREQUENCY</th>\n",
       "      <th>PURCHASES_INSTALLMENTS_FREQUENCY</th>\n",
       "      <th>CASH_ADVANCE_FREQUENCY</th>\n",
       "      <th>CASH_ADVANCE_TRX</th>\n",
       "      <th>PURCHASES_TRX</th>\n",
       "      <th>CREDIT_LIMIT</th>\n",
       "      <th>PAYMENTS</th>\n",
       "      <th>MINIMUM_PAYMENTS</th>\n",
       "      <th>PRC_FULL_PAYMENT</th>\n",
       "      <th>TENURE</th>\n",
       "    </tr>\n",
       "  </thead>\n",
       "  <tbody>\n",
       "    <tr>\n",
       "      <th>0</th>\n",
       "      <td>12345</td>\n",
       "      <td>5000</td>\n",
       "      <td>0.9</td>\n",
       "      <td>1000</td>\n",
       "      <td>200</td>\n",
       "      <td>100</td>\n",
       "      <td>100</td>\n",
       "      <td>0.125</td>\n",
       "      <td>0.125</td>\n",
       "      <td>0.125</td>\n",
       "      <td>0.9</td>\n",
       "      <td>10</td>\n",
       "      <td>10</td>\n",
       "      <td>5000</td>\n",
       "      <td>2000</td>\n",
       "      <td>900</td>\n",
       "      <td>0.5</td>\n",
       "      <td>8</td>\n",
       "    </tr>\n",
       "  </tbody>\n",
       "</table>\n",
       "</div>"
      ],
      "text/plain": [
       "   CUST_ID  BALANCE  BALANCE_FREQUENCY  PURCHASES  ONEOFF_PURCHASES  \\\n",
       "0    12345     5000                0.9       1000               200   \n",
       "\n",
       "   INSTALLMENTS_PURCHASES  CASH_ADVANCE  PURCHASES_FREQUENCY  \\\n",
       "0                     100           100                0.125   \n",
       "\n",
       "   ONEOFF_PURCHASES_FREQUENCY  PURCHASES_INSTALLMENTS_FREQUENCY  \\\n",
       "0                       0.125                             0.125   \n",
       "\n",
       "   CASH_ADVANCE_FREQUENCY  CASH_ADVANCE_TRX  PURCHASES_TRX  CREDIT_LIMIT  \\\n",
       "0                     0.9                10             10          5000   \n",
       "\n",
       "   PAYMENTS  MINIMUM_PAYMENTS  PRC_FULL_PAYMENT  TENURE  \n",
       "0      2000               900               0.5       8  "
      ]
     },
     "execution_count": 3,
     "metadata": {},
     "output_type": "execute_result"
    }
   ],
   "source": [
    "# call function\n",
    "df_inf = {\n",
    "    'CUST_ID': 12345,\n",
    "    'BALANCE': 5000,\n",
    "    'BALANCE_FREQUENCY': 0.9,\n",
    "    'PURCHASES': 1000,\n",
    "    'ONEOFF_PURCHASES': 200,\n",
    "    'INSTALLMENTS_PURCHASES': 100,\n",
    "    'CASH_ADVANCE': 100,\n",
    "    'PURCHASES_FREQUENCY': 0.125,\n",
    "    'ONEOFF_PURCHASES_FREQUENCY': 0.125,\n",
    "    'PURCHASES_INSTALLMENTS_FREQUENCY': 0.125,\n",
    "    'CASH_ADVANCE_FREQUENCY': 0.9,\n",
    "    'CASH_ADVANCE_TRX': 10,\n",
    "    'PURCHASES_TRX': 10,\n",
    "    'CREDIT_LIMIT': 5000,\n",
    "    'PAYMENTS': 2000,\n",
    "    'MINIMUM_PAYMENTS': 900,\n",
    "    'PRC_FULL_PAYMENT': 0.5,\n",
    "    'TENURE': 8\n",
    "}\n",
    "\n",
    "# create dataframe\n",
    "df_inf = pd.DataFrame([df_inf])\n",
    "\n",
    "# show dataframe\n",
    "df_inf"
   ]
  },
  {
   "cell_type": "code",
   "execution_count": 4,
   "metadata": {},
   "outputs": [],
   "source": [
    "# using only selected features for inference\n",
    "df_inf_features = df_inf[features]"
   ]
  },
  {
   "cell_type": "code",
   "execution_count": 5,
   "metadata": {},
   "outputs": [],
   "source": [
    "# scaling selected features\n",
    "df_inf_scaled = scaler.transform(df_inf_features)\n",
    "\n",
    "# dimensional reduction using pca\n",
    "df_inf_pca = pca.transform(df_inf_scaled)"
   ]
  },
  {
   "cell_type": "code",
   "execution_count": 6,
   "metadata": {},
   "outputs": [
    {
     "name": "stdout",
     "output_type": "stream",
     "text": [
      "Customer termasuk ke dalam Cluster 3\n"
     ]
    }
   ],
   "source": [
    "# print result\n",
    "predict = kmeans.predict(df_inf_pca)\n",
    "\n",
    "for i in predict:\n",
    "    if i == 0:\n",
    "        print('Customer termasuk ke dalam Cluster 0')\n",
    "    elif i == 1:\n",
    "        print('Customer termasuk ke dalam Cluster 1')\n",
    "    elif i == 2:\n",
    "        print('Customer termasuk ke dalam Cluster 2')\n",
    "    elif i == 3:\n",
    "        print('Customer termasuk ke dalam Cluster 3')"
   ]
  }
 ],
 "metadata": {
  "kernelspec": {
   "display_name": "Python 3",
   "language": "python",
   "name": "python3"
  },
  "language_info": {
   "codemirror_mode": {
    "name": "ipython",
    "version": 3
   },
   "file_extension": ".py",
   "mimetype": "text/x-python",
   "name": "python",
   "nbconvert_exporter": "python",
   "pygments_lexer": "ipython3",
   "version": "3.11.7"
  }
 },
 "nbformat": 4,
 "nbformat_minor": 2
}
